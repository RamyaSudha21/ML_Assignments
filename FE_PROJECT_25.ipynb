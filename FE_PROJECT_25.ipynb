{
 "cells": [
  {
   "cell_type": "markdown",
   "metadata": {
    "id": "67YXtY0KJsJH"
   },
   "source": [
    "<h1><center>SwiggyTo</center></h1>"
   ]
  },
  {
   "cell_type": "code",
   "execution_count": 1,
   "metadata": {
    "id": "rwDAbp8yb0XG"
   },
   "outputs": [],
   "source": [
    "import pandas as pd \n",
    "import seaborn as sns\n",
    "import matplotlib.pyplot as plt  \n",
    "import numpy as np     \n",
    "%matplotlib inline \n",
    "\n",
    "from sklearn.linear_model import LinearRegression\n",
    "from sklearn.model_selection import train_test_split\n",
    "from sklearn.preprocessing import MinMaxScaler\n",
    "from sklearn.metrics import mean_absolute_error, mean_squared_error, r2_score\n",
    "import statsmodels.api as sm"
   ]
  },
  {
   "cell_type": "markdown",
   "metadata": {
    "id": "lwquYKeEJ-Qi"
   },
   "source": [
    "<h4>(A) DATA QUALITY AND TRANSFORMATION</h4>"
   ]
  },
  {
   "cell_type": "code",
   "execution_count": 2,
   "metadata": {
    "colab": {
     "base_uri": "https://localhost:8080/"
    },
    "id": "Z2amzNabb5tl",
    "outputId": "6a132eb5-0e3b-4ed9-8dbb-251b48420471"
   },
   "outputs": [
    {
     "data": {
      "text/plain": [
       "Index(['ID', 'Provider', 'DateTime', 'Distance', 'Status', 'Cost', 'PromoCode',\n",
       "       'Delivery Time', 'Discount', 'Paid amount', 'Payment mode',\n",
       "       'Delivery charges', 'Surge charges', 'Packaging charges', 'ST', 'Tip',\n",
       "       'PureVeg', 'Items', 'Membership', 'Type', 'Rating'],\n",
       "      dtype='object')"
      ]
     },
     "execution_count": 2,
     "metadata": {},
     "output_type": "execute_result"
    }
   ],
   "source": [
    "google_docs_file_url='https://drive.google.com/file/d/1FhsZD6dnPYUFLaSf21cIa6aalBzsa7iB/view?usp=sharing'\n",
    "file_id=google_docs_file_url.split('/')[-2]\n",
    "file_path='https://drive.google.com/uc?id=' + file_id\n",
    "data = pd.read_csv(file_path)\n",
    "data.columns"
   ]
  },
  {
   "cell_type": "markdown",
   "metadata": {
    "id": "gC8ZI_tRKI-F"
   },
   "source": [
    "<b>Rating</b> is our Targest variable. Except that all are features."
   ]
  },
  {
   "cell_type": "markdown",
   "metadata": {
    "id": "sUx_mKr4KtYK"
   },
   "source": [
    "Let's see what is the data available for us to process in each and every column."
   ]
  },
  {
   "cell_type": "code",
   "execution_count": 3,
   "metadata": {
    "colab": {
     "base_uri": "https://localhost:8080/"
    },
    "id": "1ARYSicgTgCZ",
    "outputId": "cfe0b148-0da7-4fd2-e47b-ffe370070c04"
   },
   "outputs": [
    {
     "name": "stdout",
     "output_type": "stream",
     "text": [
      "ID\n",
      "[  1.   2.   3.   4. 423.   5.   6.   7.   8.   9.  10.  11.  12.  13.\n",
      "  14.  15.  16.  nan  17.  18.  19.  20.  21.  22.  23.  24.  25.  26.\n",
      "  27.  28.  29.  30.  31. 310.  32.  33.  34.  35.  36.  37.  56.  38.\n",
      "  39.  40. 467.  41.  42.  43.  44.  45.  46.  47. 456.  48.  49.  50.\n",
      "  51.]\n",
      "Provider\n",
      "[nan]\n",
      "DateTime\n",
      "['1-July-2020 8.38 PM' '1-July-2020 8.38 AM' '1-July-2020 9.00 PM'\n",
      " '1-July-2020 7.30 PM' '1-July-2020 7.38 PM' '1-July-2020 9.38 AM'\n",
      " '1-July-2020 8.00 PM' '2-July-2020 8.38 PM' '2-July-2020 8.38 AM'\n",
      " '2-July-2020 9.00 PM' '2-July-2020 7.30 PM' '2-July-2020 7.38 PM'\n",
      " '2-July-2020 9.38 AM' '2-July-2020 8.00 PM' '3-July-2020 8.38 PM'\n",
      " '3-July-2020 8.38 AM' '3-July-2020 9.00 PM' '3-July-2020 7.30 PM'\n",
      " '3-July-2020 7.38 PM' '3-July-2020 9.38 AM' '3-July-2020 8.00 PM'\n",
      " '4-July-2020 8.38 PM' '4-July-2020 8.38 AM' '4-July-2020 9.00 PM'\n",
      " '4-July-2020 7.30 PM' '4-July-2020 7.38 PM' '4-July-2020 9.38 AM'\n",
      " '4-July-2020 8.00 PM' '5-July-2020 8.38 PM' '5-July-2020 8.38 AM'\n",
      " '5-July-2020 9.00 PM' '5-July-2020 7.30 PM' '5-July-2020 7.38 PM'\n",
      " '5-July-2020 9.38 AM' '5-July-2020 8.00 PM']\n",
      "Distance\n",
      "[ 3.  6.  4. nan -2.]\n",
      "Status\n",
      "['Delivered' 'Cancelled' nan]\n",
      "Cost\n",
      "['300' '100' '250' '550' '125' '280' '120' '230' '450' '150' '500' '400'\n",
      " '200' 'COD' '350' '600' '225' '380' '220' '330']\n",
      "PromoCode\n",
      "['PRO' 'BF' nan '20']\n",
      "Delivery Time\n",
      "['1-July-2020 9.38 PM' '1-July-2020 8.58 AM' '1-July-2020 9.30 PM'\n",
      " '1-July-2020 9.05 PM' '1-July-2020 7.38 PM' '1-July-2020 8.38 PM'\n",
      " '1-July-2020 9.58 AM' '1-July-2020 8.30 PM' '2-July-2020 9.38 PM'\n",
      " '2-July-2020 8.58 AM' '2-July-2020 10.30 PM' '2-July-2020 9.05 PM'\n",
      " '2-July-2020 8.38 PM' '2-July-2020 9.58 AM' '2-July-2020 9.30 PM' nan\n",
      " '3-July-2020 9.38 PM' '3-July-2020 8.58 AM' '3-July-2020 9.30 PM'\n",
      " '3-July-2020 9.05 PM' '3-July-2020 8.38 PM' '3-July-2020 9.58 AM'\n",
      " '3-July-2020 8.30 PM' '4-July-2020 9.38 PM' '4-July-2020 7.38 PM'\n",
      " '4-July-2020 8.58 AM' '4-July-2020 10.30 PM' '4-July-2020 9.05 PM'\n",
      " '4-July-2020 8.38 PM' '4-July-2020 9.58 AM' '4-July-2020 9.30 PM'\n",
      " '5-July-2020 9.38 PM' '5-July-2020 8.58 AM' '5-July-2020 9.30 PM'\n",
      " '5-July-2020 9.05 PM' '5-July-2020 8.38 PM' '5-July-2020 9.58 AM'\n",
      " '5-July-2020 8.30 PM']\n",
      "Discount\n",
      "[ 50.  nan  25.  10. -25.]\n",
      "Paid amount\n",
      "[nan  5.]\n",
      "Payment mode\n",
      "['COD' 'WALLET' 'CARD' nan]\n",
      "Delivery charges\n",
      "['20' '25' 'Y']\n",
      "Surge charges\n",
      "[nan '10' 'DAL;ROTI' '20']\n",
      "Packaging charges\n",
      "['10' 'NO']\n",
      "ST\n",
      "['5' 'VEG']\n",
      "Tip\n",
      "[nan  5.  2.]\n",
      "PureVeg\n",
      "['Y' 'N' nan]\n",
      "Items\n",
      "['PANEER;ROTI' 'DAL;CHICKEN;ROTI' 'MIXVEG;RICE' 'CHICKEN;BIRYANI'\n",
      " 'DAL;ROTI' nan]\n",
      "Membership\n",
      "['BING' 'BONG' 'NO' nan]\n",
      "Type\n",
      "['VEG' 'MIX' nan]\n",
      "Rating\n",
      "[ 2.  4.  0.  1.  3. nan  5.]\n"
     ]
    }
   ],
   "source": [
    "def find_unique_values():\n",
    "  columns = data.columns\n",
    "  for column in columns:\n",
    "    print(column)\n",
    "    print(data[column].unique())\n",
    "\n",
    "find_unique_values() "
   ]
  },
  {
   "cell_type": "markdown",
   "metadata": {
    "id": "gzC--PqWgHmC"
   },
   "source": [
    "ID is an irrelevent attribute. So we can remove that.<br/>\n",
    "Provider is an empty column we can remove that as well."
   ]
  },
  {
   "cell_type": "code",
   "execution_count": 4,
   "metadata": {
    "id": "l_ODBlMEf9lg"
   },
   "outputs": [],
   "source": [
    "data.drop('ID', axis = 1, inplace = True)\n",
    "data.drop('Provider',axis = 1, inplace= True)"
   ]
  },
  {
   "cell_type": "markdown",
   "metadata": {
    "id": "bGEyLmcaioOs"
   },
   "source": [
    "Distance can't be negative. Only magnitude matters. So let's take absolute values"
   ]
  },
  {
   "cell_type": "code",
   "execution_count": 5,
   "metadata": {
    "id": "12ib0ye0jJjE"
   },
   "outputs": [],
   "source": [
    "data.loc[data[\"Distance\"] < 0,\"Distance\"] = abs(data[\"Distance\"])"
   ]
  },
  {
   "cell_type": "markdown",
   "metadata": {
    "id": "t0A62cb_lb3d"
   },
   "source": [
    "Found mixed data types in **Cost** feature. But value 'COD' seems like a Payment mode. Let's invistigate this by fetching that row."
   ]
  },
  {
   "cell_type": "code",
   "execution_count": 6,
   "metadata": {
    "colab": {
     "base_uri": "https://localhost:8080/",
     "height": 197
    },
    "id": "zOZ32YQIll3U",
    "outputId": "89e9ab07-c226-4e21-93a6-a34721629113"
   },
   "outputs": [
    {
     "data": {
      "text/html": [
       "<div>\n",
       "<style scoped>\n",
       "    .dataframe tbody tr th:only-of-type {\n",
       "        vertical-align: middle;\n",
       "    }\n",
       "\n",
       "    .dataframe tbody tr th {\n",
       "        vertical-align: top;\n",
       "    }\n",
       "\n",
       "    .dataframe thead th {\n",
       "        text-align: right;\n",
       "    }\n",
       "</style>\n",
       "<table border=\"1\" class=\"dataframe\">\n",
       "  <thead>\n",
       "    <tr style=\"text-align: right;\">\n",
       "      <th></th>\n",
       "      <th>DateTime</th>\n",
       "      <th>Distance</th>\n",
       "      <th>Status</th>\n",
       "      <th>Cost</th>\n",
       "      <th>PromoCode</th>\n",
       "      <th>Delivery Time</th>\n",
       "      <th>Discount</th>\n",
       "      <th>Paid amount</th>\n",
       "      <th>Payment mode</th>\n",
       "      <th>Delivery charges</th>\n",
       "      <th>Surge charges</th>\n",
       "      <th>Packaging charges</th>\n",
       "      <th>ST</th>\n",
       "      <th>Tip</th>\n",
       "      <th>PureVeg</th>\n",
       "      <th>Items</th>\n",
       "      <th>Membership</th>\n",
       "      <th>Type</th>\n",
       "      <th>Rating</th>\n",
       "    </tr>\n",
       "  </thead>\n",
       "  <tbody>\n",
       "    <tr>\n",
       "      <th>23</th>\n",
       "      <td>3-July-2020 8.38 PM</td>\n",
       "      <td>NaN</td>\n",
       "      <td>NaN</td>\n",
       "      <td>COD</td>\n",
       "      <td>20</td>\n",
       "      <td>NaN</td>\n",
       "      <td>10.0</td>\n",
       "      <td>5.0</td>\n",
       "      <td>NaN</td>\n",
       "      <td>Y</td>\n",
       "      <td>DAL;ROTI</td>\n",
       "      <td>NO</td>\n",
       "      <td>VEG</td>\n",
       "      <td>2.0</td>\n",
       "      <td>NaN</td>\n",
       "      <td>NaN</td>\n",
       "      <td>NaN</td>\n",
       "      <td>NaN</td>\n",
       "      <td>NaN</td>\n",
       "    </tr>\n",
       "  </tbody>\n",
       "</table>\n",
       "</div>"
      ],
      "text/plain": [
       "               DateTime  Distance Status Cost PromoCode Delivery Time  \\\n",
       "23  3-July-2020 8.38 PM       NaN    NaN  COD        20           NaN   \n",
       "\n",
       "    Discount  Paid amount Payment mode Delivery charges Surge charges  \\\n",
       "23      10.0          5.0          NaN                Y      DAL;ROTI   \n",
       "\n",
       "   Packaging charges   ST  Tip PureVeg Items Membership Type  Rating  \n",
       "23                NO  VEG  2.0     NaN   NaN        NaN  NaN     NaN  "
      ]
     },
     "execution_count": 6,
     "metadata": {},
     "output_type": "execute_result"
    }
   ],
   "source": [
    "data[data[\"Cost\"] == 'COD']"
   ]
  },
  {
   "cell_type": "markdown",
   "metadata": {
    "id": "aJ3WztkndO8o"
   },
   "source": [
    "By looking at the above row we can say that values are mis matched to wrong columns or features. Values were left shifted to 5 columns from Payment mode."
   ]
  },
  {
   "cell_type": "code",
   "execution_count": 7,
   "metadata": {
    "colab": {
     "base_uri": "https://localhost:8080/"
    },
    "id": "eVIV_fa5lswQ",
    "outputId": "756a861a-c25b-4386-c2e4-dac2603e6eef"
   },
   "outputs": [
    {
     "data": {
      "text/plain": [
       "DateTime                             NaN\n",
       "Distance                             NaN\n",
       "Status                               NaN\n",
       "Cost                                 NaN\n",
       "PromoCode                            NaN\n",
       "Delivery Time        3-July-2020 8.38 PM\n",
       "Discount                             NaN\n",
       "Paid amount                          NaN\n",
       "Payment mode                         COD\n",
       "Delivery charges                      20\n",
       "Surge charges                        NaN\n",
       "Packaging charges                   10.0\n",
       "ST                                   5.0\n",
       "Tip                                  NaN\n",
       "PureVeg                                Y\n",
       "Items                           DAL;ROTI\n",
       "Membership                            NO\n",
       "Type                                 VEG\n",
       "Rating                               2.0\n",
       "Name: 23, dtype: object"
      ]
     },
     "execution_count": 7,
     "metadata": {},
     "output_type": "execute_result"
    }
   ],
   "source": [
    "ind = data.index[data[\"Cost\"] == 'COD'].tolist()[0]\n",
    "row = data.loc[ind].to_frame().T\n",
    "result = row.shift(periods=5, axis=\"columns\")\n",
    "data.loc[ind] = result.iloc[0]\n",
    "data.loc[ind]"
   ]
  },
  {
   "cell_type": "code",
   "execution_count": 8,
   "metadata": {
    "colab": {
     "base_uri": "https://localhost:8080/"
    },
    "id": "c6Axt7sZUGn9",
    "outputId": "fd601a85-2b3c-4cbe-aed1-21090e70c2bc"
   },
   "outputs": [
    {
     "name": "stdout",
     "output_type": "stream",
     "text": [
      "DateTime\n",
      "['1-July-2020 8.38 PM' '1-July-2020 8.38 AM' '1-July-2020 9.00 PM'\n",
      " '1-July-2020 7.30 PM' '1-July-2020 7.38 PM' '1-July-2020 9.38 AM'\n",
      " '1-July-2020 8.00 PM' '2-July-2020 8.38 PM' '2-July-2020 8.38 AM'\n",
      " '2-July-2020 9.00 PM' '2-July-2020 7.30 PM' '2-July-2020 7.38 PM'\n",
      " '2-July-2020 9.38 AM' '2-July-2020 8.00 PM' nan '3-July-2020 8.38 PM'\n",
      " '3-July-2020 8.38 AM' '3-July-2020 9.00 PM' '3-July-2020 7.30 PM'\n",
      " '3-July-2020 7.38 PM' '3-July-2020 9.38 AM' '3-July-2020 8.00 PM'\n",
      " '4-July-2020 8.38 PM' '4-July-2020 8.38 AM' '4-July-2020 9.00 PM'\n",
      " '4-July-2020 7.30 PM' '4-July-2020 7.38 PM' '4-July-2020 9.38 AM'\n",
      " '4-July-2020 8.00 PM' '5-July-2020 8.38 PM' '5-July-2020 8.38 AM'\n",
      " '5-July-2020 9.00 PM' '5-July-2020 7.30 PM' '5-July-2020 7.38 PM'\n",
      " '5-July-2020 9.38 AM' '5-July-2020 8.00 PM']\n",
      "Distance\n",
      "[ 3.  6.  4. nan  2.]\n",
      "Status\n",
      "['Delivered' 'Cancelled' nan]\n",
      "Cost\n",
      "['300' '100' '250' '550' '125' '280' '120' '230' '450' '150' '500' '400'\n",
      " '200' nan '350' '600' '225' '380' '220' '330']\n",
      "PromoCode\n",
      "['PRO' 'BF' nan]\n",
      "Delivery Time\n",
      "['1-July-2020 9.38 PM' '1-July-2020 8.58 AM' '1-July-2020 9.30 PM'\n",
      " '1-July-2020 9.05 PM' '1-July-2020 7.38 PM' '1-July-2020 8.38 PM'\n",
      " '1-July-2020 9.58 AM' '1-July-2020 8.30 PM' '2-July-2020 9.38 PM'\n",
      " '2-July-2020 8.58 AM' '2-July-2020 10.30 PM' '2-July-2020 9.05 PM'\n",
      " '2-July-2020 8.38 PM' '2-July-2020 9.58 AM' '2-July-2020 9.30 PM'\n",
      " '3-July-2020 8.38 PM' '3-July-2020 9.38 PM' '3-July-2020 8.58 AM'\n",
      " '3-July-2020 9.30 PM' '3-July-2020 9.05 PM' '3-July-2020 9.58 AM'\n",
      " '3-July-2020 8.30 PM' '4-July-2020 9.38 PM' '4-July-2020 7.38 PM'\n",
      " '4-July-2020 8.58 AM' '4-July-2020 10.30 PM' '4-July-2020 9.05 PM'\n",
      " '4-July-2020 8.38 PM' '4-July-2020 9.58 AM' '4-July-2020 9.30 PM'\n",
      " '5-July-2020 9.38 PM' '5-July-2020 8.58 AM' '5-July-2020 9.30 PM'\n",
      " '5-July-2020 9.05 PM' '5-July-2020 8.38 PM' '5-July-2020 9.58 AM'\n",
      " '5-July-2020 8.30 PM']\n",
      "Discount\n",
      "[ 50.  nan  25. -25.]\n",
      "Paid amount\n",
      "[nan]\n",
      "Payment mode\n",
      "['COD' 'WALLET' 'CARD']\n",
      "Delivery charges\n",
      "['20' '25']\n",
      "Surge charges\n",
      "[nan '10' '20']\n",
      "Packaging charges\n",
      "['10' 10.0]\n",
      "ST\n",
      "['5' 5.0]\n",
      "Tip\n",
      "[nan  5.]\n",
      "PureVeg\n",
      "['Y' 'N']\n",
      "Items\n",
      "['PANEER;ROTI' 'DAL;CHICKEN;ROTI' 'MIXVEG;RICE' 'CHICKEN;BIRYANI'\n",
      " 'DAL;ROTI']\n",
      "Membership\n",
      "['BING' 'BONG' 'NO']\n",
      "Type\n",
      "['VEG' 'MIX']\n",
      "Rating\n",
      "[ 2.  4.  0.  1.  3.  5. nan]\n"
     ]
    }
   ],
   "source": [
    "find_unique_values()"
   ]
  },
  {
   "cell_type": "markdown",
   "metadata": {
    "id": "6R83kHazn2je"
   },
   "source": [
    "Discount Rates are alwasy positive so let's consider absolute values."
   ]
  },
  {
   "cell_type": "code",
   "execution_count": 9,
   "metadata": {
    "id": "lAfmExNIn1Sg"
   },
   "outputs": [],
   "source": [
    "data.loc[data[\"Discount\"] < 0,\"Discount\"] = abs(data[\"Discount\"])"
   ]
  },
  {
   "cell_type": "markdown",
   "metadata": {
    "id": "i-YKDWyGoKt5"
   },
   "source": [
    "Paid Amount is any empty column. Let's remove that"
   ]
  },
  {
   "cell_type": "code",
   "execution_count": 10,
   "metadata": {
    "id": "gVYlo6x5odAE"
   },
   "outputs": [],
   "source": [
    "data.drop('Paid amount', axis = 1, inplace = True)"
   ]
  },
  {
   "cell_type": "markdown",
   "metadata": {
    "id": "PWdatmnWK49r"
   },
   "source": [
    "Let's correct numeric column data types"
   ]
  },
  {
   "cell_type": "code",
   "execution_count": 11,
   "metadata": {
    "id": "G6foal5VpmO7"
   },
   "outputs": [],
   "source": [
    "data[\"Cost\"]  = pd.to_numeric(data[\"Cost\"])\n",
    "data[\"Delivery charges\"]  = pd.to_numeric(data[\"Delivery charges\"])\n",
    "data[\"Surge charges\"]  = pd.to_numeric(data[\"Surge charges\"])\n",
    "data[\"Packaging charges\"]  = pd.to_numeric(data[\"Packaging charges\"])\n",
    "data[\"ST\"]  = pd.to_numeric(data[\"ST\"])"
   ]
  },
  {
   "cell_type": "markdown",
   "metadata": {
    "id": "m_S5RFsvLJ_y"
   },
   "source": [
    "Let's check for missing values in the data set. We have to process them before we build a model."
   ]
  },
  {
   "cell_type": "code",
   "execution_count": 12,
   "metadata": {
    "colab": {
     "base_uri": "https://localhost:8080/"
    },
    "id": "xx2VPh82jkqI",
    "outputId": "b4f4a17c-d75f-456e-8c99-3b6971c36ec9"
   },
   "outputs": [
    {
     "data": {
      "text/plain": [
       "DateTime              1\n",
       "Distance              1\n",
       "Status                1\n",
       "Cost                  1\n",
       "PromoCode            25\n",
       "Delivery Time         0\n",
       "Discount             37\n",
       "Payment mode          0\n",
       "Delivery charges      0\n",
       "Surge charges        33\n",
       "Packaging charges     0\n",
       "ST                    0\n",
       "Tip                  37\n",
       "PureVeg               0\n",
       "Items                 0\n",
       "Membership            0\n",
       "Type                  0\n",
       "Rating                2\n",
       "dtype: int64"
      ]
     },
     "execution_count": 12,
     "metadata": {},
     "output_type": "execute_result"
    }
   ],
   "source": [
    "data.isnull().sum()"
   ]
  },
  {
   "cell_type": "markdown",
   "metadata": {
    "id": "JJo-0FwMksxW"
   },
   "source": [
    "Found missing values in DateTime, Distance, Status, Cost, PromoCode, Discount, Surge charges, Tip and Rating.<br/>\n",
    "To Handle null values in the dataset we can delete row but we can't afford to lose data as dataset size is very less. <br/>\n",
    "For continuous values we can replace null values by imputing mean or median. <br/>\n",
    "So we can replace null values mean or median of the remaining values. <br/>\n",
    "\n",
    "Let's replace **Distance** null value with mean or meadian\n",
    "1. Get Mean and Median of Distance values.\n",
    "2. Replace null values with mean and calculate mean again\n",
    "3. Replace null values with median and calculate mean again\n",
    "4. Pick which ever mean value is closer to original value.\n",
    "\n"
   ]
  },
  {
   "cell_type": "code",
   "execution_count": 13,
   "metadata": {
    "colab": {
     "base_uri": "https://localhost:8080/"
    },
    "id": "VdutZ6Mtk40i",
    "outputId": "4c6468b3-6f23-4e08-ab08-0028732a470b"
   },
   "outputs": [
    {
     "name": "stdout",
     "output_type": "stream",
     "text": [
      "Distance Mean: 3.6610169491525424\n",
      "Distance Median: 3.0\n"
     ]
    }
   ],
   "source": [
    "print(\"Distance Mean:\", data[\"Distance\"].mean())\n",
    "print(\"Distance Median:\", data[\"Distance\"].median())"
   ]
  },
  {
   "cell_type": "code",
   "execution_count": 14,
   "metadata": {
    "colab": {
     "base_uri": "https://localhost:8080/"
    },
    "id": "tf4SNslnlxIL",
    "outputId": "12819616-0742-42a2-e008-afe6fddc7ef9"
   },
   "outputs": [
    {
     "data": {
      "text/plain": [
       "3.6610169491525424"
      ]
     },
     "execution_count": 14,
     "metadata": {},
     "output_type": "execute_result"
    }
   ],
   "source": [
    "mean = data[\"Distance\"].mean()\n",
    "median = data[\"Distance\"].median()\n",
    "data[\"Distance\"].fillna(mean,inplace = True)\n",
    "data[\"Distance\"].mean()"
   ]
  },
  {
   "cell_type": "markdown",
   "metadata": {
    "id": "UkhHO95umr0k"
   },
   "source": [
    "After replace Distance mean is same as before. So we can go with this replace."
   ]
  },
  {
   "cell_type": "markdown",
   "metadata": {
    "id": "DWvHhwtXnUje"
   },
   "source": [
    "Found one missing value in **Status**. Status is categorical attribute. So let's replace null value with mode of this feature.\n",
    "\n"
   ]
  },
  {
   "cell_type": "code",
   "execution_count": 15,
   "metadata": {
    "id": "mZwFtX9-mZV8"
   },
   "outputs": [],
   "source": [
    "data[\"Status\"].fillna(data[\"Status\"].mode()[0], inplace = True)"
   ]
  },
  {
   "cell_type": "markdown",
   "metadata": {
    "id": "e5dZP4zlwbr4"
   },
   "source": [
    "Cost has one missing value. Let's resolve that."
   ]
  },
  {
   "cell_type": "code",
   "execution_count": 16,
   "metadata": {
    "colab": {
     "base_uri": "https://localhost:8080/"
    },
    "id": "QETGdfqdwai_",
    "outputId": "06e00b2f-723b-4d76-c1fb-14edb131e39d"
   },
   "outputs": [
    {
     "name": "stdout",
     "output_type": "stream",
     "text": [
      "Cost Mean: 292.1186440677966\n",
      "Cost Median: 280.0\n"
     ]
    }
   ],
   "source": [
    "print(\"Cost Mean:\", data[\"Cost\"].mean())\n",
    "print(\"Cost Median:\", data[\"Cost\"].median())"
   ]
  },
  {
   "cell_type": "code",
   "execution_count": 17,
   "metadata": {
    "id": "KTUk41RZwvLl"
   },
   "outputs": [],
   "source": [
    "data[\"Cost\"].fillna(data[\"Cost\"].mean(),inplace=True)"
   ]
  },
  {
   "cell_type": "code",
   "execution_count": 18,
   "metadata": {
    "colab": {
     "base_uri": "https://localhost:8080/"
    },
    "id": "hg5r2_10w-jy",
    "outputId": "b1827b00-51e9-4f28-fc0e-9a2e60e43a49"
   },
   "outputs": [
    {
     "data": {
      "text/plain": [
       "292.1186440677966"
      ]
     },
     "execution_count": 18,
     "metadata": {},
     "output_type": "execute_result"
    }
   ],
   "source": [
    "data[\"Cost\"].mean()"
   ]
  },
  {
   "cell_type": "markdown",
   "metadata": {
    "id": "cVEkKPI_xJVG"
   },
   "source": [
    "**Promo Code** has 23 missing values. Let's create a new category for them as NPCA (No Promo Code Available) and replace all null values with that."
   ]
  },
  {
   "cell_type": "code",
   "execution_count": 19,
   "metadata": {
    "id": "wnvs3gK1xcoa"
   },
   "outputs": [],
   "source": [
    "data[\"PromoCode\"].fillna(\"NPCA\",inplace=True)"
   ]
  },
  {
   "cell_type": "markdown",
   "metadata": {
    "id": "-aWrqi6hyStX"
   },
   "source": [
    "Found so many null values in Discount, Surge charges and Tip. <br/>\n",
    "We got these null values because for those transactions there are no discounts available means 0 discount and there are no Surge charges and Tips. So replacing all null values with 0's for those columns"
   ]
  },
  {
   "cell_type": "code",
   "execution_count": 20,
   "metadata": {
    "id": "BMm6JdYBySE9"
   },
   "outputs": [],
   "source": [
    "data[\"Discount\"].fillna(0,inplace=True)\n",
    "data[\"Surge charges\"].fillna(0,inplace=True)\n",
    "data[\"Tip\"].fillna(0,inplace=True)"
   ]
  },
  {
   "cell_type": "markdown",
   "metadata": {
    "id": "HKuxvD4qzHFr"
   },
   "source": [
    "Found 2 missing values in Rating. User may forgot to give rating or intentionlay didn't rate at that time. So let's replace them with mode of this feature"
   ]
  },
  {
   "cell_type": "code",
   "execution_count": 21,
   "metadata": {
    "colab": {
     "base_uri": "https://localhost:8080/"
    },
    "id": "R_FoNTu-jxBT",
    "outputId": "331da79d-2272-42c6-82f1-3247dbc2b0e4"
   },
   "outputs": [
    {
     "data": {
      "text/plain": [
       "3"
      ]
     },
     "execution_count": 21,
     "metadata": {},
     "output_type": "execute_result"
    }
   ],
   "source": [
    "rating_mode = (int)(data[\"Rating\"].mode())\n",
    "rating_mode"
   ]
  },
  {
   "cell_type": "code",
   "execution_count": 22,
   "metadata": {
    "id": "6HxauaS6zfpV"
   },
   "outputs": [],
   "source": [
    "data[\"Rating\"].fillna(rating_mode,inplace=True)"
   ]
  },
  {
   "cell_type": "code",
   "execution_count": 23,
   "metadata": {
    "colab": {
     "base_uri": "https://localhost:8080/"
    },
    "id": "l4x0GCG1zqAS",
    "outputId": "b6320671-cb06-43b7-c18b-50eec80a6dc5"
   },
   "outputs": [
    {
     "data": {
      "text/plain": [
       "DateTime             1\n",
       "Distance             0\n",
       "Status               0\n",
       "Cost                 0\n",
       "PromoCode            0\n",
       "Delivery Time        0\n",
       "Discount             0\n",
       "Payment mode         0\n",
       "Delivery charges     0\n",
       "Surge charges        0\n",
       "Packaging charges    0\n",
       "ST                   0\n",
       "Tip                  0\n",
       "PureVeg              0\n",
       "Items                0\n",
       "Membership           0\n",
       "Type                 0\n",
       "Rating               0\n",
       "dtype: int64"
      ]
     },
     "execution_count": 23,
     "metadata": {},
     "output_type": "execute_result"
    }
   ],
   "source": [
    "data.isnull().sum()"
   ]
  },
  {
   "cell_type": "markdown",
   "metadata": {
    "id": "ULO_sm4TAcxW"
   },
   "source": [
    "Found one missing value in **DateTime** column."
   ]
  },
  {
   "cell_type": "code",
   "execution_count": 24,
   "metadata": {
    "id": "gsqnG7A7cG-R",
    "outputId": "87c1e9e2-93bd-45f7-cc4b-b1e52b970fb2"
   },
   "outputs": [
    {
     "name": "stderr",
     "output_type": "stream",
     "text": [
      "<ipython-input-24-5906b46d8512>:1: FutureWarning: The default value of regex will change from True to False in a future version. In addition, single character regular expressions will*not* be treated as literal strings when regex=True.\n",
      "  data[\"DateTime\"] = data[\"DateTime\"].str.replace('.',':')\n"
     ]
    }
   ],
   "source": [
    "data[\"DateTime\"] = data[\"DateTime\"].str.replace('.',':')"
   ]
  },
  {
   "cell_type": "code",
   "execution_count": 25,
   "metadata": {
    "id": "EcNeeplTbjk-"
   },
   "outputs": [],
   "source": [
    "data[\"DateTime\"] =  pd.to_datetime(data['DateTime'],errors=\"coerce\")"
   ]
  },
  {
   "cell_type": "code",
   "execution_count": 26,
   "metadata": {
    "id": "chvWDq7-bt7F"
   },
   "outputs": [],
   "source": [
    "mean = data[\"DateTime\"].mean()"
   ]
  },
  {
   "cell_type": "markdown",
   "metadata": {
    "id": "zFQALMgqgdSt"
   },
   "source": [
    "Before we replace DateTime null value with mean we should also check if it is less than Delivery Time or not. Because Food Ordered Time should be less than Food Delivered Time"
   ]
  },
  {
   "cell_type": "code",
   "execution_count": 27,
   "metadata": {
    "id": "GaIvCp2ncGU9",
    "outputId": "ca1faab8-6799-4934-de15-4db3f0bf7460"
   },
   "outputs": [
    {
     "name": "stderr",
     "output_type": "stream",
     "text": [
      "<ipython-input-27-25b8f3be6509>:1: FutureWarning: The default value of regex will change from True to False in a future version. In addition, single character regular expressions will*not* be treated as literal strings when regex=True.\n",
      "  data[\"Delivery Time\"] = data[\"Delivery Time\"].str.replace('.',':')\n"
     ]
    }
   ],
   "source": [
    "data[\"Delivery Time\"] = data[\"Delivery Time\"].str.replace('.',':')\n",
    "data[\"Delivery Time\"] =  pd.to_datetime(data['Delivery Time'])"
   ]
  },
  {
   "cell_type": "code",
   "execution_count": 28,
   "metadata": {
    "id": "N-bucu3GtedK"
   },
   "outputs": [],
   "source": [
    "inds = (data[data[\"DateTime\"].isnull()]).index.values\n",
    "delivery_time = data[\"Delivery Time\"][inds[0]]"
   ]
  },
  {
   "cell_type": "code",
   "execution_count": 29,
   "metadata": {
    "colab": {
     "base_uri": "https://localhost:8080/"
    },
    "id": "hwpYZnJluPbQ",
    "outputId": "353d1946-220e-4107-fbc5-3739f2838954"
   },
   "outputs": [
    {
     "name": "stdout",
     "output_type": "stream",
     "text": [
      "Calculated Delivery Time\n"
     ]
    },
    {
     "data": {
      "text/plain": [
       "Timedelta('0 days 02:07:47.796610048')"
      ]
     },
     "execution_count": 29,
     "metadata": {},
     "output_type": "execute_result"
    }
   ],
   "source": [
    "print(\"Calculated Delivery Time\")\n",
    "delivery_time - mean"
   ]
  },
  {
   "cell_type": "code",
   "execution_count": 30,
   "metadata": {
    "id": "wtetL7Quse02"
   },
   "outputs": [],
   "source": [
    "wrong_data_indexes = (data[data[\"Delivery Time\"] < data[\"DateTime\"]]).index.values"
   ]
  },
  {
   "cell_type": "markdown",
   "metadata": {
    "id": "oGpTPSNDjqhM"
   },
   "source": [
    "This is wrong data Food ordered time should be less than delivered time but we can't afford to lose data."
   ]
  },
  {
   "cell_type": "code",
   "execution_count": 31,
   "metadata": {
    "id": "JnZLJFeaWoYt"
   },
   "outputs": [],
   "source": [
    "for ind in wrong_data_indexes:\n",
    "    datetime = data[\"DateTime\"][ind]\n",
    "    deliverytime = data[\"Delivery Time\"][ind]\n",
    "    data.at[ind,'DateTime'] = deliverytime\n",
    "    data.at[ind,'Delivery Time'] = datetime"
   ]
  },
  {
   "cell_type": "code",
   "execution_count": 32,
   "metadata": {
    "id": "o_DURdzlbLBg"
   },
   "outputs": [],
   "source": [
    "datetime_mean = data[\"DateTime\"].mean()"
   ]
  },
  {
   "cell_type": "code",
   "execution_count": 33,
   "metadata": {
    "colab": {
     "base_uri": "https://localhost:8080/"
    },
    "id": "Y81kLMCvcsF5",
    "outputId": "34f618d9-32c4-488c-fdb8-f30f4911c61a"
   },
   "outputs": [
    {
     "data": {
      "text/plain": [
       "Timestamp('2020-07-03 20:38:00')"
      ]
     },
     "execution_count": 33,
     "metadata": {},
     "output_type": "execute_result"
    }
   ],
   "source": [
    "delivery_time"
   ]
  },
  {
   "cell_type": "code",
   "execution_count": 34,
   "metadata": {
    "colab": {
     "base_uri": "https://localhost:8080/"
    },
    "id": "4ENH0EZuc13H",
    "outputId": "de2f8373-73e0-4175-daeb-dc55491ee061"
   },
   "outputs": [
    {
     "data": {
      "text/plain": [
       "Timedelta('0 days 02:09:49.830508288')"
      ]
     },
     "execution_count": 34,
     "metadata": {},
     "output_type": "execute_result"
    }
   ],
   "source": [
    "delivery_time - datetime_mean"
   ]
  },
  {
   "cell_type": "markdown",
   "metadata": {
    "id": "0x5P9h9M82fy"
   },
   "source": [
    "2 hours seems pretty unnatural to deliver food. Let's drop this row"
   ]
  },
  {
   "cell_type": "code",
   "execution_count": 35,
   "metadata": {
    "id": "GZ0Gc39L812m"
   },
   "outputs": [],
   "source": [
    "data.drop([data.index[inds[0]]],inplace=True)"
   ]
  },
  {
   "cell_type": "code",
   "execution_count": 36,
   "metadata": {
    "colab": {
     "base_uri": "https://localhost:8080/"
    },
    "id": "JNND8uoC1h2v",
    "outputId": "a90f0719-4cba-4271-88f6-6d7fb302645a"
   },
   "outputs": [
    {
     "data": {
      "text/plain": [
       "(59, 18)"
      ]
     },
     "execution_count": 36,
     "metadata": {},
     "output_type": "execute_result"
    }
   ],
   "source": [
    "data.shape"
   ]
  },
  {
   "cell_type": "code",
   "execution_count": 37,
   "metadata": {
    "colab": {
     "base_uri": "https://localhost:8080/"
    },
    "id": "SzO0LhPskmv0",
    "outputId": "5d42222e-ecac-4dbe-a3e1-51d14c59ab46"
   },
   "outputs": [
    {
     "data": {
      "text/plain": [
       "DateTime             0\n",
       "Distance             0\n",
       "Status               0\n",
       "Cost                 0\n",
       "PromoCode            0\n",
       "Delivery Time        0\n",
       "Discount             0\n",
       "Payment mode         0\n",
       "Delivery charges     0\n",
       "Surge charges        0\n",
       "Packaging charges    0\n",
       "ST                   0\n",
       "Tip                  0\n",
       "PureVeg              0\n",
       "Items                0\n",
       "Membership           0\n",
       "Type                 0\n",
       "Rating               0\n",
       "dtype: int64"
      ]
     },
     "execution_count": 37,
     "metadata": {},
     "output_type": "execute_result"
    }
   ],
   "source": [
    "data.isnull().sum()"
   ]
  },
  {
   "cell_type": "markdown",
   "metadata": {
    "id": "s2G4HMonevq6"
   },
   "source": [
    "Let's remove duplicates"
   ]
  },
  {
   "cell_type": "code",
   "execution_count": 38,
   "metadata": {
    "colab": {
     "base_uri": "https://localhost:8080/",
     "height": 461
    },
    "id": "uAUmnz0JraYA",
    "outputId": "258bedbc-6585-4dfa-80f7-3949017421d8"
   },
   "outputs": [
    {
     "data": {
      "text/html": [
       "<div>\n",
       "<style scoped>\n",
       "    .dataframe tbody tr th:only-of-type {\n",
       "        vertical-align: middle;\n",
       "    }\n",
       "\n",
       "    .dataframe tbody tr th {\n",
       "        vertical-align: top;\n",
       "    }\n",
       "\n",
       "    .dataframe thead th {\n",
       "        text-align: right;\n",
       "    }\n",
       "</style>\n",
       "<table border=\"1\" class=\"dataframe\">\n",
       "  <thead>\n",
       "    <tr style=\"text-align: right;\">\n",
       "      <th></th>\n",
       "      <th>DateTime</th>\n",
       "      <th>Distance</th>\n",
       "      <th>Status</th>\n",
       "      <th>Cost</th>\n",
       "      <th>PromoCode</th>\n",
       "      <th>Delivery Time</th>\n",
       "      <th>Discount</th>\n",
       "      <th>Payment mode</th>\n",
       "      <th>Delivery charges</th>\n",
       "      <th>Surge charges</th>\n",
       "      <th>Packaging charges</th>\n",
       "      <th>ST</th>\n",
       "      <th>Tip</th>\n",
       "      <th>PureVeg</th>\n",
       "      <th>Items</th>\n",
       "      <th>Membership</th>\n",
       "      <th>Type</th>\n",
       "      <th>Rating</th>\n",
       "    </tr>\n",
       "  </thead>\n",
       "  <tbody>\n",
       "    <tr>\n",
       "      <th>15</th>\n",
       "      <td>2020-07-01 20:38:00</td>\n",
       "      <td>3.0</td>\n",
       "      <td>Cancelled</td>\n",
       "      <td>125.0</td>\n",
       "      <td>PRO</td>\n",
       "      <td>2020-07-01 20:38:00</td>\n",
       "      <td>0.0</td>\n",
       "      <td>COD</td>\n",
       "      <td>20</td>\n",
       "      <td>0.0</td>\n",
       "      <td>10.0</td>\n",
       "      <td>5.0</td>\n",
       "      <td>0.0</td>\n",
       "      <td>Y</td>\n",
       "      <td>DAL;ROTI</td>\n",
       "      <td>NO</td>\n",
       "      <td>VEG</td>\n",
       "      <td>1.0</td>\n",
       "    </tr>\n",
       "    <tr>\n",
       "      <th>19</th>\n",
       "      <td>2020-07-02 09:38:00</td>\n",
       "      <td>3.0</td>\n",
       "      <td>Delivered</td>\n",
       "      <td>300.0</td>\n",
       "      <td>NPCA</td>\n",
       "      <td>2020-07-02 09:58:00</td>\n",
       "      <td>50.0</td>\n",
       "      <td>WALLET</td>\n",
       "      <td>20</td>\n",
       "      <td>0.0</td>\n",
       "      <td>10.0</td>\n",
       "      <td>5.0</td>\n",
       "      <td>5.0</td>\n",
       "      <td>N</td>\n",
       "      <td>DAL;CHICKEN;ROTI</td>\n",
       "      <td>BONG</td>\n",
       "      <td>MIX</td>\n",
       "      <td>3.0</td>\n",
       "    </tr>\n",
       "    <tr>\n",
       "      <th>42</th>\n",
       "      <td>2020-07-04 09:38:00</td>\n",
       "      <td>3.0</td>\n",
       "      <td>Delivered</td>\n",
       "      <td>300.0</td>\n",
       "      <td>NPCA</td>\n",
       "      <td>2020-07-04 09:58:00</td>\n",
       "      <td>25.0</td>\n",
       "      <td>WALLET</td>\n",
       "      <td>20</td>\n",
       "      <td>0.0</td>\n",
       "      <td>10.0</td>\n",
       "      <td>5.0</td>\n",
       "      <td>5.0</td>\n",
       "      <td>N</td>\n",
       "      <td>DAL;CHICKEN;ROTI</td>\n",
       "      <td>BONG</td>\n",
       "      <td>MIX</td>\n",
       "      <td>4.0</td>\n",
       "    </tr>\n",
       "    <tr>\n",
       "      <th>47</th>\n",
       "      <td>2020-07-05 20:38:00</td>\n",
       "      <td>3.0</td>\n",
       "      <td>Delivered</td>\n",
       "      <td>400.0</td>\n",
       "      <td>PRO</td>\n",
       "      <td>2020-07-05 21:38:00</td>\n",
       "      <td>0.0</td>\n",
       "      <td>COD</td>\n",
       "      <td>20</td>\n",
       "      <td>20.0</td>\n",
       "      <td>10.0</td>\n",
       "      <td>5.0</td>\n",
       "      <td>0.0</td>\n",
       "      <td>Y</td>\n",
       "      <td>PANEER;ROTI</td>\n",
       "      <td>BING</td>\n",
       "      <td>VEG</td>\n",
       "      <td>3.0</td>\n",
       "    </tr>\n",
       "    <tr>\n",
       "      <th>54</th>\n",
       "      <td>2020-07-02 20:38:00</td>\n",
       "      <td>3.0</td>\n",
       "      <td>Delivered</td>\n",
       "      <td>500.0</td>\n",
       "      <td>NPCA</td>\n",
       "      <td>2020-07-02 21:38:00</td>\n",
       "      <td>50.0</td>\n",
       "      <td>WALLET</td>\n",
       "      <td>20</td>\n",
       "      <td>0.0</td>\n",
       "      <td>10.0</td>\n",
       "      <td>5.0</td>\n",
       "      <td>0.0</td>\n",
       "      <td>Y</td>\n",
       "      <td>PANEER;ROTI</td>\n",
       "      <td>BING</td>\n",
       "      <td>VEG</td>\n",
       "      <td>4.0</td>\n",
       "    </tr>\n",
       "  </tbody>\n",
       "</table>\n",
       "</div>"
      ],
      "text/plain": [
       "              DateTime  Distance     Status   Cost PromoCode  \\\n",
       "15 2020-07-01 20:38:00       3.0  Cancelled  125.0       PRO   \n",
       "19 2020-07-02 09:38:00       3.0  Delivered  300.0      NPCA   \n",
       "42 2020-07-04 09:38:00       3.0  Delivered  300.0      NPCA   \n",
       "47 2020-07-05 20:38:00       3.0  Delivered  400.0       PRO   \n",
       "54 2020-07-02 20:38:00       3.0  Delivered  500.0      NPCA   \n",
       "\n",
       "         Delivery Time  Discount Payment mode  Delivery charges  \\\n",
       "15 2020-07-01 20:38:00       0.0          COD                20   \n",
       "19 2020-07-02 09:58:00      50.0       WALLET                20   \n",
       "42 2020-07-04 09:58:00      25.0       WALLET                20   \n",
       "47 2020-07-05 21:38:00       0.0          COD                20   \n",
       "54 2020-07-02 21:38:00      50.0       WALLET                20   \n",
       "\n",
       "    Surge charges  Packaging charges   ST  Tip PureVeg             Items  \\\n",
       "15            0.0               10.0  5.0  0.0       Y          DAL;ROTI   \n",
       "19            0.0               10.0  5.0  5.0       N  DAL;CHICKEN;ROTI   \n",
       "42            0.0               10.0  5.0  5.0       N  DAL;CHICKEN;ROTI   \n",
       "47           20.0               10.0  5.0  0.0       Y       PANEER;ROTI   \n",
       "54            0.0               10.0  5.0  0.0       Y       PANEER;ROTI   \n",
       "\n",
       "   Membership Type  Rating  \n",
       "15         NO  VEG     1.0  \n",
       "19       BONG  MIX     3.0  \n",
       "42       BONG  MIX     4.0  \n",
       "47       BING  VEG     3.0  \n",
       "54       BING  VEG     4.0  "
      ]
     },
     "execution_count": 38,
     "metadata": {},
     "output_type": "execute_result"
    }
   ],
   "source": [
    "data[data.duplicated(keep='first')]"
   ]
  },
  {
   "cell_type": "code",
   "execution_count": 39,
   "metadata": {
    "id": "PiXUya3etWtT"
   },
   "outputs": [],
   "source": [
    "data.drop_duplicates(keep='first',inplace=True)"
   ]
  },
  {
   "cell_type": "code",
   "execution_count": 40,
   "metadata": {
    "colab": {
     "base_uri": "https://localhost:8080/"
    },
    "id": "7DUrvgx2uQ8k",
    "outputId": "8bd3a775-1a61-4134-e934-4134ce3cdc9e"
   },
   "outputs": [
    {
     "data": {
      "text/plain": [
       "(54, 18)"
      ]
     },
     "execution_count": 40,
     "metadata": {},
     "output_type": "execute_result"
    }
   ],
   "source": [
    "data.shape"
   ]
  },
  {
   "cell_type": "code",
   "execution_count": 41,
   "metadata": {
    "colab": {
     "base_uri": "https://localhost:8080/"
    },
    "id": "DMn2_LzCuSPR",
    "outputId": "3ad3c139-2b26-4088-9b49-dddd146c2b01"
   },
   "outputs": [
    {
     "data": {
      "text/plain": [
       "DateTime             datetime64[ns]\n",
       "Distance                    float64\n",
       "Status                       object\n",
       "Cost                        float64\n",
       "PromoCode                    object\n",
       "Delivery Time        datetime64[ns]\n",
       "Discount                    float64\n",
       "Payment mode                 object\n",
       "Delivery charges              int64\n",
       "Surge charges               float64\n",
       "Packaging charges           float64\n",
       "ST                          float64\n",
       "Tip                         float64\n",
       "PureVeg                      object\n",
       "Items                        object\n",
       "Membership                   object\n",
       "Type                         object\n",
       "Rating                      float64\n",
       "dtype: object"
      ]
     },
     "execution_count": 41,
     "metadata": {},
     "output_type": "execute_result"
    }
   ],
   "source": [
    "data.dtypes"
   ]
  },
  {
   "cell_type": "code",
   "execution_count": 42,
   "metadata": {
    "id": "mNUDS3oxpkgw"
   },
   "outputs": [],
   "source": [
    "data.reset_index(drop=True, inplace=True)"
   ]
  },
  {
   "cell_type": "code",
   "execution_count": 43,
   "metadata": {
    "colab": {
     "base_uri": "https://localhost:8080/",
     "height": 391
    },
    "id": "65x20Nhvp83E",
    "outputId": "f2a093b3-ea96-4350-a606-e4544f6ce0f3"
   },
   "outputs": [
    {
     "data": {
      "text/plain": [
       "<matplotlib.collections.PathCollection at 0x2b67e274d30>"
      ]
     },
     "execution_count": 43,
     "metadata": {},
     "output_type": "execute_result"
    },
    {
     "data": {
      "image/png": "[encoded data removed]",
      "text/plain": [
       "<Figure size 1152x432 with 2 Axes>"
      ]
     },
     "metadata": {
      "needs_background": "light"
     },
     "output_type": "display_data"
    }
   ],
   "source": [
    "plt.figure(figsize=(16,6))\n",
    "plt.subplot(121)\n",
    "plt.scatter(data.index,data[\"DateTime\"])\n",
    "\n",
    "plt.subplot(122)\n",
    "plt.scatter(data.index,data[\"Delivery Time\"])\n"
   ]
  },
  {
   "cell_type": "code",
   "execution_count": 44,
   "metadata": {
    "colab": {
     "base_uri": "https://localhost:8080/",
     "height": 495
    },
    "id": "XRmhD8yle1Ey",
    "outputId": "1d5ec2c5-2f46-41a8-9640-8b9346e2661d"
   },
   "outputs": [
    {
     "name": "stderr",
     "output_type": "stream",
     "text": [
      "C:\\Users\\darkseid\\anaconda3\\lib\\site-packages\\seaborn\\_decorators.py:36: FutureWarning: Pass the following variable as a keyword arg: x. From version 0.12, the only valid positional argument will be `data`, and passing other arguments without an explicit keyword will result in an error or misinterpretation.\n",
      "  warnings.warn(\n",
      "C:\\Users\\darkseid\\anaconda3\\lib\\site-packages\\seaborn\\_decorators.py:36: FutureWarning: Pass the following variable as a keyword arg: x. From version 0.12, the only valid positional argument will be `data`, and passing other arguments without an explicit keyword will result in an error or misinterpretation.\n",
      "  warnings.warn(\n"
     ]
    },
    {
     "data": {
      "text/plain": [
       "<AxesSubplot:xlabel='Cost'>"
      ]
     },
     "execution_count": 44,
     "metadata": {},
     "output_type": "execute_result"
    },
    {
     "data": {
      "image/png": "[encoded data removed]",
      "text/plain": [
       "<Figure size 1152x432 with 2 Axes>"
      ]
     },
     "metadata": {
      "needs_background": "light"
     },
     "output_type": "display_data"
    }
   ],
   "source": [
    "plt.figure(figsize=(16,6))\n",
    "plt.subplot(121)\n",
    "sns.boxplot(data[\"Distance\"])\n",
    "\n",
    "plt.subplot(122)\n",
    "sns.boxplot(data['Cost'])\n"
   ]
  },
  {
   "cell_type": "code",
   "execution_count": 45,
   "metadata": {
    "colab": {
     "base_uri": "https://localhost:8080/",
     "height": 495
    },
    "id": "qI6s5QjEiKD_",
    "outputId": "8d1301bf-ce05-4702-a96c-2a69dae560e2"
   },
   "outputs": [
    {
     "name": "stderr",
     "output_type": "stream",
     "text": [
      "C:\\Users\\darkseid\\anaconda3\\lib\\site-packages\\seaborn\\_decorators.py:36: FutureWarning: Pass the following variable as a keyword arg: x. From version 0.12, the only valid positional argument will be `data`, and passing other arguments without an explicit keyword will result in an error or misinterpretation.\n",
      "  warnings.warn(\n",
      "C:\\Users\\darkseid\\anaconda3\\lib\\site-packages\\seaborn\\_decorators.py:36: FutureWarning: Pass the following variable as a keyword arg: x. From version 0.12, the only valid positional argument will be `data`, and passing other arguments without an explicit keyword will result in an error or misinterpretation.\n",
      "  warnings.warn(\n"
     ]
    },
    {
     "data": {
      "text/plain": [
       "<AxesSubplot:xlabel='Surge charges'>"
      ]
     },
     "execution_count": 45,
     "metadata": {},
     "output_type": "execute_result"
    },
    {
     "data": {
      "image/png": "[encoded data removed]",
      "text/plain": [
       "<Figure size 1152x432 with 2 Axes>"
      ]
     },
     "metadata": {
      "needs_background": "light"
     },
     "output_type": "display_data"
    }
   ],
   "source": [
    "plt.figure(figsize=(16,6))\n",
    "plt.subplot(121)\n",
    "sns.boxplot(data[\"Delivery charges\"])\n",
    "\n",
    "plt.subplot(122)\n",
    "sns.boxplot(data['Surge charges'])                    "
   ]
  },
  {
   "cell_type": "code",
   "execution_count": 46,
   "metadata": {
    "colab": {
     "base_uri": "https://localhost:8080/",
     "height": 495
    },
    "id": "xlWLPQkHiRnb",
    "outputId": "db4b29be-a6f3-48a4-ecea-382125714441"
   },
   "outputs": [
    {
     "name": "stderr",
     "output_type": "stream",
     "text": [
      "C:\\Users\\darkseid\\anaconda3\\lib\\site-packages\\seaborn\\_decorators.py:36: FutureWarning: Pass the following variable as a keyword arg: x. From version 0.12, the only valid positional argument will be `data`, and passing other arguments without an explicit keyword will result in an error or misinterpretation.\n",
      "  warnings.warn(\n",
      "C:\\Users\\darkseid\\anaconda3\\lib\\site-packages\\seaborn\\_decorators.py:36: FutureWarning: Pass the following variable as a keyword arg: x. From version 0.12, the only valid positional argument will be `data`, and passing other arguments without an explicit keyword will result in an error or misinterpretation.\n",
      "  warnings.warn(\n"
     ]
    },
    {
     "data": {
      "text/plain": [
       "<AxesSubplot:xlabel='Packaging charges'>"
      ]
     },
     "execution_count": 46,
     "metadata": {},
     "output_type": "execute_result"
    },
    {
     "data": {
      "image/png": "[encoded data removed]",
      "text/plain": [
       "<Figure size 1152x432 with 2 Axes>"
      ]
     },
     "metadata": {
      "needs_background": "light"
     },
     "output_type": "display_data"
    }
   ],
   "source": [
    "plt.figure(figsize=(16,6))\n",
    "plt.subplot(121)\n",
    "sns.boxplot(data[\"Discount\"])\n",
    "\n",
    "plt.subplot(122)\n",
    "sns.boxplot(data['Packaging charges'])"
   ]
  },
  {
   "cell_type": "code",
   "execution_count": 47,
   "metadata": {
    "colab": {
     "base_uri": "https://localhost:8080/",
     "height": 495
    },
    "id": "oCIoao2SuQ84",
    "outputId": "7ea14d99-9b96-4a2c-efa2-b529457b5c07"
   },
   "outputs": [
    {
     "name": "stderr",
     "output_type": "stream",
     "text": [
      "C:\\Users\\darkseid\\anaconda3\\lib\\site-packages\\seaborn\\_decorators.py:36: FutureWarning: Pass the following variable as a keyword arg: x. From version 0.12, the only valid positional argument will be `data`, and passing other arguments without an explicit keyword will result in an error or misinterpretation.\n",
      "  warnings.warn(\n",
      "C:\\Users\\darkseid\\anaconda3\\lib\\site-packages\\seaborn\\_decorators.py:36: FutureWarning: Pass the following variable as a keyword arg: x. From version 0.12, the only valid positional argument will be `data`, and passing other arguments without an explicit keyword will result in an error or misinterpretation.\n",
      "  warnings.warn(\n"
     ]
    },
    {
     "data": {
      "text/plain": [
       "<AxesSubplot:xlabel='Tip'>"
      ]
     },
     "execution_count": 47,
     "metadata": {},
     "output_type": "execute_result"
    },
    {
     "data": {
      "image/png": "[encoded data removed]",
      "text/plain": [
       "<Figure size 1152x432 with 2 Axes>"
      ]
     },
     "metadata": {
      "needs_background": "light"
     },
     "output_type": "display_data"
    }
   ],
   "source": [
    "plt.figure(figsize=(16,6))\n",
    "plt.subplot(121)\n",
    "sns.boxplot(data[\"ST\"])\n",
    "\n",
    "plt.subplot(122)\n",
    "sns.boxplot(data['Tip'])"
   ]
  },
  {
   "cell_type": "markdown",
   "metadata": {
    "id": "AtKm4e2Zud5a"
   },
   "source": [
    "Found one possible outlier in Distance column"
   ]
  },
  {
   "cell_type": "code",
   "execution_count": 48,
   "metadata": {
    "colab": {
     "base_uri": "https://localhost:8080/"
    },
    "id": "R64OvAoC0050",
    "outputId": "34a6f6ce-e2b4-4dca-f0eb-2f30bb29e420"
   },
   "outputs": [
    {
     "data": {
      "text/plain": [
       "Index(['DateTime', 'Distance', 'Status', 'Cost', 'PromoCode', 'Delivery Time',\n",
       "       'Discount', 'Payment mode', 'Delivery charges', 'Surge charges',\n",
       "       'Packaging charges', 'ST', 'Tip', 'PureVeg', 'Items', 'Membership',\n",
       "       'Type', 'Rating'],\n",
       "      dtype='object')"
      ]
     },
     "execution_count": 48,
     "metadata": {},
     "output_type": "execute_result"
    }
   ],
   "source": [
    "data.columns"
   ]
  },
  {
   "cell_type": "code",
   "execution_count": 49,
   "metadata": {
    "id": "-U8XJ1V31Ifv"
   },
   "outputs": [],
   "source": [
    "delivery_time = data[\"Delivery Time\"] - data[\"DateTime\"]"
   ]
  },
  {
   "cell_type": "code",
   "execution_count": 50,
   "metadata": {
    "id": "6hYNd6Ln1UZ-"
   },
   "outputs": [],
   "source": [
    "delivery_time_in_mins = (delivery_time.dt.components[\"hours\"] * 60 ) + delivery_time.dt.components[\"minutes\"]"
   ]
  },
  {
   "cell_type": "markdown",
   "metadata": {
    "id": "p5Kq3HcX-Fqj"
   },
   "source": [
    "Found 3 rows where delivery time is 0 that means both food order time and food delivered time both are same. That is incorrect. But all of them were cancelled in that way delivery time will be 0 for them."
   ]
  },
  {
   "cell_type": "code",
   "execution_count": 51,
   "metadata": {
    "id": "VPYY-nGM-kv3"
   },
   "outputs": [],
   "source": [
    "data[\"Delivery Time Mins\"] = delivery_time_in_mins"
   ]
  },
  {
   "cell_type": "code",
   "execution_count": 52,
   "metadata": {
    "colab": {
     "base_uri": "https://localhost:8080/",
     "height": 346
    },
    "id": "OA0J8JE6osY3",
    "outputId": "cd46b3df-c3b3-454a-cd4b-b550133f11f6"
   },
   "outputs": [
    {
     "data": {
      "text/html": [
       "<div>\n",
       "<style scoped>\n",
       "    .dataframe tbody tr th:only-of-type {\n",
       "        vertical-align: middle;\n",
       "    }\n",
       "\n",
       "    .dataframe tbody tr th {\n",
       "        vertical-align: top;\n",
       "    }\n",
       "\n",
       "    .dataframe thead th {\n",
       "        text-align: right;\n",
       "    }\n",
       "</style>\n",
       "<table border=\"1\" class=\"dataframe\">\n",
       "  <thead>\n",
       "    <tr style=\"text-align: right;\">\n",
       "      <th></th>\n",
       "      <th>DateTime</th>\n",
       "      <th>Distance</th>\n",
       "      <th>Status</th>\n",
       "      <th>Cost</th>\n",
       "      <th>PromoCode</th>\n",
       "      <th>Delivery Time</th>\n",
       "      <th>Discount</th>\n",
       "      <th>Payment mode</th>\n",
       "      <th>Delivery charges</th>\n",
       "      <th>Surge charges</th>\n",
       "      <th>Packaging charges</th>\n",
       "      <th>ST</th>\n",
       "      <th>Tip</th>\n",
       "      <th>PureVeg</th>\n",
       "      <th>Items</th>\n",
       "      <th>Membership</th>\n",
       "      <th>Type</th>\n",
       "      <th>Rating</th>\n",
       "      <th>Delivery Time Mins</th>\n",
       "    </tr>\n",
       "  </thead>\n",
       "  <tbody>\n",
       "    <tr>\n",
       "      <th>5</th>\n",
       "      <td>2020-07-01 20:38:00</td>\n",
       "      <td>3.0</td>\n",
       "      <td>Cancelled</td>\n",
       "      <td>125.0</td>\n",
       "      <td>PRO</td>\n",
       "      <td>2020-07-01 20:38:00</td>\n",
       "      <td>0.0</td>\n",
       "      <td>COD</td>\n",
       "      <td>20</td>\n",
       "      <td>0.0</td>\n",
       "      <td>10.0</td>\n",
       "      <td>5.0</td>\n",
       "      <td>0.0</td>\n",
       "      <td>Y</td>\n",
       "      <td>DAL;ROTI</td>\n",
       "      <td>NO</td>\n",
       "      <td>VEG</td>\n",
       "      <td>1.0</td>\n",
       "      <td>0</td>\n",
       "    </tr>\n",
       "    <tr>\n",
       "      <th>25</th>\n",
       "      <td>2020-07-03 20:38:00</td>\n",
       "      <td>3.0</td>\n",
       "      <td>Cancelled</td>\n",
       "      <td>125.0</td>\n",
       "      <td>PRO</td>\n",
       "      <td>2020-07-03 20:38:00</td>\n",
       "      <td>0.0</td>\n",
       "      <td>COD</td>\n",
       "      <td>20</td>\n",
       "      <td>0.0</td>\n",
       "      <td>10.0</td>\n",
       "      <td>5.0</td>\n",
       "      <td>0.0</td>\n",
       "      <td>Y</td>\n",
       "      <td>DAL;ROTI</td>\n",
       "      <td>NO</td>\n",
       "      <td>VEG</td>\n",
       "      <td>2.0</td>\n",
       "      <td>0</td>\n",
       "    </tr>\n",
       "    <tr>\n",
       "      <th>46</th>\n",
       "      <td>2020-07-05 20:38:00</td>\n",
       "      <td>3.0</td>\n",
       "      <td>Cancelled</td>\n",
       "      <td>225.0</td>\n",
       "      <td>PRO</td>\n",
       "      <td>2020-07-05 20:38:00</td>\n",
       "      <td>0.0</td>\n",
       "      <td>COD</td>\n",
       "      <td>20</td>\n",
       "      <td>20.0</td>\n",
       "      <td>10.0</td>\n",
       "      <td>5.0</td>\n",
       "      <td>0.0</td>\n",
       "      <td>Y</td>\n",
       "      <td>DAL;ROTI</td>\n",
       "      <td>BING</td>\n",
       "      <td>VEG</td>\n",
       "      <td>3.0</td>\n",
       "      <td>0</td>\n",
       "    </tr>\n",
       "  </tbody>\n",
       "</table>\n",
       "</div>"
      ],
      "text/plain": [
       "              DateTime  Distance     Status   Cost PromoCode  \\\n",
       "5  2020-07-01 20:38:00       3.0  Cancelled  125.0       PRO   \n",
       "25 2020-07-03 20:38:00       3.0  Cancelled  125.0       PRO   \n",
       "46 2020-07-05 20:38:00       3.0  Cancelled  225.0       PRO   \n",
       "\n",
       "         Delivery Time  Discount Payment mode  Delivery charges  \\\n",
       "5  2020-07-01 20:38:00       0.0          COD                20   \n",
       "25 2020-07-03 20:38:00       0.0          COD                20   \n",
       "46 2020-07-05 20:38:00       0.0          COD                20   \n",
       "\n",
       "    Surge charges  Packaging charges   ST  Tip PureVeg     Items Membership  \\\n",
       "5             0.0               10.0  5.0  0.0       Y  DAL;ROTI         NO   \n",
       "25            0.0               10.0  5.0  0.0       Y  DAL;ROTI         NO   \n",
       "46           20.0               10.0  5.0  0.0       Y  DAL;ROTI       BING   \n",
       "\n",
       "   Type  Rating  Delivery Time Mins  \n",
       "5   VEG     1.0                   0  \n",
       "25  VEG     2.0                   0  \n",
       "46  VEG     3.0                   0  "
      ]
     },
     "execution_count": 52,
     "metadata": {},
     "output_type": "execute_result"
    }
   ],
   "source": [
    "data[data[\"Delivery Time Mins\"] == 0]"
   ]
  },
  {
   "cell_type": "code",
   "execution_count": 53,
   "metadata": {
    "id": "kuoORu7OLt8L"
   },
   "outputs": [],
   "source": [
    "cancelled_Data = (data[(data[\"Status\"] == \"Cancelled\") & (data[\"Delivery Time Mins\"] > 0)]).index.values"
   ]
  },
  {
   "cell_type": "code",
   "execution_count": 54,
   "metadata": {
    "colab": {
     "base_uri": "https://localhost:8080/"
    },
    "id": "_DihG17yLxOv",
    "outputId": "d61369d3-ec7a-4c7f-ef79-f741b2ffd869"
   },
   "outputs": [
    {
     "name": "stderr",
     "output_type": "stream",
     "text": [
      "<ipython-input-54-bc857040581f>:2: SettingWithCopyWarning: \n",
      "A value is trying to be set on a copy of a slice from a DataFrame\n",
      "\n",
      "See the caveats in the documentation: https://pandas.pydata.org/pandas-docs/stable/user_guide/indexing.html#returning-a-view-versus-a-copy\n",
      "  data[\"Delivery Time Mins\"][ind] = 0\n"
     ]
    }
   ],
   "source": [
    "for ind in cancelled_Data:\n",
    "    data[\"Delivery Time Mins\"][ind] = 0"
   ]
  },
  {
   "cell_type": "markdown",
   "metadata": {
    "id": "nQekxcOqL2UO"
   },
   "source": [
    "Binarization"
   ]
  },
  {
   "cell_type": "code",
   "execution_count": 55,
   "metadata": {
    "colab": {
     "base_uri": "https://localhost:8080/"
    },
    "id": "KRXBxfdqhois",
    "outputId": "820a19d6-ccac-4835-fbb2-2d25eec55093"
   },
   "outputs": [
    {
     "data": {
      "text/plain": [
       "array(['Delivered', 'Cancelled'], dtype=object)"
      ]
     },
     "execution_count": 55,
     "metadata": {},
     "output_type": "execute_result"
    }
   ],
   "source": [
    "data['Status'].unique()"
   ]
  },
  {
   "cell_type": "code",
   "execution_count": 56,
   "metadata": {
    "id": "JoJbXEFWlzd2"
   },
   "outputs": [],
   "source": [
    "data[\"Status\"].replace('Delivered','1',inplace=True)\n",
    "data[\"Status\"].replace('Cancelled','0',inplace=True)\n",
    "data[\"Status\"] = pd.to_numeric(data[\"Status\"])"
   ]
  },
  {
   "cell_type": "markdown",
   "metadata": {
    "id": "2I4oX0-8pLdS"
   },
   "source": [
    "Converting Status of the Order to Binary,\n",
    "\n",
    "*   Delivered - 1\n",
    "*   Cancelled - 0"
   ]
  },
  {
   "cell_type": "code",
   "execution_count": 57,
   "metadata": {
    "colab": {
     "base_uri": "https://localhost:8080/"
    },
    "id": "k3r0Ny08mWTB",
    "outputId": "85f1b053-af6e-42cb-d773-8236992cdc6b"
   },
   "outputs": [
    {
     "data": {
      "text/plain": [
       "array([1, 0], dtype=int64)"
      ]
     },
     "execution_count": 57,
     "metadata": {},
     "output_type": "execute_result"
    }
   ],
   "source": [
    "data[\"Status\"].unique()"
   ]
  },
  {
   "cell_type": "code",
   "execution_count": 58,
   "metadata": {
    "colab": {
     "base_uri": "https://localhost:8080/"
    },
    "id": "IQl8Ub1hmYdQ",
    "outputId": "01f4bcd7-198d-4d96-bdca-553cbc6436e0"
   },
   "outputs": [
    {
     "data": {
      "text/plain": [
       "Index(['DateTime', 'Distance', 'Status', 'Cost', 'PromoCode', 'Delivery Time',\n",
       "       'Discount', 'Payment mode', 'Delivery charges', 'Surge charges',\n",
       "       'Packaging charges', 'ST', 'Tip', 'PureVeg', 'Items', 'Membership',\n",
       "       'Type', 'Rating', 'Delivery Time Mins'],\n",
       "      dtype='object')"
      ]
     },
     "execution_count": 58,
     "metadata": {},
     "output_type": "execute_result"
    }
   ],
   "source": [
    "data.columns"
   ]
  },
  {
   "cell_type": "code",
   "execution_count": 59,
   "metadata": {
    "id": "wMMyhjGinnOF"
   },
   "outputs": [],
   "source": [
    "promo_dummies = pd.get_dummies(data['PromoCode'])\n",
    "Payment_dummies = pd.get_dummies(data['Payment mode'])\n",
    "Membership_dummies = pd.get_dummies(data['Membership'])"
   ]
  },
  {
   "cell_type": "code",
   "execution_count": 60,
   "metadata": {
    "id": "apSUMZJWqovp"
   },
   "outputs": [],
   "source": [
    "dummy_data = pd.concat([promo_dummies, Payment_dummies, Membership_dummies],axis = 1)"
   ]
  },
  {
   "cell_type": "code",
   "execution_count": 61,
   "metadata": {
    "colab": {
     "base_uri": "https://localhost:8080/"
    },
    "id": "QG_deY26qtvk",
    "outputId": "0e38eaf7-7386-4263-9978-78f709fb3961"
   },
   "outputs": [
    {
     "data": {
      "text/plain": [
       "Index(['BF', 'NPCA', 'PRO', 'CARD', 'COD', 'WALLET', 'BING', 'BONG', 'NO'], dtype='object')"
      ]
     },
     "execution_count": 61,
     "metadata": {},
     "output_type": "execute_result"
    }
   ],
   "source": [
    "dummy_data.columns"
   ]
  },
  {
   "cell_type": "code",
   "execution_count": 62,
   "metadata": {
    "id": "rdesn0deq830"
   },
   "outputs": [],
   "source": [
    "dummy_data.rename(columns={'BF':'PromoCode_BF','NPCA':'PromoCode_NPCA','PRO':'PromoCode_PRO','CARD':'PaymentMode_CARD','COD':'PaymentMode_COD','WALLET':'PaymentMode_WALLET','BING':'Membership_BING','BONG':'Membership_BONG','NO':'Membership_NO'},inplace=True)"
   ]
  },
  {
   "cell_type": "code",
   "execution_count": 63,
   "metadata": {
    "colab": {
     "base_uri": "https://localhost:8080/"
    },
    "id": "A99Uo89argQ4",
    "outputId": "a20b654d-4dfb-4178-d1a8-24da66685b38"
   },
   "outputs": [
    {
     "data": {
      "text/plain": [
       "Index(['PromoCode_BF', 'PromoCode_NPCA', 'PromoCode_PRO', 'PaymentMode_CARD',\n",
       "       'PaymentMode_COD', 'PaymentMode_WALLET', 'Membership_BING',\n",
       "       'Membership_BONG', 'Membership_NO'],\n",
       "      dtype='object')"
      ]
     },
     "execution_count": 63,
     "metadata": {},
     "output_type": "execute_result"
    }
   ],
   "source": [
    "dummy_data.columns"
   ]
  },
  {
   "cell_type": "code",
   "execution_count": 64,
   "metadata": {
    "id": "SR2WinUZrmdg"
   },
   "outputs": [],
   "source": [
    "data = pd.concat([data, dummy_data],axis = 1)"
   ]
  },
  {
   "cell_type": "code",
   "execution_count": 65,
   "metadata": {
    "colab": {
     "base_uri": "https://localhost:8080/"
    },
    "id": "K3r4PedksV6a",
    "outputId": "07a622ba-fc87-4c0e-eb49-9741eef2f9de"
   },
   "outputs": [
    {
     "data": {
      "text/plain": [
       "Index(['DateTime', 'Distance', 'Status', 'Cost', 'PromoCode', 'Delivery Time',\n",
       "       'Discount', 'Payment mode', 'Delivery charges', 'Surge charges',\n",
       "       'Packaging charges', 'ST', 'Tip', 'PureVeg', 'Items', 'Membership',\n",
       "       'Type', 'Rating', 'Delivery Time Mins', 'PromoCode_BF',\n",
       "       'PromoCode_NPCA', 'PromoCode_PRO', 'PaymentMode_CARD',\n",
       "       'PaymentMode_COD', 'PaymentMode_WALLET', 'Membership_BING',\n",
       "       'Membership_BONG', 'Membership_NO'],\n",
       "      dtype='object')"
      ]
     },
     "execution_count": 65,
     "metadata": {},
     "output_type": "execute_result"
    }
   ],
   "source": [
    "data.columns"
   ]
  },
  {
   "cell_type": "code",
   "execution_count": 66,
   "metadata": {
    "colab": {
     "base_uri": "https://localhost:8080/"
    },
    "id": "avEJNEqxsXPE",
    "outputId": "c8cae434-b5b9-44e4-fc73-c9035a3679ae"
   },
   "outputs": [
    {
     "data": {
      "text/plain": [
       "array(['VEG', 'MIX'], dtype=object)"
      ]
     },
     "execution_count": 66,
     "metadata": {},
     "output_type": "execute_result"
    }
   ],
   "source": [
    "data[\"Type\"].unique()"
   ]
  },
  {
   "cell_type": "code",
   "execution_count": 67,
   "metadata": {
    "colab": {
     "base_uri": "https://localhost:8080/"
    },
    "id": "uImzjDP8zVwn",
    "outputId": "05582856-e152-4c4f-ae54-0364f6a97bb9"
   },
   "outputs": [
    {
     "data": {
      "text/plain": [
       "1     DAL;CHICKEN;ROTI\n",
       "3      CHICKEN;BIRYANI\n",
       "7     DAL;CHICKEN;ROTI\n",
       "9      CHICKEN;BIRYANI\n",
       "12    DAL;CHICKEN;ROTI\n",
       "14     CHICKEN;BIRYANI\n",
       "17    DAL;CHICKEN;ROTI\n",
       "19     CHICKEN;BIRYANI\n",
       "22    DAL;CHICKEN;ROTI\n",
       "24     CHICKEN;BIRYANI\n",
       "27    DAL;CHICKEN;ROTI\n",
       "29     CHICKEN;BIRYANI\n",
       "33    DAL;CHICKEN;ROTI\n",
       "35     CHICKEN;BIRYANI\n",
       "38    DAL;CHICKEN;ROTI\n",
       "40     CHICKEN;BIRYANI\n",
       "43    DAL;CHICKEN;ROTI\n",
       "45     CHICKEN;BIRYANI\n",
       "48    DAL;CHICKEN;ROTI\n",
       "49    DAL;CHICKEN;ROTI\n",
       "51     CHICKEN;BIRYANI\n",
       "Name: Items, dtype: object"
      ]
     },
     "execution_count": 67,
     "metadata": {},
     "output_type": "execute_result"
    }
   ],
   "source": [
    "data[data[\"Type\"] == \"MIX\"][\"Items\"]"
   ]
  },
  {
   "cell_type": "code",
   "execution_count": 68,
   "metadata": {
    "colab": {
     "base_uri": "https://localhost:8080/"
    },
    "id": "nHVYDlO5zl_R",
    "outputId": "1897d206-b8b1-4b8a-c8d0-0e188ac5b2ca"
   },
   "outputs": [
    {
     "name": "stderr",
     "output_type": "stream",
     "text": [
      "<ipython-input-68-1d1539d4a8d5>:2: SettingWithCopyWarning: \n",
      "A value is trying to be set on a copy of a slice from a DataFrame\n",
      "\n",
      "See the caveats in the documentation: https://pandas.pydata.org/pandas-docs/stable/user_guide/indexing.html#returning-a-view-versus-a-copy\n",
      "  data[\"Type\"][ind] = \"NONVEG\"\n"
     ]
    }
   ],
   "source": [
    "for ind in (data[data['Items']==\"CHICKEN;BIRYANI\"].index.values.tolist()):\n",
    "  data[\"Type\"][ind] = \"NONVEG\""
   ]
  },
  {
   "cell_type": "code",
   "execution_count": 69,
   "metadata": {
    "colab": {
     "base_uri": "https://localhost:8080/"
    },
    "id": "Puufr6yl2u6s",
    "outputId": "9f25d351-d7d4-4624-9e9d-e6db9ca6af4d"
   },
   "outputs": [
    {
     "data": {
      "text/plain": [
       "array(['VEG', 'MIX', 'NONVEG'], dtype=object)"
      ]
     },
     "execution_count": 69,
     "metadata": {},
     "output_type": "execute_result"
    }
   ],
   "source": [
    "data[\"Type\"].unique()"
   ]
  },
  {
   "cell_type": "code",
   "execution_count": 70,
   "metadata": {
    "colab": {
     "base_uri": "https://localhost:8080/"
    },
    "id": "i0HSqKz83D-7",
    "outputId": "a54d5294-d8fc-4109-f1d7-5698b5ea5fcb"
   },
   "outputs": [
    {
     "data": {
      "text/plain": [
       "Index(['DateTime', 'Distance', 'Status', 'Cost', 'PromoCode', 'Delivery Time',\n",
       "       'Discount', 'Payment mode', 'Delivery charges', 'Surge charges',\n",
       "       'Packaging charges', 'ST', 'Tip', 'PureVeg', 'Items', 'Membership',\n",
       "       'Type', 'Rating', 'Delivery Time Mins', 'PromoCode_BF',\n",
       "       'PromoCode_NPCA', 'PromoCode_PRO', 'PaymentMode_CARD',\n",
       "       'PaymentMode_COD', 'PaymentMode_WALLET', 'Membership_BING',\n",
       "       'Membership_BONG', 'Membership_NO'],\n",
       "      dtype='object')"
      ]
     },
     "execution_count": 70,
     "metadata": {},
     "output_type": "execute_result"
    }
   ],
   "source": [
    "data.columns"
   ]
  },
  {
   "cell_type": "code",
   "execution_count": 71,
   "metadata": {
    "colab": {
     "base_uri": "https://localhost:8080/"
    },
    "id": "Jnfr-PWC45nf",
    "outputId": "8f547e79-9ed5-4c88-f5be-7bdfebee2570"
   },
   "outputs": [
    {
     "data": {
      "text/plain": [
       "Index(['DateTime', 'Distance', 'Status', 'Cost', 'PromoCode', 'Delivery Time',\n",
       "       'Discount', 'Payment mode', 'Delivery charges', 'Surge charges',\n",
       "       'Packaging charges', 'ST', 'Tip', 'PureVeg', 'Items', 'Membership',\n",
       "       'Type', 'Rating', 'Delivery Time Mins', 'PromoCode_BF',\n",
       "       'PromoCode_NPCA', 'PromoCode_PRO', 'PaymentMode_CARD',\n",
       "       'PaymentMode_COD', 'PaymentMode_WALLET', 'Membership_BING',\n",
       "       'Membership_BONG', 'Membership_NO'],\n",
       "      dtype='object')"
      ]
     },
     "execution_count": 71,
     "metadata": {},
     "output_type": "execute_result"
    }
   ],
   "source": [
    "data.columns"
   ]
  },
  {
   "cell_type": "code",
   "execution_count": 72,
   "metadata": {
    "id": "0WfW9oAd5PT1"
   },
   "outputs": [],
   "source": [
    "data.drop(['PureVeg','Items'],axis = 1,inplace=True)"
   ]
  },
  {
   "cell_type": "code",
   "execution_count": 73,
   "metadata": {
    "id": "QSuM4uW15th4"
   },
   "outputs": [],
   "source": [
    "types = pd.get_dummies(data['Type'])"
   ]
  },
  {
   "cell_type": "code",
   "execution_count": 74,
   "metadata": {
    "id": "OC4FHt7VCjLZ"
   },
   "outputs": [],
   "source": [
    "data = pd.concat([data, types],axis = 1)"
   ]
  },
  {
   "cell_type": "code",
   "execution_count": 75,
   "metadata": {
    "id": "bX9Ij1oOk9-m"
   },
   "outputs": [],
   "source": [
    "data.drop([\"Type\"],axis=1,inplace=True)"
   ]
  },
  {
   "cell_type": "markdown",
   "metadata": {
    "id": "NLIgHDalMMD3"
   },
   "source": [
    "<b>Feature Creation</b>"
   ]
  },
  {
   "cell_type": "code",
   "execution_count": 76,
   "metadata": {
    "id": "iB1GuTF_mbCu"
   },
   "outputs": [],
   "source": [
    "data['Paid Amount'] = data.apply(lambda x: (x['Cost'] * (x['Discount'] / 100)) + x['Delivery charges'] + x['Surge charges'] + x['Packaging charges'] , axis=1)"
   ]
  },
  {
   "cell_type": "code",
   "execution_count": 77,
   "metadata": {
    "id": "vdcjKbMR4Pq6"
   },
   "outputs": [],
   "source": [
    "data.drop(['DateTime','PromoCode','Delivery Time','Discount','Payment mode','Delivery charges','Surge charges','Packaging charges','ST','Tip','Membership'],axis = 1,inplace=True)"
   ]
  },
  {
   "cell_type": "code",
   "execution_count": 78,
   "metadata": {
    "colab": {
     "base_uri": "https://localhost:8080/"
    },
    "id": "m1hc2ek15pZx",
    "outputId": "cf03fb87-a5f2-45d0-f6dc-b87683609db8"
   },
   "outputs": [
    {
     "data": {
      "text/plain": [
       "Index(['Distance', 'Status', 'Cost', 'Rating', 'Delivery Time Mins',\n",
       "       'PromoCode_BF', 'PromoCode_NPCA', 'PromoCode_PRO', 'PaymentMode_CARD',\n",
       "       'PaymentMode_COD', 'PaymentMode_WALLET', 'Membership_BING',\n",
       "       'Membership_BONG', 'Membership_NO', 'MIX', 'NONVEG', 'VEG',\n",
       "       'Paid Amount'],\n",
       "      dtype='object')"
      ]
     },
     "execution_count": 78,
     "metadata": {},
     "output_type": "execute_result"
    }
   ],
   "source": [
    "data.columns"
   ]
  },
  {
   "cell_type": "code",
   "execution_count": 79,
   "metadata": {
    "colab": {
     "base_uri": "https://localhost:8080/",
     "height": 587
    },
    "id": "5y7XWOyg5qj1",
    "outputId": "923cdc71-767b-45fc-918d-de41a48527aa"
   },
   "outputs": [
    {
     "data": {
      "text/html": [
       "<div>\n",
       "<style scoped>\n",
       "    .dataframe tbody tr th:only-of-type {\n",
       "        vertical-align: middle;\n",
       "    }\n",
       "\n",
       "    .dataframe tbody tr th {\n",
       "        vertical-align: top;\n",
       "    }\n",
       "\n",
       "    .dataframe thead th {\n",
       "        text-align: right;\n",
       "    }\n",
       "</style>\n",
       "<table border=\"1\" class=\"dataframe\">\n",
       "  <thead>\n",
       "    <tr style=\"text-align: right;\">\n",
       "      <th></th>\n",
       "      <th>Distance</th>\n",
       "      <th>Status</th>\n",
       "      <th>Cost</th>\n",
       "      <th>Delivery Time Mins</th>\n",
       "      <th>Paid Amount</th>\n",
       "      <th>PromoCode_BF</th>\n",
       "      <th>PromoCode_NPCA</th>\n",
       "      <th>PromoCode_PRO</th>\n",
       "      <th>PaymentMode_CARD</th>\n",
       "      <th>PaymentMode_COD</th>\n",
       "      <th>PaymentMode_WALLET</th>\n",
       "      <th>Membership_BING</th>\n",
       "      <th>Membership_BONG</th>\n",
       "      <th>Membership_NO</th>\n",
       "    </tr>\n",
       "  </thead>\n",
       "  <tbody>\n",
       "    <tr>\n",
       "      <th>Distance</th>\n",
       "      <td>1.000000</td>\n",
       "      <td>-0.425486</td>\n",
       "      <td>0.005232</td>\n",
       "      <td>-0.162039</td>\n",
       "      <td>-0.057432</td>\n",
       "      <td>-0.239995</td>\n",
       "      <td>0.027257</td>\n",
       "      <td>0.134743</td>\n",
       "      <td>0.935011</td>\n",
       "      <td>-0.395773</td>\n",
       "      <td>-0.344876</td>\n",
       "      <td>0.390046</td>\n",
       "      <td>-0.314532</td>\n",
       "      <td>-0.146867</td>\n",
       "    </tr>\n",
       "    <tr>\n",
       "      <th>Status</th>\n",
       "      <td>-0.425486</td>\n",
       "      <td>1.000000</td>\n",
       "      <td>0.300257</td>\n",
       "      <td>0.768284</td>\n",
       "      <td>0.328356</td>\n",
       "      <td>0.319990</td>\n",
       "      <td>0.042951</td>\n",
       "      <td>-0.257019</td>\n",
       "      <td>-0.574960</td>\n",
       "      <td>-0.016855</td>\n",
       "      <td>0.479841</td>\n",
       "      <td>-0.181590</td>\n",
       "      <td>0.419371</td>\n",
       "      <td>-0.168309</td>\n",
       "    </tr>\n",
       "    <tr>\n",
       "      <th>Cost</th>\n",
       "      <td>0.005232</td>\n",
       "      <td>0.300257</td>\n",
       "      <td>1.000000</td>\n",
       "      <td>0.438621</td>\n",
       "      <td>0.243661</td>\n",
       "      <td>-0.370133</td>\n",
       "      <td>0.116077</td>\n",
       "      <td>0.135571</td>\n",
       "      <td>-0.085056</td>\n",
       "      <td>0.332063</td>\n",
       "      <td>-0.273271</td>\n",
       "      <td>0.300394</td>\n",
       "      <td>-0.228959</td>\n",
       "      <td>-0.124624</td>\n",
       "    </tr>\n",
       "    <tr>\n",
       "      <th>Delivery Time Mins</th>\n",
       "      <td>-0.162039</td>\n",
       "      <td>0.768284</td>\n",
       "      <td>0.438621</td>\n",
       "      <td>1.000000</td>\n",
       "      <td>0.231398</td>\n",
       "      <td>-0.146553</td>\n",
       "      <td>0.050201</td>\n",
       "      <td>0.049542</td>\n",
       "      <td>-0.441732</td>\n",
       "      <td>0.241156</td>\n",
       "      <td>0.107181</td>\n",
       "      <td>-0.031527</td>\n",
       "      <td>-0.192069</td>\n",
       "      <td>0.200474</td>\n",
       "    </tr>\n",
       "    <tr>\n",
       "      <th>Paid Amount</th>\n",
       "      <td>-0.057432</td>\n",
       "      <td>0.328356</td>\n",
       "      <td>0.243661</td>\n",
       "      <td>0.231398</td>\n",
       "      <td>1.000000</td>\n",
       "      <td>-0.291839</td>\n",
       "      <td>0.292296</td>\n",
       "      <td>-0.088993</td>\n",
       "      <td>-0.045299</td>\n",
       "      <td>-0.255538</td>\n",
       "      <td>0.299385</td>\n",
       "      <td>0.232239</td>\n",
       "      <td>0.026863</td>\n",
       "      <td>-0.273143</td>\n",
       "    </tr>\n",
       "    <tr>\n",
       "      <th>PromoCode_BF</th>\n",
       "      <td>-0.239995</td>\n",
       "      <td>0.319990</td>\n",
       "      <td>-0.370133</td>\n",
       "      <td>-0.146553</td>\n",
       "      <td>-0.291839</td>\n",
       "      <td>1.000000</td>\n",
       "      <td>-0.307860</td>\n",
       "      <td>-0.371884</td>\n",
       "      <td>-0.183981</td>\n",
       "      <td>-0.345180</td>\n",
       "      <td>0.503181</td>\n",
       "      <td>-0.371884</td>\n",
       "      <td>0.763024</td>\n",
       "      <td>-0.261592</td>\n",
       "    </tr>\n",
       "    <tr>\n",
       "      <th>PromoCode_NPCA</th>\n",
       "      <td>0.027257</td>\n",
       "      <td>0.042951</td>\n",
       "      <td>0.116077</td>\n",
       "      <td>0.050201</td>\n",
       "      <td>0.292296</td>\n",
       "      <td>-0.307860</td>\n",
       "      <td>1.000000</td>\n",
       "      <td>-0.768706</td>\n",
       "      <td>0.010866</td>\n",
       "      <td>-0.407718</td>\n",
       "      <td>0.410798</td>\n",
       "      <td>-0.084473</td>\n",
       "      <td>-0.026200</td>\n",
       "      <td>0.113598</td>\n",
       "    </tr>\n",
       "    <tr>\n",
       "      <th>PromoCode_PRO</th>\n",
       "      <td>0.134743</td>\n",
       "      <td>-0.257019</td>\n",
       "      <td>0.135571</td>\n",
       "      <td>0.049542</td>\n",
       "      <td>-0.088993</td>\n",
       "      <td>-0.371884</td>\n",
       "      <td>-0.768706</td>\n",
       "      <td>1.000000</td>\n",
       "      <td>0.113081</td>\n",
       "      <td>0.629844</td>\n",
       "      <td>-0.739066</td>\n",
       "      <td>0.332418</td>\n",
       "      <td>-0.487382</td>\n",
       "      <td>0.065022</td>\n",
       "    </tr>\n",
       "    <tr>\n",
       "      <th>PaymentMode_CARD</th>\n",
       "      <td>0.935011</td>\n",
       "      <td>-0.574960</td>\n",
       "      <td>-0.085056</td>\n",
       "      <td>-0.441732</td>\n",
       "      <td>-0.045299</td>\n",
       "      <td>-0.183981</td>\n",
       "      <td>0.010866</td>\n",
       "      <td>0.113081</td>\n",
       "      <td>1.000000</td>\n",
       "      <td>-0.426401</td>\n",
       "      <td>-0.365636</td>\n",
       "      <td>0.494727</td>\n",
       "      <td>-0.241121</td>\n",
       "      <td>-0.323145</td>\n",
       "    </tr>\n",
       "    <tr>\n",
       "      <th>PaymentMode_COD</th>\n",
       "      <td>-0.395773</td>\n",
       "      <td>-0.016855</td>\n",
       "      <td>0.332063</td>\n",
       "      <td>0.241156</td>\n",
       "      <td>-0.255538</td>\n",
       "      <td>-0.345180</td>\n",
       "      <td>-0.407718</td>\n",
       "      <td>0.629844</td>\n",
       "      <td>-0.426401</td>\n",
       "      <td>1.000000</td>\n",
       "      <td>-0.685994</td>\n",
       "      <td>0.107736</td>\n",
       "      <td>-0.452384</td>\n",
       "      <td>0.276389</td>\n",
       "    </tr>\n",
       "    <tr>\n",
       "      <th>PaymentMode_WALLET</th>\n",
       "      <td>-0.344876</td>\n",
       "      <td>0.479841</td>\n",
       "      <td>-0.273271</td>\n",
       "      <td>0.107181</td>\n",
       "      <td>0.299385</td>\n",
       "      <td>0.503181</td>\n",
       "      <td>0.410798</td>\n",
       "      <td>-0.739066</td>\n",
       "      <td>-0.365636</td>\n",
       "      <td>-0.685994</td>\n",
       "      <td>1.000000</td>\n",
       "      <td>-0.508818</td>\n",
       "      <td>0.659457</td>\n",
       "      <td>-0.024465</td>\n",
       "    </tr>\n",
       "    <tr>\n",
       "      <th>Membership_BING</th>\n",
       "      <td>0.390046</td>\n",
       "      <td>-0.181590</td>\n",
       "      <td>0.300394</td>\n",
       "      <td>-0.031527</td>\n",
       "      <td>0.232239</td>\n",
       "      <td>-0.371884</td>\n",
       "      <td>-0.084473</td>\n",
       "      <td>0.332418</td>\n",
       "      <td>0.494727</td>\n",
       "      <td>0.107736</td>\n",
       "      <td>-0.508818</td>\n",
       "      <td>1.000000</td>\n",
       "      <td>-0.487382</td>\n",
       "      <td>-0.653178</td>\n",
       "    </tr>\n",
       "    <tr>\n",
       "      <th>Membership_BONG</th>\n",
       "      <td>-0.314532</td>\n",
       "      <td>0.419371</td>\n",
       "      <td>-0.228959</td>\n",
       "      <td>-0.192069</td>\n",
       "      <td>0.026863</td>\n",
       "      <td>0.763024</td>\n",
       "      <td>-0.026200</td>\n",
       "      <td>-0.487382</td>\n",
       "      <td>-0.241121</td>\n",
       "      <td>-0.452384</td>\n",
       "      <td>0.659457</td>\n",
       "      <td>-0.487382</td>\n",
       "      <td>1.000000</td>\n",
       "      <td>-0.342835</td>\n",
       "    </tr>\n",
       "    <tr>\n",
       "      <th>Membership_NO</th>\n",
       "      <td>-0.146867</td>\n",
       "      <td>-0.168309</td>\n",
       "      <td>-0.124624</td>\n",
       "      <td>0.200474</td>\n",
       "      <td>-0.273143</td>\n",
       "      <td>-0.261592</td>\n",
       "      <td>0.113598</td>\n",
       "      <td>0.065022</td>\n",
       "      <td>-0.323145</td>\n",
       "      <td>0.276389</td>\n",
       "      <td>-0.024465</td>\n",
       "      <td>-0.653178</td>\n",
       "      <td>-0.342835</td>\n",
       "      <td>1.000000</td>\n",
       "    </tr>\n",
       "  </tbody>\n",
       "</table>\n",
       "</div>"
      ],
      "text/plain": [
       "                    Distance    Status      Cost  Delivery Time Mins  \\\n",
       "Distance            1.000000 -0.425486  0.005232           -0.162039   \n",
       "Status             -0.425486  1.000000  0.300257            0.768284   \n",
       "Cost                0.005232  0.300257  1.000000            0.438621   \n",
       "Delivery Time Mins -0.162039  0.768284  0.438621            1.000000   \n",
       "Paid Amount        -0.057432  0.328356  0.243661            0.231398   \n",
       "PromoCode_BF       -0.239995  0.319990 -0.370133           -0.146553   \n",
       "PromoCode_NPCA      0.027257  0.042951  0.116077            0.050201   \n",
       "PromoCode_PRO       0.134743 -0.257019  0.135571            0.049542   \n",
       "PaymentMode_CARD    0.935011 -0.574960 -0.085056           -0.441732   \n",
       "PaymentMode_COD    -0.395773 -0.016855  0.332063            0.241156   \n",
       "PaymentMode_WALLET -0.344876  0.479841 -0.273271            0.107181   \n",
       "Membership_BING     0.390046 -0.181590  0.300394           -0.031527   \n",
       "Membership_BONG    -0.314532  0.419371 -0.228959           -0.192069   \n",
       "Membership_NO      -0.146867 -0.168309 -0.124624            0.200474   \n",
       "\n",
       "                    Paid Amount  PromoCode_BF  PromoCode_NPCA  PromoCode_PRO  \\\n",
       "Distance              -0.057432     -0.239995        0.027257       0.134743   \n",
       "Status                 0.328356      0.319990        0.042951      -0.257019   \n",
       "Cost                   0.243661     -0.370133        0.116077       0.135571   \n",
       "Delivery Time Mins     0.231398     -0.146553        0.050201       0.049542   \n",
       "Paid Amount            1.000000     -0.291839        0.292296      -0.088993   \n",
       "PromoCode_BF          -0.291839      1.000000       -0.307860      -0.371884   \n",
       "PromoCode_NPCA         0.292296     -0.307860        1.000000      -0.768706   \n",
       "PromoCode_PRO         -0.088993     -0.371884       -0.768706       1.000000   \n",
       "PaymentMode_CARD      -0.045299     -0.183981        0.010866       0.113081   \n",
       "PaymentMode_COD       -0.255538     -0.345180       -0.407718       0.629844   \n",
       "PaymentMode_WALLET     0.299385      0.503181        0.410798      -0.739066   \n",
       "Membership_BING        0.232239     -0.371884       -0.084473       0.332418   \n",
       "Membership_BONG        0.026863      0.763024       -0.026200      -0.487382   \n",
       "Membership_NO         -0.273143     -0.261592        0.113598       0.065022   \n",
       "\n",
       "                    PaymentMode_CARD  PaymentMode_COD  PaymentMode_WALLET  \\\n",
       "Distance                    0.935011        -0.395773           -0.344876   \n",
       "Status                     -0.574960        -0.016855            0.479841   \n",
       "Cost                       -0.085056         0.332063           -0.273271   \n",
       "Delivery Time Mins         -0.441732         0.241156            0.107181   \n",
       "Paid Amount                -0.045299        -0.255538            0.299385   \n",
       "PromoCode_BF               -0.183981        -0.345180            0.503181   \n",
       "PromoCode_NPCA              0.010866        -0.407718            0.410798   \n",
       "PromoCode_PRO               0.113081         0.629844           -0.739066   \n",
       "PaymentMode_CARD            1.000000        -0.426401           -0.365636   \n",
       "PaymentMode_COD            -0.426401         1.000000           -0.685994   \n",
       "PaymentMode_WALLET         -0.365636        -0.685994            1.000000   \n",
       "Membership_BING             0.494727         0.107736           -0.508818   \n",
       "Membership_BONG            -0.241121        -0.452384            0.659457   \n",
       "Membership_NO              -0.323145         0.276389           -0.024465   \n",
       "\n",
       "                    Membership_BING  Membership_BONG  Membership_NO  \n",
       "Distance                   0.390046        -0.314532      -0.146867  \n",
       "Status                    -0.181590         0.419371      -0.168309  \n",
       "Cost                       0.300394        -0.228959      -0.124624  \n",
       "Delivery Time Mins        -0.031527        -0.192069       0.200474  \n",
       "Paid Amount                0.232239         0.026863      -0.273143  \n",
       "PromoCode_BF              -0.371884         0.763024      -0.261592  \n",
       "PromoCode_NPCA            -0.084473        -0.026200       0.113598  \n",
       "PromoCode_PRO              0.332418        -0.487382       0.065022  \n",
       "PaymentMode_CARD           0.494727        -0.241121      -0.323145  \n",
       "PaymentMode_COD            0.107736        -0.452384       0.276389  \n",
       "PaymentMode_WALLET        -0.508818         0.659457      -0.024465  \n",
       "Membership_BING            1.000000        -0.487382      -0.653178  \n",
       "Membership_BONG           -0.487382         1.000000      -0.342835  \n",
       "Membership_NO             -0.653178        -0.342835       1.000000  "
      ]
     },
     "execution_count": 79,
     "metadata": {},
     "output_type": "execute_result"
    }
   ],
   "source": [
    "data[['Distance', 'Status', 'Cost', 'Delivery Time Mins',\n",
    "       'Paid Amount', 'PromoCode_BF', 'PromoCode_NPCA', 'PromoCode_PRO',\n",
    "       'PaymentMode_CARD', 'PaymentMode_COD', 'PaymentMode_WALLET',\n",
    "       'Membership_BING', 'Membership_BONG', 'Membership_NO']].corr()"
   ]
  },
  {
   "cell_type": "code",
   "execution_count": 80,
   "metadata": {
    "colab": {
     "base_uri": "https://localhost:8080/"
    },
    "id": "SEIGgYjvCmg9",
    "outputId": "2f8c5d63-7510-4c31-cf62-a74cb0182137"
   },
   "outputs": [
    {
     "data": {
      "text/plain": [
       "Index(['Distance', 'Status', 'Cost', 'Rating', 'Delivery Time Mins',\n",
       "       'PromoCode_BF', 'PromoCode_NPCA', 'PromoCode_PRO', 'PaymentMode_CARD',\n",
       "       'PaymentMode_COD', 'PaymentMode_WALLET', 'Membership_BING',\n",
       "       'Membership_BONG', 'Membership_NO', 'MIX', 'NONVEG', 'VEG',\n",
       "       'Paid Amount'],\n",
       "      dtype='object')"
      ]
     },
     "execution_count": 80,
     "metadata": {},
     "output_type": "execute_result"
    }
   ],
   "source": [
    "data.columns"
   ]
  },
  {
   "cell_type": "markdown",
   "metadata": {
    "id": "9AnrrxGnkcoO"
   },
   "source": [
    "**Normalization**"
   ]
  },
  {
   "cell_type": "code",
   "execution_count": 81,
   "metadata": {
    "colab": {
     "base_uri": "https://localhost:8080/",
     "height": 305
    },
    "id": "Zrm1TkUylKpA",
    "outputId": "68d24bee-ee64-479b-c34d-025ed7a9c3fa"
   },
   "outputs": [
    {
     "data": {
      "text/html": [
       "<div>\n",
       "<style scoped>\n",
       "    .dataframe tbody tr th:only-of-type {\n",
       "        vertical-align: middle;\n",
       "    }\n",
       "\n",
       "    .dataframe tbody tr th {\n",
       "        vertical-align: top;\n",
       "    }\n",
       "\n",
       "    .dataframe thead th {\n",
       "        text-align: right;\n",
       "    }\n",
       "</style>\n",
       "<table border=\"1\" class=\"dataframe\">\n",
       "  <thead>\n",
       "    <tr style=\"text-align: right;\">\n",
       "      <th></th>\n",
       "      <th>Distance</th>\n",
       "      <th>Status</th>\n",
       "      <th>Cost</th>\n",
       "      <th>Rating</th>\n",
       "      <th>Delivery Time Mins</th>\n",
       "      <th>PromoCode_BF</th>\n",
       "      <th>PromoCode_NPCA</th>\n",
       "      <th>PromoCode_PRO</th>\n",
       "      <th>PaymentMode_CARD</th>\n",
       "      <th>PaymentMode_COD</th>\n",
       "      <th>PaymentMode_WALLET</th>\n",
       "      <th>Membership_BING</th>\n",
       "      <th>Membership_BONG</th>\n",
       "      <th>Membership_NO</th>\n",
       "      <th>MIX</th>\n",
       "      <th>NONVEG</th>\n",
       "      <th>VEG</th>\n",
       "      <th>Paid Amount</th>\n",
       "    </tr>\n",
       "  </thead>\n",
       "  <tbody>\n",
       "    <tr>\n",
       "      <th>0</th>\n",
       "      <td>3.0</td>\n",
       "      <td>1</td>\n",
       "      <td>300.0</td>\n",
       "      <td>2.0</td>\n",
       "      <td>60</td>\n",
       "      <td>0</td>\n",
       "      <td>0</td>\n",
       "      <td>1</td>\n",
       "      <td>0</td>\n",
       "      <td>1</td>\n",
       "      <td>0</td>\n",
       "      <td>1</td>\n",
       "      <td>0</td>\n",
       "      <td>0</td>\n",
       "      <td>0</td>\n",
       "      <td>0</td>\n",
       "      <td>1</td>\n",
       "      <td>180.0</td>\n",
       "    </tr>\n",
       "    <tr>\n",
       "      <th>1</th>\n",
       "      <td>3.0</td>\n",
       "      <td>1</td>\n",
       "      <td>100.0</td>\n",
       "      <td>4.0</td>\n",
       "      <td>20</td>\n",
       "      <td>1</td>\n",
       "      <td>0</td>\n",
       "      <td>0</td>\n",
       "      <td>0</td>\n",
       "      <td>0</td>\n",
       "      <td>1</td>\n",
       "      <td>0</td>\n",
       "      <td>1</td>\n",
       "      <td>0</td>\n",
       "      <td>1</td>\n",
       "      <td>0</td>\n",
       "      <td>0</td>\n",
       "      <td>30.0</td>\n",
       "    </tr>\n",
       "    <tr>\n",
       "      <th>2</th>\n",
       "      <td>6.0</td>\n",
       "      <td>0</td>\n",
       "      <td>250.0</td>\n",
       "      <td>0.0</td>\n",
       "      <td>0</td>\n",
       "      <td>0</td>\n",
       "      <td>0</td>\n",
       "      <td>1</td>\n",
       "      <td>1</td>\n",
       "      <td>0</td>\n",
       "      <td>0</td>\n",
       "      <td>1</td>\n",
       "      <td>0</td>\n",
       "      <td>0</td>\n",
       "      <td>0</td>\n",
       "      <td>0</td>\n",
       "      <td>1</td>\n",
       "      <td>107.5</td>\n",
       "    </tr>\n",
       "    <tr>\n",
       "      <th>3</th>\n",
       "      <td>4.0</td>\n",
       "      <td>1</td>\n",
       "      <td>550.0</td>\n",
       "      <td>1.0</td>\n",
       "      <td>95</td>\n",
       "      <td>0</td>\n",
       "      <td>0</td>\n",
       "      <td>1</td>\n",
       "      <td>0</td>\n",
       "      <td>1</td>\n",
       "      <td>0</td>\n",
       "      <td>0</td>\n",
       "      <td>0</td>\n",
       "      <td>1</td>\n",
       "      <td>0</td>\n",
       "      <td>1</td>\n",
       "      <td>0</td>\n",
       "      <td>45.0</td>\n",
       "    </tr>\n",
       "    <tr>\n",
       "      <th>4</th>\n",
       "      <td>3.0</td>\n",
       "      <td>0</td>\n",
       "      <td>125.0</td>\n",
       "      <td>1.0</td>\n",
       "      <td>0</td>\n",
       "      <td>0</td>\n",
       "      <td>0</td>\n",
       "      <td>1</td>\n",
       "      <td>0</td>\n",
       "      <td>1</td>\n",
       "      <td>0</td>\n",
       "      <td>0</td>\n",
       "      <td>0</td>\n",
       "      <td>1</td>\n",
       "      <td>0</td>\n",
       "      <td>0</td>\n",
       "      <td>1</td>\n",
       "      <td>30.0</td>\n",
       "    </tr>\n",
       "  </tbody>\n",
       "</table>\n",
       "</div>"
      ],
      "text/plain": [
       "   Distance  Status   Cost  Rating  Delivery Time Mins  PromoCode_BF  \\\n",
       "0       3.0       1  300.0     2.0                  60             0   \n",
       "1       3.0       1  100.0     4.0                  20             1   \n",
       "2       6.0       0  250.0     0.0                   0             0   \n",
       "3       4.0       1  550.0     1.0                  95             0   \n",
       "4       3.0       0  125.0     1.0                   0             0   \n",
       "\n",
       "   PromoCode_NPCA  PromoCode_PRO  PaymentMode_CARD  PaymentMode_COD  \\\n",
       "0               0              1                 0                1   \n",
       "1               0              0                 0                0   \n",
       "2               0              1                 1                0   \n",
       "3               0              1                 0                1   \n",
       "4               0              1                 0                1   \n",
       "\n",
       "   PaymentMode_WALLET  Membership_BING  Membership_BONG  Membership_NO  MIX  \\\n",
       "0                   0                1                0              0    0   \n",
       "1                   1                0                1              0    1   \n",
       "2                   0                1                0              0    0   \n",
       "3                   0                0                0              1    0   \n",
       "4                   0                0                0              1    0   \n",
       "\n",
       "   NONVEG  VEG  Paid Amount  \n",
       "0       0    1        180.0  \n",
       "1       0    0         30.0  \n",
       "2       0    1        107.5  \n",
       "3       1    0         45.0  \n",
       "4       0    1         30.0  "
      ]
     },
     "execution_count": 81,
     "metadata": {},
     "output_type": "execute_result"
    }
   ],
   "source": [
    "data.head()"
   ]
  },
  {
   "cell_type": "markdown",
   "metadata": {
    "id": "YmnkFe6kkxnG"
   },
   "source": [
    "We should standardized Cost, Delivery Time Mins and Paid Amount."
   ]
  },
  {
   "cell_type": "code",
   "execution_count": 82,
   "metadata": {
    "id": "MezNfEq1kmA2"
   },
   "outputs": [],
   "source": [
    "data[\"Distance\"] = (data[\"Distance\"] - (data[\"Distance\"].min()))/(data[\"Distance\"].max() - (data[\"Distance\"].min()))\n",
    "data[\"Cost\"] = (data[\"Cost\"] - (data[\"Cost\"].min()))/(data[\"Cost\"].max() - (data[\"Cost\"].min()))\n",
    "data[\"Delivery Time Mins\"] = (data[\"Delivery Time Mins\"] - (data[\"Delivery Time Mins\"].min()))/(data[\"Delivery Time Mins\"].max() - (data[\"Delivery Time Mins\"].min()))\n",
    "data['Paid Amount'] = (data[\"Paid Amount\"] - (data[\"Paid Amount\"].min()))/(data[\"Paid Amount\"].max() - (data[\"Paid Amount\"].min()))"
   ]
  },
  {
   "cell_type": "code",
   "execution_count": 83,
   "metadata": {
    "colab": {
     "base_uri": "https://localhost:8080/",
     "height": 305
    },
    "id": "EQPHXeVwpsiF",
    "outputId": "fb99abaa-48e0-432c-bae5-badd605ed492"
   },
   "outputs": [
    {
     "data": {
      "text/html": [
       "<div>\n",
       "<style scoped>\n",
       "    .dataframe tbody tr th:only-of-type {\n",
       "        vertical-align: middle;\n",
       "    }\n",
       "\n",
       "    .dataframe tbody tr th {\n",
       "        vertical-align: top;\n",
       "    }\n",
       "\n",
       "    .dataframe thead th {\n",
       "        text-align: right;\n",
       "    }\n",
       "</style>\n",
       "<table border=\"1\" class=\"dataframe\">\n",
       "  <thead>\n",
       "    <tr style=\"text-align: right;\">\n",
       "      <th></th>\n",
       "      <th>Distance</th>\n",
       "      <th>Status</th>\n",
       "      <th>Cost</th>\n",
       "      <th>Rating</th>\n",
       "      <th>Delivery Time Mins</th>\n",
       "      <th>PromoCode_BF</th>\n",
       "      <th>PromoCode_NPCA</th>\n",
       "      <th>PromoCode_PRO</th>\n",
       "      <th>PaymentMode_CARD</th>\n",
       "      <th>PaymentMode_COD</th>\n",
       "      <th>PaymentMode_WALLET</th>\n",
       "      <th>Membership_BING</th>\n",
       "      <th>Membership_BONG</th>\n",
       "      <th>Membership_NO</th>\n",
       "      <th>MIX</th>\n",
       "      <th>NONVEG</th>\n",
       "      <th>VEG</th>\n",
       "      <th>Paid Amount</th>\n",
       "    </tr>\n",
       "  </thead>\n",
       "  <tbody>\n",
       "    <tr>\n",
       "      <th>0</th>\n",
       "      <td>0.25</td>\n",
       "      <td>1</td>\n",
       "      <td>0.40</td>\n",
       "      <td>2.0</td>\n",
       "      <td>0.631579</td>\n",
       "      <td>0</td>\n",
       "      <td>0</td>\n",
       "      <td>1</td>\n",
       "      <td>0</td>\n",
       "      <td>1</td>\n",
       "      <td>0</td>\n",
       "      <td>1</td>\n",
       "      <td>0</td>\n",
       "      <td>0</td>\n",
       "      <td>0</td>\n",
       "      <td>0</td>\n",
       "      <td>1</td>\n",
       "      <td>0.60</td>\n",
       "    </tr>\n",
       "    <tr>\n",
       "      <th>1</th>\n",
       "      <td>0.25</td>\n",
       "      <td>1</td>\n",
       "      <td>0.00</td>\n",
       "      <td>4.0</td>\n",
       "      <td>0.210526</td>\n",
       "      <td>1</td>\n",
       "      <td>0</td>\n",
       "      <td>0</td>\n",
       "      <td>0</td>\n",
       "      <td>0</td>\n",
       "      <td>1</td>\n",
       "      <td>0</td>\n",
       "      <td>1</td>\n",
       "      <td>0</td>\n",
       "      <td>1</td>\n",
       "      <td>0</td>\n",
       "      <td>0</td>\n",
       "      <td>0.00</td>\n",
       "    </tr>\n",
       "    <tr>\n",
       "      <th>2</th>\n",
       "      <td>1.00</td>\n",
       "      <td>0</td>\n",
       "      <td>0.30</td>\n",
       "      <td>0.0</td>\n",
       "      <td>0.000000</td>\n",
       "      <td>0</td>\n",
       "      <td>0</td>\n",
       "      <td>1</td>\n",
       "      <td>1</td>\n",
       "      <td>0</td>\n",
       "      <td>0</td>\n",
       "      <td>1</td>\n",
       "      <td>0</td>\n",
       "      <td>0</td>\n",
       "      <td>0</td>\n",
       "      <td>0</td>\n",
       "      <td>1</td>\n",
       "      <td>0.31</td>\n",
       "    </tr>\n",
       "    <tr>\n",
       "      <th>3</th>\n",
       "      <td>0.50</td>\n",
       "      <td>1</td>\n",
       "      <td>0.90</td>\n",
       "      <td>1.0</td>\n",
       "      <td>1.000000</td>\n",
       "      <td>0</td>\n",
       "      <td>0</td>\n",
       "      <td>1</td>\n",
       "      <td>0</td>\n",
       "      <td>1</td>\n",
       "      <td>0</td>\n",
       "      <td>0</td>\n",
       "      <td>0</td>\n",
       "      <td>1</td>\n",
       "      <td>0</td>\n",
       "      <td>1</td>\n",
       "      <td>0</td>\n",
       "      <td>0.06</td>\n",
       "    </tr>\n",
       "    <tr>\n",
       "      <th>4</th>\n",
       "      <td>0.25</td>\n",
       "      <td>0</td>\n",
       "      <td>0.05</td>\n",
       "      <td>1.0</td>\n",
       "      <td>0.000000</td>\n",
       "      <td>0</td>\n",
       "      <td>0</td>\n",
       "      <td>1</td>\n",
       "      <td>0</td>\n",
       "      <td>1</td>\n",
       "      <td>0</td>\n",
       "      <td>0</td>\n",
       "      <td>0</td>\n",
       "      <td>1</td>\n",
       "      <td>0</td>\n",
       "      <td>0</td>\n",
       "      <td>1</td>\n",
       "      <td>0.00</td>\n",
       "    </tr>\n",
       "  </tbody>\n",
       "</table>\n",
       "</div>"
      ],
      "text/plain": [
       "   Distance  Status  Cost  Rating  Delivery Time Mins  PromoCode_BF  \\\n",
       "0      0.25       1  0.40     2.0            0.631579             0   \n",
       "1      0.25       1  0.00     4.0            0.210526             1   \n",
       "2      1.00       0  0.30     0.0            0.000000             0   \n",
       "3      0.50       1  0.90     1.0            1.000000             0   \n",
       "4      0.25       0  0.05     1.0            0.000000             0   \n",
       "\n",
       "   PromoCode_NPCA  PromoCode_PRO  PaymentMode_CARD  PaymentMode_COD  \\\n",
       "0               0              1                 0                1   \n",
       "1               0              0                 0                0   \n",
       "2               0              1                 1                0   \n",
       "3               0              1                 0                1   \n",
       "4               0              1                 0                1   \n",
       "\n",
       "   PaymentMode_WALLET  Membership_BING  Membership_BONG  Membership_NO  MIX  \\\n",
       "0                   0                1                0              0    0   \n",
       "1                   1                0                1              0    1   \n",
       "2                   0                1                0              0    0   \n",
       "3                   0                0                0              1    0   \n",
       "4                   0                0                0              1    0   \n",
       "\n",
       "   NONVEG  VEG  Paid Amount  \n",
       "0       0    1         0.60  \n",
       "1       0    0         0.00  \n",
       "2       0    1         0.31  \n",
       "3       1    0         0.06  \n",
       "4       0    1         0.00  "
      ]
     },
     "execution_count": 83,
     "metadata": {},
     "output_type": "execute_result"
    }
   ],
   "source": [
    "data.head()"
   ]
  },
  {
   "cell_type": "code",
   "execution_count": 84,
   "metadata": {
    "colab": {
     "base_uri": "https://localhost:8080/"
    },
    "id": "RY9lP-TXrwaf",
    "outputId": "a9436d51-1d72-4e9e-d785-22fdb4cd159b"
   },
   "outputs": [
    {
     "data": {
      "text/plain": [
       "Index(['Distance', 'Status', 'Cost', 'Rating', 'Delivery Time Mins',\n",
       "       'PromoCode_BF', 'PromoCode_NPCA', 'PromoCode_PRO', 'PaymentMode_CARD',\n",
       "       'PaymentMode_COD', 'PaymentMode_WALLET', 'Membership_BING',\n",
       "       'Membership_BONG', 'Membership_NO', 'MIX', 'NONVEG', 'VEG',\n",
       "       'Paid Amount'],\n",
       "      dtype='object')"
      ]
     },
     "execution_count": 84,
     "metadata": {},
     "output_type": "execute_result"
    }
   ],
   "source": [
    "data.columns"
   ]
  },
  {
   "cell_type": "code",
   "execution_count": 85,
   "metadata": {
    "id": "u0dfX2_JzfaT"
   },
   "outputs": [],
   "source": [
    "data = data[['Distance', 'Status', 'Cost', 'Delivery Time Mins',\n",
    "       'Paid Amount', 'PromoCode_BF', 'PromoCode_NPCA', 'PromoCode_PRO',\n",
    "       'PaymentMode_CARD', 'PaymentMode_COD', 'PaymentMode_WALLET',\n",
    "       'Membership_BING', 'Membership_BONG', 'Membership_NO', 'MIX', 'NONVEG',\n",
    "       'VEG','Rating']]"
   ]
  },
  {
   "cell_type": "code",
   "execution_count": 86,
   "metadata": {
    "colab": {
     "base_uri": "https://localhost:8080/",
     "height": 305
    },
    "id": "_7iX2qF3znwE",
    "outputId": "2c7e8bdb-0abc-4947-e64c-cbe95880f366"
   },
   "outputs": [
    {
     "data": {
      "text/html": [
       "<div>\n",
       "<style scoped>\n",
       "    .dataframe tbody tr th:only-of-type {\n",
       "        vertical-align: middle;\n",
       "    }\n",
       "\n",
       "    .dataframe tbody tr th {\n",
       "        vertical-align: top;\n",
       "    }\n",
       "\n",
       "    .dataframe thead th {\n",
       "        text-align: right;\n",
       "    }\n",
       "</style>\n",
       "<table border=\"1\" class=\"dataframe\">\n",
       "  <thead>\n",
       "    <tr style=\"text-align: right;\">\n",
       "      <th></th>\n",
       "      <th>Distance</th>\n",
       "      <th>Status</th>\n",
       "      <th>Cost</th>\n",
       "      <th>Delivery Time Mins</th>\n",
       "      <th>Paid Amount</th>\n",
       "      <th>PromoCode_BF</th>\n",
       "      <th>PromoCode_NPCA</th>\n",
       "      <th>PromoCode_PRO</th>\n",
       "      <th>PaymentMode_CARD</th>\n",
       "      <th>PaymentMode_COD</th>\n",
       "      <th>PaymentMode_WALLET</th>\n",
       "      <th>Membership_BING</th>\n",
       "      <th>Membership_BONG</th>\n",
       "      <th>Membership_NO</th>\n",
       "      <th>MIX</th>\n",
       "      <th>NONVEG</th>\n",
       "      <th>VEG</th>\n",
       "      <th>Rating</th>\n",
       "    </tr>\n",
       "  </thead>\n",
       "  <tbody>\n",
       "    <tr>\n",
       "      <th>0</th>\n",
       "      <td>0.25</td>\n",
       "      <td>1</td>\n",
       "      <td>0.40</td>\n",
       "      <td>0.631579</td>\n",
       "      <td>0.60</td>\n",
       "      <td>0</td>\n",
       "      <td>0</td>\n",
       "      <td>1</td>\n",
       "      <td>0</td>\n",
       "      <td>1</td>\n",
       "      <td>0</td>\n",
       "      <td>1</td>\n",
       "      <td>0</td>\n",
       "      <td>0</td>\n",
       "      <td>0</td>\n",
       "      <td>0</td>\n",
       "      <td>1</td>\n",
       "      <td>2.0</td>\n",
       "    </tr>\n",
       "    <tr>\n",
       "      <th>1</th>\n",
       "      <td>0.25</td>\n",
       "      <td>1</td>\n",
       "      <td>0.00</td>\n",
       "      <td>0.210526</td>\n",
       "      <td>0.00</td>\n",
       "      <td>1</td>\n",
       "      <td>0</td>\n",
       "      <td>0</td>\n",
       "      <td>0</td>\n",
       "      <td>0</td>\n",
       "      <td>1</td>\n",
       "      <td>0</td>\n",
       "      <td>1</td>\n",
       "      <td>0</td>\n",
       "      <td>1</td>\n",
       "      <td>0</td>\n",
       "      <td>0</td>\n",
       "      <td>4.0</td>\n",
       "    </tr>\n",
       "    <tr>\n",
       "      <th>2</th>\n",
       "      <td>1.00</td>\n",
       "      <td>0</td>\n",
       "      <td>0.30</td>\n",
       "      <td>0.000000</td>\n",
       "      <td>0.31</td>\n",
       "      <td>0</td>\n",
       "      <td>0</td>\n",
       "      <td>1</td>\n",
       "      <td>1</td>\n",
       "      <td>0</td>\n",
       "      <td>0</td>\n",
       "      <td>1</td>\n",
       "      <td>0</td>\n",
       "      <td>0</td>\n",
       "      <td>0</td>\n",
       "      <td>0</td>\n",
       "      <td>1</td>\n",
       "      <td>0.0</td>\n",
       "    </tr>\n",
       "    <tr>\n",
       "      <th>3</th>\n",
       "      <td>0.50</td>\n",
       "      <td>1</td>\n",
       "      <td>0.90</td>\n",
       "      <td>1.000000</td>\n",
       "      <td>0.06</td>\n",
       "      <td>0</td>\n",
       "      <td>0</td>\n",
       "      <td>1</td>\n",
       "      <td>0</td>\n",
       "      <td>1</td>\n",
       "      <td>0</td>\n",
       "      <td>0</td>\n",
       "      <td>0</td>\n",
       "      <td>1</td>\n",
       "      <td>0</td>\n",
       "      <td>1</td>\n",
       "      <td>0</td>\n",
       "      <td>1.0</td>\n",
       "    </tr>\n",
       "    <tr>\n",
       "      <th>4</th>\n",
       "      <td>0.25</td>\n",
       "      <td>0</td>\n",
       "      <td>0.05</td>\n",
       "      <td>0.000000</td>\n",
       "      <td>0.00</td>\n",
       "      <td>0</td>\n",
       "      <td>0</td>\n",
       "      <td>1</td>\n",
       "      <td>0</td>\n",
       "      <td>1</td>\n",
       "      <td>0</td>\n",
       "      <td>0</td>\n",
       "      <td>0</td>\n",
       "      <td>1</td>\n",
       "      <td>0</td>\n",
       "      <td>0</td>\n",
       "      <td>1</td>\n",
       "      <td>1.0</td>\n",
       "    </tr>\n",
       "  </tbody>\n",
       "</table>\n",
       "</div>"
      ],
      "text/plain": [
       "   Distance  Status  Cost  Delivery Time Mins  Paid Amount  PromoCode_BF  \\\n",
       "0      0.25       1  0.40            0.631579         0.60             0   \n",
       "1      0.25       1  0.00            0.210526         0.00             1   \n",
       "2      1.00       0  0.30            0.000000         0.31             0   \n",
       "3      0.50       1  0.90            1.000000         0.06             0   \n",
       "4      0.25       0  0.05            0.000000         0.00             0   \n",
       "\n",
       "   PromoCode_NPCA  PromoCode_PRO  PaymentMode_CARD  PaymentMode_COD  \\\n",
       "0               0              1                 0                1   \n",
       "1               0              0                 0                0   \n",
       "2               0              1                 1                0   \n",
       "3               0              1                 0                1   \n",
       "4               0              1                 0                1   \n",
       "\n",
       "   PaymentMode_WALLET  Membership_BING  Membership_BONG  Membership_NO  MIX  \\\n",
       "0                   0                1                0              0    0   \n",
       "1                   1                0                1              0    1   \n",
       "2                   0                1                0              0    0   \n",
       "3                   0                0                0              1    0   \n",
       "4                   0                0                0              1    0   \n",
       "\n",
       "   NONVEG  VEG  Rating  \n",
       "0       0    1     2.0  \n",
       "1       0    0     4.0  \n",
       "2       0    1     0.0  \n",
       "3       1    0     1.0  \n",
       "4       0    1     1.0  "
      ]
     },
     "execution_count": 86,
     "metadata": {},
     "output_type": "execute_result"
    }
   ],
   "source": [
    "data.head()"
   ]
  },
  {
   "cell_type": "code",
   "execution_count": 87,
   "metadata": {
    "colab": {
     "base_uri": "https://localhost:8080/",
     "height": 653
    },
    "id": "z8mss7rb0fFE",
    "outputId": "3e7a3bcc-92f8-4495-d6cc-bb8bc585520d"
   },
   "outputs": [
    {
     "data": {
      "image/png": "[encoded data removed]",
      "text/plain": [
       "<Figure size 792x792 with 20 Axes>"
      ]
     },
     "metadata": {
      "needs_background": "light"
     },
     "output_type": "display_data"
    }
   ],
   "source": [
    "ax = data.hist(bins = 50, xlabelsize = -1, ylabelsize=-1, figsize=(11,11))"
   ]
  },
  {
   "cell_type": "code",
   "execution_count": 88,
   "metadata": {
    "colab": {
     "base_uri": "https://localhost:8080/",
     "height": 112
    },
    "id": "JF1_6vQ39b0t",
    "outputId": "53aa9bdd-8a82-4018-b0f2-c042ec2c18a7"
   },
   "outputs": [
    {
     "data": {
      "text/html": [
       "<div>\n",
       "<style scoped>\n",
       "    .dataframe tbody tr th:only-of-type {\n",
       "        vertical-align: middle;\n",
       "    }\n",
       "\n",
       "    .dataframe tbody tr th {\n",
       "        vertical-align: top;\n",
       "    }\n",
       "\n",
       "    .dataframe thead th {\n",
       "        text-align: right;\n",
       "    }\n",
       "</style>\n",
       "<table border=\"1\" class=\"dataframe\">\n",
       "  <thead>\n",
       "    <tr style=\"text-align: right;\">\n",
       "      <th></th>\n",
       "      <th>Distance</th>\n",
       "      <th>Delivery Time Mins</th>\n",
       "    </tr>\n",
       "  </thead>\n",
       "  <tbody>\n",
       "    <tr>\n",
       "      <th>Distance</th>\n",
       "      <td>1.000000</td>\n",
       "      <td>-0.162039</td>\n",
       "    </tr>\n",
       "    <tr>\n",
       "      <th>Delivery Time Mins</th>\n",
       "      <td>-0.162039</td>\n",
       "      <td>1.000000</td>\n",
       "    </tr>\n",
       "  </tbody>\n",
       "</table>\n",
       "</div>"
      ],
      "text/plain": [
       "                    Distance  Delivery Time Mins\n",
       "Distance            1.000000           -0.162039\n",
       "Delivery Time Mins -0.162039            1.000000"
      ]
     },
     "execution_count": 88,
     "metadata": {},
     "output_type": "execute_result"
    }
   ],
   "source": [
    "data[[\"Distance\",\"Delivery Time Mins\"]].corr()"
   ]
  },
  {
   "cell_type": "code",
   "execution_count": 89,
   "metadata": {
    "colab": {
     "base_uri": "https://localhost:8080/",
     "height": 479
    },
    "id": "lwlTc7Xc-ACZ",
    "outputId": "b0089fe2-2b7b-49ef-8095-49043c1b2fbd"
   },
   "outputs": [
    {
     "data": {
      "image/png": "[encoded data removed]",
      "text/plain": [
       "<Figure size 648x432 with 2 Axes>"
      ]
     },
     "metadata": {
      "needs_background": "light"
     },
     "output_type": "display_data"
    }
   ],
   "source": [
    "matrix = data.corr() \n",
    "f, ax = plt.subplots(figsize=(9, 6)) \n",
    "sns.heatmap(matrix, vmax=.9, square=True, cmap=\"OrRd\");"
   ]
  },
  {
   "cell_type": "code",
   "execution_count": 90,
   "metadata": {
    "colab": {
     "base_uri": "https://localhost:8080/",
     "height": 237
    },
    "id": "vgA9CXVikCOU",
    "outputId": "c1df70e1-01b8-4543-a531-2fc25b19c1a9"
   },
   "outputs": [
    {
     "data": {
      "text/html": [
       "<div>\n",
       "<style scoped>\n",
       "    .dataframe tbody tr th:only-of-type {\n",
       "        vertical-align: middle;\n",
       "    }\n",
       "\n",
       "    .dataframe tbody tr th {\n",
       "        vertical-align: top;\n",
       "    }\n",
       "\n",
       "    .dataframe thead th {\n",
       "        text-align: right;\n",
       "    }\n",
       "</style>\n",
       "<table border=\"1\" class=\"dataframe\">\n",
       "  <thead>\n",
       "    <tr style=\"text-align: right;\">\n",
       "      <th></th>\n",
       "      <th>Rating</th>\n",
       "      <th>Status</th>\n",
       "      <th>Delivery Time Mins</th>\n",
       "      <th>PaymentMode_WALLET</th>\n",
       "      <th>Membership_BONG</th>\n",
       "      <th>MIX</th>\n",
       "    </tr>\n",
       "  </thead>\n",
       "  <tbody>\n",
       "    <tr>\n",
       "      <th>Rating</th>\n",
       "      <td>1.000000</td>\n",
       "      <td>0.749711</td>\n",
       "      <td>0.407549</td>\n",
       "      <td>0.620550</td>\n",
       "      <td>0.544542</td>\n",
       "      <td>0.544542</td>\n",
       "    </tr>\n",
       "    <tr>\n",
       "      <th>Status</th>\n",
       "      <td>0.749711</td>\n",
       "      <td>1.000000</td>\n",
       "      <td>0.768284</td>\n",
       "      <td>0.479841</td>\n",
       "      <td>0.419371</td>\n",
       "      <td>0.419371</td>\n",
       "    </tr>\n",
       "    <tr>\n",
       "      <th>Delivery Time Mins</th>\n",
       "      <td>0.407549</td>\n",
       "      <td>0.768284</td>\n",
       "      <td>1.000000</td>\n",
       "      <td>0.107181</td>\n",
       "      <td>-0.192069</td>\n",
       "      <td>-0.192069</td>\n",
       "    </tr>\n",
       "    <tr>\n",
       "      <th>PaymentMode_WALLET</th>\n",
       "      <td>0.620550</td>\n",
       "      <td>0.479841</td>\n",
       "      <td>0.107181</td>\n",
       "      <td>1.000000</td>\n",
       "      <td>0.659457</td>\n",
       "      <td>0.659457</td>\n",
       "    </tr>\n",
       "    <tr>\n",
       "      <th>Membership_BONG</th>\n",
       "      <td>0.544542</td>\n",
       "      <td>0.419371</td>\n",
       "      <td>-0.192069</td>\n",
       "      <td>0.659457</td>\n",
       "      <td>1.000000</td>\n",
       "      <td>1.000000</td>\n",
       "    </tr>\n",
       "    <tr>\n",
       "      <th>MIX</th>\n",
       "      <td>0.544542</td>\n",
       "      <td>0.419371</td>\n",
       "      <td>-0.192069</td>\n",
       "      <td>0.659457</td>\n",
       "      <td>1.000000</td>\n",
       "      <td>1.000000</td>\n",
       "    </tr>\n",
       "  </tbody>\n",
       "</table>\n",
       "</div>"
      ],
      "text/plain": [
       "                      Rating    Status  Delivery Time Mins  \\\n",
       "Rating              1.000000  0.749711            0.407549   \n",
       "Status              0.749711  1.000000            0.768284   \n",
       "Delivery Time Mins  0.407549  0.768284            1.000000   \n",
       "PaymentMode_WALLET  0.620550  0.479841            0.107181   \n",
       "Membership_BONG     0.544542  0.419371           -0.192069   \n",
       "MIX                 0.544542  0.419371           -0.192069   \n",
       "\n",
       "                    PaymentMode_WALLET  Membership_BONG       MIX  \n",
       "Rating                        0.620550         0.544542  0.544542  \n",
       "Status                        0.479841         0.419371  0.419371  \n",
       "Delivery Time Mins            0.107181        -0.192069 -0.192069  \n",
       "PaymentMode_WALLET            1.000000         0.659457  0.659457  \n",
       "Membership_BONG               0.659457         1.000000  1.000000  \n",
       "MIX                           0.659457         1.000000  1.000000  "
      ]
     },
     "execution_count": 90,
     "metadata": {},
     "output_type": "execute_result"
    }
   ],
   "source": [
    "data[[\"Rating\",\"Status\",\"Delivery Time Mins\",\"PaymentMode_WALLET\",\"Membership_BONG\",\"MIX\"]].corr()"
   ]
  },
  {
   "cell_type": "code",
   "execution_count": 91,
   "metadata": {
    "id": "NrzXKdDTkNxe"
   },
   "outputs": [],
   "source": [
    "cancelled_orders = data[data[\"Status\"] == 0]"
   ]
  },
  {
   "cell_type": "code",
   "execution_count": 92,
   "metadata": {
    "colab": {
     "base_uri": "https://localhost:8080/"
    },
    "id": "3aQ09F7Fkdfg",
    "outputId": "52c7d709-7907-4384-aadd-4dc141975df1"
   },
   "outputs": [
    {
     "data": {
      "text/plain": [
       "45.45454545454545"
      ]
     },
     "execution_count": 92,
     "metadata": {},
     "output_type": "execute_result"
    }
   ],
   "source": [
    "((cancelled_orders[cancelled_orders[\"PaymentMode_CARD\"] == 1]).shape[0]/(cancelled_orders.shape[0]))*100"
   ]
  },
  {
   "cell_type": "code",
   "execution_count": 93,
   "metadata": {
    "colab": {
     "base_uri": "https://localhost:8080/"
    },
    "id": "awz9yGvtkjkp",
    "outputId": "a79e10f7-b370-422c-cc64-b75cb5ca2374"
   },
   "outputs": [
    {
     "data": {
      "text/plain": [
       "45.45454545454545"
      ]
     },
     "execution_count": 93,
     "metadata": {},
     "output_type": "execute_result"
    }
   ],
   "source": [
    "((cancelled_orders[cancelled_orders[\"PaymentMode_COD\"] == 1]).shape[0]/(cancelled_orders.shape[0]))*100"
   ]
  },
  {
   "cell_type": "code",
   "execution_count": 94,
   "metadata": {
    "colab": {
     "base_uri": "https://localhost:8080/"
    },
    "id": "z9iAjbvjkmqN",
    "outputId": "b5c09c97-a2a5-476f-8619-07a94621954b"
   },
   "outputs": [
    {
     "data": {
      "text/plain": [
       "9.090909090909092"
      ]
     },
     "execution_count": 94,
     "metadata": {},
     "output_type": "execute_result"
    }
   ],
   "source": [
    "((cancelled_orders[cancelled_orders[\"PaymentMode_WALLET\"] == 1]).shape[0]/(cancelled_orders.shape[0]))*100"
   ]
  },
  {
   "cell_type": "markdown",
   "metadata": {
    "id": "5i_lJ9lXkoZM"
   },
   "source": [
    "In the total cancelled orders 45% of the orders were paid using CARD, another 45% of the orders were paid by COD method only 9% of the cancelled orders were paid from WALLET"
   ]
  },
  {
   "cell_type": "markdown",
   "metadata": {
    "id": "OkiTmTu0lTyG"
   },
   "source": [
    "Based on this we can say that Users who are using WALLET to pay for food are less likely to cancel the order"
   ]
  },
  {
   "cell_type": "code",
   "execution_count": 95,
   "metadata": {
    "colab": {
     "base_uri": "https://localhost:8080/",
     "height": 555
    },
    "id": "ul3aYK1lmWOH",
    "outputId": "98a562bf-6290-44df-8150-231abfac6145"
   },
   "outputs": [
    {
     "data": {
      "text/plain": [
       "<AxesSubplot:ylabel='Status'>"
      ]
     },
     "execution_count": 95,
     "metadata": {},
     "output_type": "execute_result"
    },
    {
     "data": {
      "image/png": "[encoded data removed]",
      "text/plain": [
       "<Figure size 648x648 with 1 Axes>"
      ]
     },
     "metadata": {
      "needs_background": "light"
     },
     "output_type": "display_data"
    }
   ],
   "source": [
    "from matplotlib import cm\n",
    "cmap = cm.get_cmap('jet')\n",
    "\n",
    "Ratings=pd.crosstab(data['Status'],data['Rating'])\n",
    "Ratings.div(Ratings.sum(1).astype(float), axis=0).plot(kind=\"barh\", cmap=cmap, stacked=True, figsize=(9,9))"
   ]
  },
  {
   "cell_type": "markdown",
   "metadata": {
    "id": "_R7aEXRSoHiJ"
   },
   "source": [
    "There is no 0 Rating for Delivered orders"
   ]
  },
  {
   "cell_type": "markdown",
   "metadata": {
    "id": "Fpe9QHz7oSua"
   },
   "source": [
    "Cancelled orders should not have rating in the first place. So making them 0 as they were cancelled."
   ]
  },
  {
   "cell_type": "code",
   "execution_count": 96,
   "metadata": {
    "colab": {
     "base_uri": "https://localhost:8080/"
    },
    "id": "3RNo7NBdobu2",
    "outputId": "61b9ce86-d9c2-4617-c726-9a70e6ce9cde"
   },
   "outputs": [
    {
     "name": "stderr",
     "output_type": "stream",
     "text": [
      "<ipython-input-96-53e83855c7c1>:2: SettingWithCopyWarning: \n",
      "A value is trying to be set on a copy of a slice from a DataFrame\n",
      "\n",
      "See the caveats in the documentation: https://pandas.pydata.org/pandas-docs/stable/user_guide/indexing.html#returning-a-view-versus-a-copy\n",
      "  data[\"Rating\"][ind] = 0\n"
     ]
    }
   ],
   "source": [
    "for ind in cancelled_orders.index.values:\n",
    "    data[\"Rating\"][ind] = 0"
   ]
  },
  {
   "cell_type": "code",
   "execution_count": 97,
   "metadata": {
    "colab": {
     "base_uri": "https://localhost:8080/",
     "height": 112
    },
    "id": "R-cbE22KH93-",
    "outputId": "f0387c03-20cd-461f-dcd5-5e0448cb54c8"
   },
   "outputs": [
    {
     "data": {
      "text/html": [
       "<div>\n",
       "<style scoped>\n",
       "    .dataframe tbody tr th:only-of-type {\n",
       "        vertical-align: middle;\n",
       "    }\n",
       "\n",
       "    .dataframe tbody tr th {\n",
       "        vertical-align: top;\n",
       "    }\n",
       "\n",
       "    .dataframe thead th {\n",
       "        text-align: right;\n",
       "    }\n",
       "</style>\n",
       "<table border=\"1\" class=\"dataframe\">\n",
       "  <thead>\n",
       "    <tr style=\"text-align: right;\">\n",
       "      <th></th>\n",
       "      <th>Distance</th>\n",
       "      <th>PaymentMode_CARD</th>\n",
       "    </tr>\n",
       "  </thead>\n",
       "  <tbody>\n",
       "    <tr>\n",
       "      <th>Distance</th>\n",
       "      <td>1.000000</td>\n",
       "      <td>0.935011</td>\n",
       "    </tr>\n",
       "    <tr>\n",
       "      <th>PaymentMode_CARD</th>\n",
       "      <td>0.935011</td>\n",
       "      <td>1.000000</td>\n",
       "    </tr>\n",
       "  </tbody>\n",
       "</table>\n",
       "</div>"
      ],
      "text/plain": [
       "                  Distance  PaymentMode_CARD\n",
       "Distance          1.000000          0.935011\n",
       "PaymentMode_CARD  0.935011          1.000000"
      ]
     },
     "execution_count": 97,
     "metadata": {},
     "output_type": "execute_result"
    }
   ],
   "source": [
    "data[[\"Distance\",\"PaymentMode_CARD\"]].corr()"
   ]
  },
  {
   "cell_type": "code",
   "execution_count": 98,
   "metadata": {
    "colab": {
     "base_uri": "https://localhost:8080/",
     "height": 112
    },
    "id": "olpfgmr9JWx6",
    "outputId": "2adad6ce-4334-4e62-e075-8bc59ebcb63e"
   },
   "outputs": [
    {
     "data": {
      "text/html": [
       "<div>\n",
       "<style scoped>\n",
       "    .dataframe tbody tr th:only-of-type {\n",
       "        vertical-align: middle;\n",
       "    }\n",
       "\n",
       "    .dataframe tbody tr th {\n",
       "        vertical-align: top;\n",
       "    }\n",
       "\n",
       "    .dataframe thead th {\n",
       "        text-align: right;\n",
       "    }\n",
       "</style>\n",
       "<table border=\"1\" class=\"dataframe\">\n",
       "  <thead>\n",
       "    <tr style=\"text-align: right;\">\n",
       "      <th></th>\n",
       "      <th>Delivery Time Mins</th>\n",
       "      <th>NONVEG</th>\n",
       "    </tr>\n",
       "  </thead>\n",
       "  <tbody>\n",
       "    <tr>\n",
       "      <th>Delivery Time Mins</th>\n",
       "      <td>1.000000</td>\n",
       "      <td>0.796566</td>\n",
       "    </tr>\n",
       "    <tr>\n",
       "      <th>NONVEG</th>\n",
       "      <td>0.796566</td>\n",
       "      <td>1.000000</td>\n",
       "    </tr>\n",
       "  </tbody>\n",
       "</table>\n",
       "</div>"
      ],
      "text/plain": [
       "                    Delivery Time Mins    NONVEG\n",
       "Delivery Time Mins            1.000000  0.796566\n",
       "NONVEG                        0.796566  1.000000"
      ]
     },
     "execution_count": 98,
     "metadata": {},
     "output_type": "execute_result"
    }
   ],
   "source": [
    "data[[\"Delivery Time Mins\",\"NONVEG\"]].corr()"
   ]
  },
  {
   "cell_type": "code",
   "execution_count": 99,
   "metadata": {
    "colab": {
     "base_uri": "https://localhost:8080/",
     "height": 112
    },
    "id": "sl63bbRIJhJY",
    "outputId": "4e381f8d-36a4-4018-8966-bc35d8c54dea"
   },
   "outputs": [
    {
     "data": {
      "text/html": [
       "<div>\n",
       "<style scoped>\n",
       "    .dataframe tbody tr th:only-of-type {\n",
       "        vertical-align: middle;\n",
       "    }\n",
       "\n",
       "    .dataframe tbody tr th {\n",
       "        vertical-align: top;\n",
       "    }\n",
       "\n",
       "    .dataframe thead th {\n",
       "        text-align: right;\n",
       "    }\n",
       "</style>\n",
       "<table border=\"1\" class=\"dataframe\">\n",
       "  <thead>\n",
       "    <tr style=\"text-align: right;\">\n",
       "      <th></th>\n",
       "      <th>PromoCode_BF</th>\n",
       "      <th>Membership_BONG</th>\n",
       "    </tr>\n",
       "  </thead>\n",
       "  <tbody>\n",
       "    <tr>\n",
       "      <th>PromoCode_BF</th>\n",
       "      <td>1.000000</td>\n",
       "      <td>0.763024</td>\n",
       "    </tr>\n",
       "    <tr>\n",
       "      <th>Membership_BONG</th>\n",
       "      <td>0.763024</td>\n",
       "      <td>1.000000</td>\n",
       "    </tr>\n",
       "  </tbody>\n",
       "</table>\n",
       "</div>"
      ],
      "text/plain": [
       "                 PromoCode_BF  Membership_BONG\n",
       "PromoCode_BF         1.000000         0.763024\n",
       "Membership_BONG      0.763024         1.000000"
      ]
     },
     "execution_count": 99,
     "metadata": {},
     "output_type": "execute_result"
    }
   ],
   "source": [
    "data[[\"PromoCode_BF\",\"Membership_BONG\"]].corr()"
   ]
  },
  {
   "cell_type": "code",
   "execution_count": 100,
   "metadata": {
    "colab": {
     "base_uri": "https://localhost:8080/",
     "height": 112
    },
    "id": "CYd3gDIZJyjB",
    "outputId": "eecf23a2-418d-481f-9daa-7cebbe97f13d"
   },
   "outputs": [
    {
     "data": {
      "text/html": [
       "<div>\n",
       "<style scoped>\n",
       "    .dataframe tbody tr th:only-of-type {\n",
       "        vertical-align: middle;\n",
       "    }\n",
       "\n",
       "    .dataframe tbody tr th {\n",
       "        vertical-align: top;\n",
       "    }\n",
       "\n",
       "    .dataframe thead th {\n",
       "        text-align: right;\n",
       "    }\n",
       "</style>\n",
       "<table border=\"1\" class=\"dataframe\">\n",
       "  <thead>\n",
       "    <tr style=\"text-align: right;\">\n",
       "      <th></th>\n",
       "      <th>PromoCode_BF</th>\n",
       "      <th>MIX</th>\n",
       "    </tr>\n",
       "  </thead>\n",
       "  <tbody>\n",
       "    <tr>\n",
       "      <th>PromoCode_BF</th>\n",
       "      <td>1.000000</td>\n",
       "      <td>0.763024</td>\n",
       "    </tr>\n",
       "    <tr>\n",
       "      <th>MIX</th>\n",
       "      <td>0.763024</td>\n",
       "      <td>1.000000</td>\n",
       "    </tr>\n",
       "  </tbody>\n",
       "</table>\n",
       "</div>"
      ],
      "text/plain": [
       "              PromoCode_BF       MIX\n",
       "PromoCode_BF      1.000000  0.763024\n",
       "MIX               0.763024  1.000000"
      ]
     },
     "execution_count": 100,
     "metadata": {},
     "output_type": "execute_result"
    }
   ],
   "source": [
    "data[[\"PromoCode_BF\",\"MIX\"]].corr()"
   ]
  },
  {
   "cell_type": "code",
   "execution_count": 101,
   "metadata": {
    "colab": {
     "base_uri": "https://localhost:8080/",
     "height": 112
    },
    "id": "5OkdaC-vJ-WS",
    "outputId": "ffb0ec33-baeb-4b5f-d0df-5ea143a9155f"
   },
   "outputs": [
    {
     "data": {
      "text/html": [
       "<div>\n",
       "<style scoped>\n",
       "    .dataframe tbody tr th:only-of-type {\n",
       "        vertical-align: middle;\n",
       "    }\n",
       "\n",
       "    .dataframe tbody tr th {\n",
       "        vertical-align: top;\n",
       "    }\n",
       "\n",
       "    .dataframe thead th {\n",
       "        text-align: right;\n",
       "    }\n",
       "</style>\n",
       "<table border=\"1\" class=\"dataframe\">\n",
       "  <thead>\n",
       "    <tr style=\"text-align: right;\">\n",
       "      <th></th>\n",
       "      <th>PaymentMode_WALLET</th>\n",
       "      <th>Membership_BONG</th>\n",
       "    </tr>\n",
       "  </thead>\n",
       "  <tbody>\n",
       "    <tr>\n",
       "      <th>PaymentMode_WALLET</th>\n",
       "      <td>1.000000</td>\n",
       "      <td>0.659457</td>\n",
       "    </tr>\n",
       "    <tr>\n",
       "      <th>Membership_BONG</th>\n",
       "      <td>0.659457</td>\n",
       "      <td>1.000000</td>\n",
       "    </tr>\n",
       "  </tbody>\n",
       "</table>\n",
       "</div>"
      ],
      "text/plain": [
       "                    PaymentMode_WALLET  Membership_BONG\n",
       "PaymentMode_WALLET            1.000000         0.659457\n",
       "Membership_BONG               0.659457         1.000000"
      ]
     },
     "execution_count": 101,
     "metadata": {},
     "output_type": "execute_result"
    }
   ],
   "source": [
    "data[[\"PaymentMode_WALLET\",\"Membership_BONG\"]].corr()"
   ]
  },
  {
   "cell_type": "code",
   "execution_count": 102,
   "metadata": {
    "id": "G-umzg4pKNZ2"
   },
   "outputs": [],
   "source": [
    "data.drop([\"PaymentMode_CARD\"],axis=1,inplace=True)"
   ]
  },
  {
   "cell_type": "code",
   "execution_count": 103,
   "metadata": {
    "colab": {
     "base_uri": "https://localhost:8080/",
     "height": 305
    },
    "id": "HFi8T1XILBx9",
    "outputId": "f51b42a4-1c5d-4942-cef1-a125a64f2d4a"
   },
   "outputs": [
    {
     "data": {
      "text/html": [
       "<div>\n",
       "<style scoped>\n",
       "    .dataframe tbody tr th:only-of-type {\n",
       "        vertical-align: middle;\n",
       "    }\n",
       "\n",
       "    .dataframe tbody tr th {\n",
       "        vertical-align: top;\n",
       "    }\n",
       "\n",
       "    .dataframe thead th {\n",
       "        text-align: right;\n",
       "    }\n",
       "</style>\n",
       "<table border=\"1\" class=\"dataframe\">\n",
       "  <thead>\n",
       "    <tr style=\"text-align: right;\">\n",
       "      <th></th>\n",
       "      <th>Distance</th>\n",
       "      <th>Status</th>\n",
       "      <th>Cost</th>\n",
       "      <th>Delivery Time Mins</th>\n",
       "      <th>Paid Amount</th>\n",
       "      <th>PromoCode_BF</th>\n",
       "      <th>PromoCode_NPCA</th>\n",
       "      <th>PromoCode_PRO</th>\n",
       "      <th>PaymentMode_COD</th>\n",
       "      <th>PaymentMode_WALLET</th>\n",
       "      <th>Membership_BING</th>\n",
       "      <th>Membership_BONG</th>\n",
       "      <th>Membership_NO</th>\n",
       "      <th>MIX</th>\n",
       "      <th>NONVEG</th>\n",
       "      <th>VEG</th>\n",
       "      <th>Rating</th>\n",
       "    </tr>\n",
       "  </thead>\n",
       "  <tbody>\n",
       "    <tr>\n",
       "      <th>0</th>\n",
       "      <td>0.25</td>\n",
       "      <td>1</td>\n",
       "      <td>0.40</td>\n",
       "      <td>0.631579</td>\n",
       "      <td>0.60</td>\n",
       "      <td>0</td>\n",
       "      <td>0</td>\n",
       "      <td>1</td>\n",
       "      <td>1</td>\n",
       "      <td>0</td>\n",
       "      <td>1</td>\n",
       "      <td>0</td>\n",
       "      <td>0</td>\n",
       "      <td>0</td>\n",
       "      <td>0</td>\n",
       "      <td>1</td>\n",
       "      <td>2.0</td>\n",
       "    </tr>\n",
       "    <tr>\n",
       "      <th>1</th>\n",
       "      <td>0.25</td>\n",
       "      <td>1</td>\n",
       "      <td>0.00</td>\n",
       "      <td>0.210526</td>\n",
       "      <td>0.00</td>\n",
       "      <td>1</td>\n",
       "      <td>0</td>\n",
       "      <td>0</td>\n",
       "      <td>0</td>\n",
       "      <td>1</td>\n",
       "      <td>0</td>\n",
       "      <td>1</td>\n",
       "      <td>0</td>\n",
       "      <td>1</td>\n",
       "      <td>0</td>\n",
       "      <td>0</td>\n",
       "      <td>4.0</td>\n",
       "    </tr>\n",
       "    <tr>\n",
       "      <th>2</th>\n",
       "      <td>1.00</td>\n",
       "      <td>0</td>\n",
       "      <td>0.30</td>\n",
       "      <td>0.000000</td>\n",
       "      <td>0.31</td>\n",
       "      <td>0</td>\n",
       "      <td>0</td>\n",
       "      <td>1</td>\n",
       "      <td>0</td>\n",
       "      <td>0</td>\n",
       "      <td>1</td>\n",
       "      <td>0</td>\n",
       "      <td>0</td>\n",
       "      <td>0</td>\n",
       "      <td>0</td>\n",
       "      <td>1</td>\n",
       "      <td>0.0</td>\n",
       "    </tr>\n",
       "    <tr>\n",
       "      <th>3</th>\n",
       "      <td>0.50</td>\n",
       "      <td>1</td>\n",
       "      <td>0.90</td>\n",
       "      <td>1.000000</td>\n",
       "      <td>0.06</td>\n",
       "      <td>0</td>\n",
       "      <td>0</td>\n",
       "      <td>1</td>\n",
       "      <td>1</td>\n",
       "      <td>0</td>\n",
       "      <td>0</td>\n",
       "      <td>0</td>\n",
       "      <td>1</td>\n",
       "      <td>0</td>\n",
       "      <td>1</td>\n",
       "      <td>0</td>\n",
       "      <td>1.0</td>\n",
       "    </tr>\n",
       "    <tr>\n",
       "      <th>4</th>\n",
       "      <td>0.25</td>\n",
       "      <td>0</td>\n",
       "      <td>0.05</td>\n",
       "      <td>0.000000</td>\n",
       "      <td>0.00</td>\n",
       "      <td>0</td>\n",
       "      <td>0</td>\n",
       "      <td>1</td>\n",
       "      <td>1</td>\n",
       "      <td>0</td>\n",
       "      <td>0</td>\n",
       "      <td>0</td>\n",
       "      <td>1</td>\n",
       "      <td>0</td>\n",
       "      <td>0</td>\n",
       "      <td>1</td>\n",
       "      <td>0.0</td>\n",
       "    </tr>\n",
       "  </tbody>\n",
       "</table>\n",
       "</div>"
      ],
      "text/plain": [
       "   Distance  Status  Cost  Delivery Time Mins  Paid Amount  PromoCode_BF  \\\n",
       "0      0.25       1  0.40            0.631579         0.60             0   \n",
       "1      0.25       1  0.00            0.210526         0.00             1   \n",
       "2      1.00       0  0.30            0.000000         0.31             0   \n",
       "3      0.50       1  0.90            1.000000         0.06             0   \n",
       "4      0.25       0  0.05            0.000000         0.00             0   \n",
       "\n",
       "   PromoCode_NPCA  PromoCode_PRO  PaymentMode_COD  PaymentMode_WALLET  \\\n",
       "0               0              1                1                   0   \n",
       "1               0              0                0                   1   \n",
       "2               0              1                0                   0   \n",
       "3               0              1                1                   0   \n",
       "4               0              1                1                   0   \n",
       "\n",
       "   Membership_BING  Membership_BONG  Membership_NO  MIX  NONVEG  VEG  Rating  \n",
       "0                1                0              0    0       0    1     2.0  \n",
       "1                0                1              0    1       0    0     4.0  \n",
       "2                1                0              0    0       0    1     0.0  \n",
       "3                0                0              1    0       1    0     1.0  \n",
       "4                0                0              1    0       0    1     0.0  "
      ]
     },
     "execution_count": 103,
     "metadata": {},
     "output_type": "execute_result"
    }
   ],
   "source": [
    "data.head()"
   ]
  },
  {
   "cell_type": "markdown",
   "metadata": {
    "id": "-Cauv3RM-Fsr"
   },
   "source": [
    "<h4>Feature selection and Modeling</h4>"
   ]
  },
  {
   "cell_type": "markdown",
   "metadata": {
    "id": "QG11yjNR1Lfx"
   },
   "source": [
    "Let's create a model without selecting features"
   ]
  },
  {
   "cell_type": "code",
   "execution_count": 104,
   "metadata": {
    "id": "vYMDe0gJ-VkS"
   },
   "outputs": [],
   "source": [
    "Features = ['Distance', 'Status', 'Cost', 'Delivery Time Mins', 'Paid Amount',\n",
    "       'PromoCode_BF', 'PromoCode_NPCA', 'PromoCode_PRO', 'PaymentMode_COD',\n",
    "       'PaymentMode_WALLET', 'Membership_BING', 'Membership_BONG',\n",
    "       'Membership_NO', 'MIX', 'NONVEG', 'VEG',]"
   ]
  },
  {
   "cell_type": "code",
   "execution_count": 105,
   "metadata": {
    "id": "UcQp_2aDLD2D"
   },
   "outputs": [],
   "source": [
    "#Creating the Training Data\n",
    "X = data.loc[:,Features]\n",
    "Y = data['Rating']"
   ]
  },
  {
   "cell_type": "code",
   "execution_count": 106,
   "metadata": {
    "id": "NuUyHTfT_FmC"
   },
   "outputs": [],
   "source": [
    "x_train, x_test, y_train, y_test= train_test_split(X, Y, test_size= 0.2, random_state=0)  "
   ]
  },
  {
   "cell_type": "code",
   "execution_count": 107,
   "metadata": {
    "colab": {
     "base_uri": "https://localhost:8080/"
    },
    "id": "z-mSz3jW_KIO",
    "outputId": "ef6e846c-7d04-4504-b836-a45a1c1867e2"
   },
   "outputs": [
    {
     "data": {
      "text/plain": [
       "LinearRegression()"
      ]
     },
     "execution_count": 107,
     "metadata": {},
     "output_type": "execute_result"
    }
   ],
   "source": [
    "#Fitting the Linear Regression model to the training set:  \n",
    "\n",
    "Lreg = LinearRegression()  \n",
    "Lreg.fit(x_train, y_train)"
   ]
  },
  {
   "cell_type": "code",
   "execution_count": 108,
   "metadata": {
    "id": "jZIpSVLA_MOK"
   },
   "outputs": [],
   "source": [
    "#Predicting the Test set result;  \n",
    "y_pred= Lreg.predict(x_test)  "
   ]
  },
  {
   "cell_type": "code",
   "execution_count": 109,
   "metadata": {
    "colab": {
     "base_uri": "https://localhost:8080/"
    },
    "id": "HDnu2lK-_PAj",
    "outputId": "2c222dff-eb7c-4637-b92a-11015b320c75"
   },
   "outputs": [
    {
     "name": "stdout",
     "output_type": "stream",
     "text": [
      "Train Score:  0.8863468909743203\n",
      "Test Score:  0.9296453260394313\n"
     ]
    }
   ],
   "source": [
    "#Checking the score  \n",
    "print('Train Score: ', Lreg.score(x_train, y_train))  \n",
    "print('Test Score: ', Lreg.score(x_test, y_test))  "
   ]
  },
  {
   "cell_type": "code",
   "execution_count": 110,
   "metadata": {
    "colab": {
     "base_uri": "https://localhost:8080/"
    },
    "id": "FDyfPjMw_mjj",
    "outputId": "32cc7cd6-f4a3-44e7-d118-83cb45b60ecf"
   },
   "outputs": [
    {
     "name": "stdout",
     "output_type": "stream",
     "text": [
      " Mean squared error:0.2988620034358041\n",
      " Mean absolute errro:0.43865411961900524\n",
      " Root Mean squared error:0.5466827264838392\n",
      " R2 score:0.9296453260394313\n"
     ]
    }
   ],
   "source": [
    "mse = mean_squared_error(y_test, y_pred)\n",
    "mae = mean_absolute_error(y_test, y_pred)\n",
    "rmse = np.sqrt(mean_squared_error(y_test, y_pred))\n",
    "r2=r2_score(y_test,y_pred)\n",
    "print(\" Mean squared error:{0}\\n Mean absolute errro:{1}\\n Root Mean squared error:{2}\\n R2 score:{3}\".format(mse,mae,rmse,r2))"
   ]
  },
  {
   "cell_type": "markdown",
   "metadata": {
    "id": "EZZIHiH51Lfy"
   },
   "source": [
    "<h4>Backward Stepwise Feaure Elimination</h4>"
   ]
  },
  {
   "cell_type": "markdown",
   "metadata": {
    "id": "__l_0TQl1Lfy"
   },
   "source": [
    "Let's create a model on some of the features.<br/>\n",
    "We are going to use Backward Stepwise Feaure Elimination to select those features"
   ]
  },
  {
   "cell_type": "markdown",
   "metadata": {
    "id": "hKH3THBx_3p7"
   },
   "source": [
    "Considering P-value i.e significance value as 0.05"
   ]
  },
  {
   "cell_type": "code",
   "execution_count": 111,
   "metadata": {
    "colab": {
     "base_uri": "https://localhost:8080/",
     "height": 785
    },
    "id": "EjXvJWxs_Wh9",
    "outputId": "0c6978c8-54f0-4889-ef39-634577c16ced"
   },
   "outputs": [
    {
     "data": {
      "text/html": [
       "<table class=\"simpletable\">\n",
       "<caption>OLS Regression Results</caption>\n",
       "<tr>\n",
       "  <th>Dep. Variable:</th>         <td>Rating</td>      <th>  R-squared:         </th> <td>   0.886</td>\n",
       "</tr>\n",
       "<tr>\n",
       "  <th>Model:</th>                   <td>OLS</td>       <th>  Adj. R-squared:    </th> <td>   0.851</td>\n",
       "</tr>\n",
       "<tr>\n",
       "  <th>Method:</th>             <td>Least Squares</td>  <th>  F-statistic:       </th> <td>   24.96</td>\n",
       "</tr>\n",
       "<tr>\n",
       "  <th>Date:</th>             <td>Sat, 01 Jan 2022</td> <th>  Prob (F-statistic):</th> <td>2.39e-12</td>\n",
       "</tr>\n",
       "<tr>\n",
       "  <th>Time:</th>                 <td>23:42:31</td>     <th>  Log-Likelihood:    </th> <td> -41.236</td>\n",
       "</tr>\n",
       "<tr>\n",
       "  <th>No. Observations:</th>      <td>    43</td>      <th>  AIC:               </th> <td>   104.5</td>\n",
       "</tr>\n",
       "<tr>\n",
       "  <th>Df Residuals:</th>          <td>    32</td>      <th>  BIC:               </th> <td>   123.8</td>\n",
       "</tr>\n",
       "<tr>\n",
       "  <th>Df Model:</th>              <td>    10</td>      <th>                     </th>     <td> </td>   \n",
       "</tr>\n",
       "<tr>\n",
       "  <th>Covariance Type:</th>      <td>nonrobust</td>    <th>                     </th>     <td> </td>   \n",
       "</tr>\n",
       "</table>\n",
       "<table class=\"simpletable\">\n",
       "<tr>\n",
       "           <td></td>             <th>coef</th>     <th>std err</th>      <th>t</th>      <th>P>|t|</th>  <th>[0.025</th>    <th>0.975]</th>  \n",
       "</tr>\n",
       "<tr>\n",
       "  <th>Distance</th>           <td>   -0.5186</td> <td>    0.343</td> <td>   -1.514</td> <td> 0.140</td> <td>   -1.216</td> <td>    0.179</td>\n",
       "</tr>\n",
       "<tr>\n",
       "  <th>Status</th>             <td>    1.9337</td> <td>    0.505</td> <td>    3.832</td> <td> 0.001</td> <td>    0.906</td> <td>    2.962</td>\n",
       "</tr>\n",
       "<tr>\n",
       "  <th>Cost</th>               <td>    0.2713</td> <td>    0.602</td> <td>    0.450</td> <td> 0.655</td> <td>   -0.955</td> <td>    1.498</td>\n",
       "</tr>\n",
       "<tr>\n",
       "  <th>Delivery Time Mins</th> <td>    1.0661</td> <td>    0.196</td> <td>    5.447</td> <td> 0.000</td> <td>    0.667</td> <td>    1.465</td>\n",
       "</tr>\n",
       "<tr>\n",
       "  <th>Paid Amount</th>        <td>   -0.1190</td> <td>    0.932</td> <td>   -0.128</td> <td> 0.899</td> <td>   -2.016</td> <td>    1.778</td>\n",
       "</tr>\n",
       "<tr>\n",
       "  <th>PromoCode_BF</th>       <td>    0.5641</td> <td>    0.583</td> <td>    0.967</td> <td> 0.341</td> <td>   -0.624</td> <td>    1.753</td>\n",
       "</tr>\n",
       "<tr>\n",
       "  <th>PromoCode_NPCA</th>     <td>   -0.1399</td> <td>    0.273</td> <td>   -0.512</td> <td> 0.612</td> <td>   -0.696</td> <td>    0.416</td>\n",
       "</tr>\n",
       "<tr>\n",
       "  <th>PromoCode_PRO</th>      <td>   -0.1296</td> <td>    0.378</td> <td>   -0.343</td> <td> 0.734</td> <td>   -0.900</td> <td>    0.641</td>\n",
       "</tr>\n",
       "<tr>\n",
       "  <th>PaymentMode_COD</th>    <td>   -0.2454</td> <td>    0.433</td> <td>   -0.566</td> <td> 0.575</td> <td>   -1.128</td> <td>    0.637</td>\n",
       "</tr>\n",
       "<tr>\n",
       "  <th>PaymentMode_WALLET</th> <td>    1.2740</td> <td>    0.487</td> <td>    2.615</td> <td> 0.013</td> <td>    0.282</td> <td>    2.266</td>\n",
       "</tr>\n",
       "<tr>\n",
       "  <th>Membership_BING</th>    <td>    0.3415</td> <td>    0.333</td> <td>    1.025</td> <td> 0.313</td> <td>   -0.337</td> <td>    1.020</td>\n",
       "</tr>\n",
       "<tr>\n",
       "  <th>Membership_BONG</th>    <td>    0.2225</td> <td>    0.202</td> <td>    1.101</td> <td> 0.279</td> <td>   -0.189</td> <td>    0.634</td>\n",
       "</tr>\n",
       "<tr>\n",
       "  <th>Membership_NO</th>      <td>   -0.2694</td> <td>    0.214</td> <td>   -1.260</td> <td> 0.217</td> <td>   -0.705</td> <td>    0.166</td>\n",
       "</tr>\n",
       "<tr>\n",
       "  <th>MIX</th>                <td>    0.2225</td> <td>    0.202</td> <td>    1.101</td> <td> 0.279</td> <td>   -0.189</td> <td>    0.634</td>\n",
       "</tr>\n",
       "<tr>\n",
       "  <th>NONVEG</th>             <td>   -0.1670</td> <td>    0.440</td> <td>   -0.380</td> <td> 0.707</td> <td>   -1.063</td> <td>    0.729</td>\n",
       "</tr>\n",
       "<tr>\n",
       "  <th>VEG</th>                <td>    0.2391</td> <td>    0.268</td> <td>    0.891</td> <td> 0.380</td> <td>   -0.307</td> <td>    0.786</td>\n",
       "</tr>\n",
       "</table>\n",
       "<table class=\"simpletable\">\n",
       "<tr>\n",
       "  <th>Omnibus:</th>       <td> 0.139</td> <th>  Durbin-Watson:     </th> <td>   2.018</td>\n",
       "</tr>\n",
       "<tr>\n",
       "  <th>Prob(Omnibus):</th> <td> 0.933</td> <th>  Jarque-Bera (JB):  </th> <td>   0.153</td>\n",
       "</tr>\n",
       "<tr>\n",
       "  <th>Skew:</th>          <td>-0.114</td> <th>  Prob(JB):          </th> <td>   0.926</td>\n",
       "</tr>\n",
       "<tr>\n",
       "  <th>Kurtosis:</th>      <td> 2.817</td> <th>  Cond. No.          </th> <td>1.37e+31</td>\n",
       "</tr>\n",
       "</table><br/><br/>Notes:<br/>[1] Standard Errors assume that the covariance matrix of the errors is correctly specified.<br/>[2] The smallest eigenvalue is 5.59e-61. This might indicate that there are<br/>strong multicollinearity problems or that the design matrix is singular."
      ],
      "text/plain": [
       "<class 'statsmodels.iolib.summary.Summary'>\n",
       "\"\"\"\n",
       "                            OLS Regression Results                            \n",
       "==============================================================================\n",
       "Dep. Variable:                 Rating   R-squared:                       0.886\n",
       "Model:                            OLS   Adj. R-squared:                  0.851\n",
       "Method:                 Least Squares   F-statistic:                     24.96\n",
       "Date:                Sat, 01 Jan 2022   Prob (F-statistic):           2.39e-12\n",
       "Time:                        23:42:31   Log-Likelihood:                -41.236\n",
       "No. Observations:                  43   AIC:                             104.5\n",
       "Df Residuals:                      32   BIC:                             123.8\n",
       "Df Model:                          10                                         \n",
       "Covariance Type:            nonrobust                                         \n",
       "======================================================================================\n",
       "                         coef    std err          t      P>|t|      [0.025      0.975]\n",
       "--------------------------------------------------------------------------------------\n",
       "Distance              -0.5186      0.343     -1.514      0.140      -1.216       0.179\n",
       "Status                 1.9337      0.505      3.832      0.001       0.906       2.962\n",
       "Cost                   0.2713      0.602      0.450      0.655      -0.955       1.498\n",
       "Delivery Time Mins     1.0661      0.196      5.447      0.000       0.667       1.465\n",
       "Paid Amount           -0.1190      0.932     -0.128      0.899      -2.016       1.778\n",
       "PromoCode_BF           0.5641      0.583      0.967      0.341      -0.624       1.753\n",
       "PromoCode_NPCA        -0.1399      0.273     -0.512      0.612      -0.696       0.416\n",
       "PromoCode_PRO         -0.1296      0.378     -0.343      0.734      -0.900       0.641\n",
       "PaymentMode_COD       -0.2454      0.433     -0.566      0.575      -1.128       0.637\n",
       "PaymentMode_WALLET     1.2740      0.487      2.615      0.013       0.282       2.266\n",
       "Membership_BING        0.3415      0.333      1.025      0.313      -0.337       1.020\n",
       "Membership_BONG        0.2225      0.202      1.101      0.279      -0.189       0.634\n",
       "Membership_NO         -0.2694      0.214     -1.260      0.217      -0.705       0.166\n",
       "MIX                    0.2225      0.202      1.101      0.279      -0.189       0.634\n",
       "NONVEG                -0.1670      0.440     -0.380      0.707      -1.063       0.729\n",
       "VEG                    0.2391      0.268      0.891      0.380      -0.307       0.786\n",
       "==============================================================================\n",
       "Omnibus:                        0.139   Durbin-Watson:                   2.018\n",
       "Prob(Omnibus):                  0.933   Jarque-Bera (JB):                0.153\n",
       "Skew:                          -0.114   Prob(JB):                        0.926\n",
       "Kurtosis:                       2.817   Cond. No.                     1.37e+31\n",
       "==============================================================================\n",
       "\n",
       "Notes:\n",
       "[1] Standard Errors assume that the covariance matrix of the errors is correctly specified.\n",
       "[2] The smallest eigenvalue is 5.59e-61. This might indicate that there are\n",
       "strong multicollinearity problems or that the design matrix is singular.\n",
       "\"\"\""
      ]
     },
     "execution_count": 111,
     "metadata": {},
     "output_type": "execute_result"
    }
   ],
   "source": [
    "regressor_OLS = sm.OLS(endog = y_train, exog = x_train).fit()\n",
    "regressor_OLS.summary()"
   ]
  },
  {
   "cell_type": "markdown",
   "metadata": {
    "id": "L3oc4yc7AT8E"
   },
   "source": [
    "We got highest P value as 0.899 for Paid Amount. Dropping the Paid Amount and build the model\n"
   ]
  },
  {
   "cell_type": "code",
   "execution_count": 112,
   "metadata": {
    "id": "-ifOv6UCABYM",
    "outputId": "324f1f4a-6254-4b73-b1bc-d42d61599c87"
   },
   "outputs": [
    {
     "name": "stderr",
     "output_type": "stream",
     "text": [
      "C:\\Users\\darkseid\\anaconda3\\lib\\site-packages\\pandas\\core\\frame.py:4308: SettingWithCopyWarning: \n",
      "A value is trying to be set on a copy of a slice from a DataFrame\n",
      "\n",
      "See the caveats in the documentation: https://pandas.pydata.org/pandas-docs/stable/user_guide/indexing.html#returning-a-view-versus-a-copy\n",
      "  return super().drop(\n"
     ]
    }
   ],
   "source": [
    "x_train.drop('Paid Amount', axis = 1, inplace = True) "
   ]
  },
  {
   "cell_type": "code",
   "execution_count": 113,
   "metadata": {
    "colab": {
     "base_uri": "https://localhost:8080/",
     "height": 764
    },
    "id": "Xlol1qyJAd3-",
    "outputId": "5137df11-22e9-4d81-c05d-a5d4ec6c411d"
   },
   "outputs": [
    {
     "data": {
      "text/html": [
       "<table class=\"simpletable\">\n",
       "<caption>OLS Regression Results</caption>\n",
       "<tr>\n",
       "  <th>Dep. Variable:</th>         <td>Rating</td>      <th>  R-squared:         </th> <td>   0.886</td>\n",
       "</tr>\n",
       "<tr>\n",
       "  <th>Model:</th>                   <td>OLS</td>       <th>  Adj. R-squared:    </th> <td>   0.855</td>\n",
       "</tr>\n",
       "<tr>\n",
       "  <th>Method:</th>             <td>Least Squares</td>  <th>  F-statistic:       </th> <td>   28.58</td>\n",
       "</tr>\n",
       "<tr>\n",
       "  <th>Date:</th>             <td>Sat, 01 Jan 2022</td> <th>  Prob (F-statistic):</th> <td>4.33e-13</td>\n",
       "</tr>\n",
       "<tr>\n",
       "  <th>Time:</th>                 <td>23:42:31</td>     <th>  Log-Likelihood:    </th> <td> -41.247</td>\n",
       "</tr>\n",
       "<tr>\n",
       "  <th>No. Observations:</th>      <td>    43</td>      <th>  AIC:               </th> <td>   102.5</td>\n",
       "</tr>\n",
       "<tr>\n",
       "  <th>Df Residuals:</th>          <td>    33</td>      <th>  BIC:               </th> <td>   120.1</td>\n",
       "</tr>\n",
       "<tr>\n",
       "  <th>Df Model:</th>              <td>     9</td>      <th>                     </th>     <td> </td>   \n",
       "</tr>\n",
       "<tr>\n",
       "  <th>Covariance Type:</th>      <td>nonrobust</td>    <th>                     </th>     <td> </td>   \n",
       "</tr>\n",
       "</table>\n",
       "<table class=\"simpletable\">\n",
       "<tr>\n",
       "           <td></td>             <th>coef</th>     <th>std err</th>      <th>t</th>      <th>P>|t|</th>  <th>[0.025</th>    <th>0.975]</th>  \n",
       "</tr>\n",
       "<tr>\n",
       "  <th>Distance</th>           <td>   -0.5111</td> <td>    0.332</td> <td>   -1.537</td> <td> 0.134</td> <td>   -1.188</td> <td>    0.165</td>\n",
       "</tr>\n",
       "<tr>\n",
       "  <th>Status</th>             <td>    1.9034</td> <td>    0.439</td> <td>    4.338</td> <td> 0.000</td> <td>    1.011</td> <td>    2.796</td>\n",
       "</tr>\n",
       "<tr>\n",
       "  <th>Cost</th>               <td>    0.2707</td> <td>    0.593</td> <td>    0.456</td> <td> 0.651</td> <td>   -0.936</td> <td>    1.478</td>\n",
       "</tr>\n",
       "<tr>\n",
       "  <th>Delivery Time Mins</th> <td>    1.0578</td> <td>    0.182</td> <td>    5.815</td> <td> 0.000</td> <td>    0.688</td> <td>    1.428</td>\n",
       "</tr>\n",
       "<tr>\n",
       "  <th>PromoCode_BF</th>       <td>    0.6186</td> <td>    0.392</td> <td>    1.579</td> <td> 0.124</td> <td>   -0.179</td> <td>    1.416</td>\n",
       "</tr>\n",
       "<tr>\n",
       "  <th>PromoCode_NPCA</th>     <td>   -0.1510</td> <td>    0.255</td> <td>   -0.592</td> <td> 0.558</td> <td>   -0.670</td> <td>    0.368</td>\n",
       "</tr>\n",
       "<tr>\n",
       "  <th>PromoCode_PRO</th>      <td>   -0.1634</td> <td>    0.267</td> <td>   -0.613</td> <td> 0.544</td> <td>   -0.706</td> <td>    0.379</td>\n",
       "</tr>\n",
       "<tr>\n",
       "  <th>PaymentMode_COD</th>    <td>   -0.2203</td> <td>    0.381</td> <td>   -0.579</td> <td> 0.567</td> <td>   -0.995</td> <td>    0.554</td>\n",
       "</tr>\n",
       "<tr>\n",
       "  <th>PaymentMode_WALLET</th> <td>    1.2595</td> <td>    0.467</td> <td>    2.699</td> <td> 0.011</td> <td>    0.310</td> <td>    2.209</td>\n",
       "</tr>\n",
       "<tr>\n",
       "  <th>Membership_BING</th>    <td>    0.3478</td> <td>    0.324</td> <td>    1.072</td> <td> 0.292</td> <td>   -0.312</td> <td>    1.008</td>\n",
       "</tr>\n",
       "<tr>\n",
       "  <th>Membership_BONG</th>    <td>    0.2167</td> <td>    0.194</td> <td>    1.117</td> <td> 0.272</td> <td>   -0.178</td> <td>    0.612</td>\n",
       "</tr>\n",
       "<tr>\n",
       "  <th>Membership_NO</th>      <td>   -0.2603</td> <td>    0.199</td> <td>   -1.310</td> <td> 0.199</td> <td>   -0.664</td> <td>    0.144</td>\n",
       "</tr>\n",
       "<tr>\n",
       "  <th>MIX</th>                <td>    0.2167</td> <td>    0.194</td> <td>    1.117</td> <td> 0.272</td> <td>   -0.178</td> <td>    0.612</td>\n",
       "</tr>\n",
       "<tr>\n",
       "  <th>NONVEG</th>             <td>   -0.1440</td> <td>    0.395</td> <td>   -0.364</td> <td> 0.718</td> <td>   -0.948</td> <td>    0.660</td>\n",
       "</tr>\n",
       "<tr>\n",
       "  <th>VEG</th>                <td>    0.2316</td> <td>    0.258</td> <td>    0.898</td> <td> 0.376</td> <td>   -0.293</td> <td>    0.756</td>\n",
       "</tr>\n",
       "</table>\n",
       "<table class=\"simpletable\">\n",
       "<tr>\n",
       "  <th>Omnibus:</th>       <td> 0.111</td> <th>  Durbin-Watson:     </th> <td>   2.012</td>\n",
       "</tr>\n",
       "<tr>\n",
       "  <th>Prob(Omnibus):</th> <td> 0.946</td> <th>  Jarque-Bera (JB):  </th> <td>   0.122</td>\n",
       "</tr>\n",
       "<tr>\n",
       "  <th>Skew:</th>          <td>-0.097</td> <th>  Prob(JB):          </th> <td>   0.941</td>\n",
       "</tr>\n",
       "<tr>\n",
       "  <th>Kurtosis:</th>      <td> 2.826</td> <th>  Cond. No.          </th> <td>6.22e+31</td>\n",
       "</tr>\n",
       "</table><br/><br/>Notes:<br/>[1] Standard Errors assume that the covariance matrix of the errors is correctly specified.<br/>[2] The smallest eigenvalue is 2.67e-62. This might indicate that there are<br/>strong multicollinearity problems or that the design matrix is singular."
      ],
      "text/plain": [
       "<class 'statsmodels.iolib.summary.Summary'>\n",
       "\"\"\"\n",
       "                            OLS Regression Results                            \n",
       "==============================================================================\n",
       "Dep. Variable:                 Rating   R-squared:                       0.886\n",
       "Model:                            OLS   Adj. R-squared:                  0.855\n",
       "Method:                 Least Squares   F-statistic:                     28.58\n",
       "Date:                Sat, 01 Jan 2022   Prob (F-statistic):           4.33e-13\n",
       "Time:                        23:42:31   Log-Likelihood:                -41.247\n",
       "No. Observations:                  43   AIC:                             102.5\n",
       "Df Residuals:                      33   BIC:                             120.1\n",
       "Df Model:                           9                                         \n",
       "Covariance Type:            nonrobust                                         \n",
       "======================================================================================\n",
       "                         coef    std err          t      P>|t|      [0.025      0.975]\n",
       "--------------------------------------------------------------------------------------\n",
       "Distance              -0.5111      0.332     -1.537      0.134      -1.188       0.165\n",
       "Status                 1.9034      0.439      4.338      0.000       1.011       2.796\n",
       "Cost                   0.2707      0.593      0.456      0.651      -0.936       1.478\n",
       "Delivery Time Mins     1.0578      0.182      5.815      0.000       0.688       1.428\n",
       "PromoCode_BF           0.6186      0.392      1.579      0.124      -0.179       1.416\n",
       "PromoCode_NPCA        -0.1510      0.255     -0.592      0.558      -0.670       0.368\n",
       "PromoCode_PRO         -0.1634      0.267     -0.613      0.544      -0.706       0.379\n",
       "PaymentMode_COD       -0.2203      0.381     -0.579      0.567      -0.995       0.554\n",
       "PaymentMode_WALLET     1.2595      0.467      2.699      0.011       0.310       2.209\n",
       "Membership_BING        0.3478      0.324      1.072      0.292      -0.312       1.008\n",
       "Membership_BONG        0.2167      0.194      1.117      0.272      -0.178       0.612\n",
       "Membership_NO         -0.2603      0.199     -1.310      0.199      -0.664       0.144\n",
       "MIX                    0.2167      0.194      1.117      0.272      -0.178       0.612\n",
       "NONVEG                -0.1440      0.395     -0.364      0.718      -0.948       0.660\n",
       "VEG                    0.2316      0.258      0.898      0.376      -0.293       0.756\n",
       "==============================================================================\n",
       "Omnibus:                        0.111   Durbin-Watson:                   2.012\n",
       "Prob(Omnibus):                  0.946   Jarque-Bera (JB):                0.122\n",
       "Skew:                          -0.097   Prob(JB):                        0.941\n",
       "Kurtosis:                       2.826   Cond. No.                     6.22e+31\n",
       "==============================================================================\n",
       "\n",
       "Notes:\n",
       "[1] Standard Errors assume that the covariance matrix of the errors is correctly specified.\n",
       "[2] The smallest eigenvalue is 2.67e-62. This might indicate that there are\n",
       "strong multicollinearity problems or that the design matrix is singular.\n",
       "\"\"\""
      ]
     },
     "execution_count": 113,
     "metadata": {},
     "output_type": "execute_result"
    }
   ],
   "source": [
    "regressor_OLS = sm.OLS(endog = y_train, exog = x_train).fit()\n",
    "regressor_OLS.summary()"
   ]
  },
  {
   "cell_type": "markdown",
   "metadata": {
    "id": "n8VVgqE0BJuT"
   },
   "source": [
    "Next highest P value is NonVeg 0.718"
   ]
  },
  {
   "cell_type": "code",
   "execution_count": 114,
   "metadata": {
    "id": "2kgsldayBFuZ",
    "outputId": "85c86a9d-fb0c-431c-f18b-47146c3f57f6"
   },
   "outputs": [
    {
     "name": "stderr",
     "output_type": "stream",
     "text": [
      "C:\\Users\\darkseid\\anaconda3\\lib\\site-packages\\pandas\\core\\frame.py:4308: SettingWithCopyWarning: \n",
      "A value is trying to be set on a copy of a slice from a DataFrame\n",
      "\n",
      "See the caveats in the documentation: https://pandas.pydata.org/pandas-docs/stable/user_guide/indexing.html#returning-a-view-versus-a-copy\n",
      "  return super().drop(\n"
     ]
    }
   ],
   "source": [
    "#Iteration 2\n",
    "x_train.drop('NONVEG', axis = 1, inplace = True) "
   ]
  },
  {
   "cell_type": "code",
   "execution_count": 115,
   "metadata": {
    "colab": {
     "base_uri": "https://localhost:8080/",
     "height": 743
    },
    "id": "Z5-vtF4jBN2r",
    "outputId": "a1ff41eb-5772-4ac2-90db-fe1dacc6ffbb"
   },
   "outputs": [
    {
     "data": {
      "text/html": [
       "<table class=\"simpletable\">\n",
       "<caption>OLS Regression Results</caption>\n",
       "<tr>\n",
       "  <th>Dep. Variable:</th>         <td>Rating</td>      <th>  R-squared:         </th> <td>   0.886</td>\n",
       "</tr>\n",
       "<tr>\n",
       "  <th>Model:</th>                   <td>OLS</td>       <th>  Adj. R-squared:    </th> <td>   0.855</td>\n",
       "</tr>\n",
       "<tr>\n",
       "  <th>Method:</th>             <td>Least Squares</td>  <th>  F-statistic:       </th> <td>   28.58</td>\n",
       "</tr>\n",
       "<tr>\n",
       "  <th>Date:</th>             <td>Sat, 01 Jan 2022</td> <th>  Prob (F-statistic):</th> <td>4.33e-13</td>\n",
       "</tr>\n",
       "<tr>\n",
       "  <th>Time:</th>                 <td>23:42:31</td>     <th>  Log-Likelihood:    </th> <td> -41.247</td>\n",
       "</tr>\n",
       "<tr>\n",
       "  <th>No. Observations:</th>      <td>    43</td>      <th>  AIC:               </th> <td>   102.5</td>\n",
       "</tr>\n",
       "<tr>\n",
       "  <th>Df Residuals:</th>          <td>    33</td>      <th>  BIC:               </th> <td>   120.1</td>\n",
       "</tr>\n",
       "<tr>\n",
       "  <th>Df Model:</th>              <td>     9</td>      <th>                     </th>     <td> </td>   \n",
       "</tr>\n",
       "<tr>\n",
       "  <th>Covariance Type:</th>      <td>nonrobust</td>    <th>                     </th>     <td> </td>   \n",
       "</tr>\n",
       "</table>\n",
       "<table class=\"simpletable\">\n",
       "<tr>\n",
       "           <td></td>             <th>coef</th>     <th>std err</th>      <th>t</th>      <th>P>|t|</th>  <th>[0.025</th>    <th>0.975]</th>  \n",
       "</tr>\n",
       "<tr>\n",
       "  <th>Distance</th>           <td>   -0.5613</td> <td>    0.317</td> <td>   -1.770</td> <td> 0.086</td> <td>   -1.206</td> <td>    0.084</td>\n",
       "</tr>\n",
       "<tr>\n",
       "  <th>Status</th>             <td>    1.9396</td> <td>    0.529</td> <td>    3.665</td> <td> 0.001</td> <td>    0.863</td> <td>    3.016</td>\n",
       "</tr>\n",
       "<tr>\n",
       "  <th>Cost</th>               <td>    0.2707</td> <td>    0.593</td> <td>    0.456</td> <td> 0.651</td> <td>   -0.936</td> <td>    1.478</td>\n",
       "</tr>\n",
       "<tr>\n",
       "  <th>Delivery Time Mins</th> <td>    1.0005</td> <td>    0.152</td> <td>    6.601</td> <td> 0.000</td> <td>    0.692</td> <td>    1.309</td>\n",
       "</tr>\n",
       "<tr>\n",
       "  <th>PromoCode_BF</th>       <td>    0.5990</td> <td>    0.414</td> <td>    1.448</td> <td> 0.157</td> <td>   -0.243</td> <td>    1.441</td>\n",
       "</tr>\n",
       "<tr>\n",
       "  <th>PromoCode_NPCA</th>     <td>   -0.1705</td> <td>    0.275</td> <td>   -0.620</td> <td> 0.540</td> <td>   -0.730</td> <td>    0.389</td>\n",
       "</tr>\n",
       "<tr>\n",
       "  <th>PromoCode_PRO</th>      <td>   -0.1829</td> <td>    0.271</td> <td>   -0.674</td> <td> 0.505</td> <td>   -0.735</td> <td>    0.369</td>\n",
       "</tr>\n",
       "<tr>\n",
       "  <th>PaymentMode_COD</th>    <td>   -0.2579</td> <td>    0.461</td> <td>   -0.559</td> <td> 0.580</td> <td>   -1.197</td> <td>    0.681</td>\n",
       "</tr>\n",
       "<tr>\n",
       "  <th>PaymentMode_WALLET</th> <td>    1.2219</td> <td>    0.533</td> <td>    2.294</td> <td> 0.028</td> <td>    0.138</td> <td>    2.306</td>\n",
       "</tr>\n",
       "<tr>\n",
       "  <th>Membership_BING</th>    <td>    0.3071</td> <td>    0.426</td> <td>    0.722</td> <td> 0.476</td> <td>   -0.559</td> <td>    1.173</td>\n",
       "</tr>\n",
       "<tr>\n",
       "  <th>Membership_BONG</th>    <td>    0.2395</td> <td>    0.196</td> <td>    1.219</td> <td> 0.231</td> <td>   -0.160</td> <td>    0.639</td>\n",
       "</tr>\n",
       "<tr>\n",
       "  <th>Membership_NO</th>      <td>   -0.3010</td> <td>    0.171</td> <td>   -1.759</td> <td> 0.088</td> <td>   -0.649</td> <td>    0.047</td>\n",
       "</tr>\n",
       "<tr>\n",
       "  <th>MIX</th>                <td>    0.2395</td> <td>    0.196</td> <td>    1.219</td> <td> 0.231</td> <td>   -0.160</td> <td>    0.639</td>\n",
       "</tr>\n",
       "<tr>\n",
       "  <th>VEG</th>                <td>    0.3419</td> <td>    0.536</td> <td>    0.638</td> <td> 0.528</td> <td>   -0.749</td> <td>    1.433</td>\n",
       "</tr>\n",
       "</table>\n",
       "<table class=\"simpletable\">\n",
       "<tr>\n",
       "  <th>Omnibus:</th>       <td> 0.111</td> <th>  Durbin-Watson:     </th> <td>   2.012</td>\n",
       "</tr>\n",
       "<tr>\n",
       "  <th>Prob(Omnibus):</th> <td> 0.946</td> <th>  Jarque-Bera (JB):  </th> <td>   0.122</td>\n",
       "</tr>\n",
       "<tr>\n",
       "  <th>Skew:</th>          <td>-0.097</td> <th>  Prob(JB):          </th> <td>   0.941</td>\n",
       "</tr>\n",
       "<tr>\n",
       "  <th>Kurtosis:</th>      <td> 2.826</td> <th>  Cond. No.          </th> <td>8.62e+31</td>\n",
       "</tr>\n",
       "</table><br/><br/>Notes:<br/>[1] Standard Errors assume that the covariance matrix of the errors is correctly specified.<br/>[2] The smallest eigenvalue is 1.35e-62. This might indicate that there are<br/>strong multicollinearity problems or that the design matrix is singular."
      ],
      "text/plain": [
       "<class 'statsmodels.iolib.summary.Summary'>\n",
       "\"\"\"\n",
       "                            OLS Regression Results                            \n",
       "==============================================================================\n",
       "Dep. Variable:                 Rating   R-squared:                       0.886\n",
       "Model:                            OLS   Adj. R-squared:                  0.855\n",
       "Method:                 Least Squares   F-statistic:                     28.58\n",
       "Date:                Sat, 01 Jan 2022   Prob (F-statistic):           4.33e-13\n",
       "Time:                        23:42:31   Log-Likelihood:                -41.247\n",
       "No. Observations:                  43   AIC:                             102.5\n",
       "Df Residuals:                      33   BIC:                             120.1\n",
       "Df Model:                           9                                         \n",
       "Covariance Type:            nonrobust                                         \n",
       "======================================================================================\n",
       "                         coef    std err          t      P>|t|      [0.025      0.975]\n",
       "--------------------------------------------------------------------------------------\n",
       "Distance              -0.5613      0.317     -1.770      0.086      -1.206       0.084\n",
       "Status                 1.9396      0.529      3.665      0.001       0.863       3.016\n",
       "Cost                   0.2707      0.593      0.456      0.651      -0.936       1.478\n",
       "Delivery Time Mins     1.0005      0.152      6.601      0.000       0.692       1.309\n",
       "PromoCode_BF           0.5990      0.414      1.448      0.157      -0.243       1.441\n",
       "PromoCode_NPCA        -0.1705      0.275     -0.620      0.540      -0.730       0.389\n",
       "PromoCode_PRO         -0.1829      0.271     -0.674      0.505      -0.735       0.369\n",
       "PaymentMode_COD       -0.2579      0.461     -0.559      0.580      -1.197       0.681\n",
       "PaymentMode_WALLET     1.2219      0.533      2.294      0.028       0.138       2.306\n",
       "Membership_BING        0.3071      0.426      0.722      0.476      -0.559       1.173\n",
       "Membership_BONG        0.2395      0.196      1.219      0.231      -0.160       0.639\n",
       "Membership_NO         -0.3010      0.171     -1.759      0.088      -0.649       0.047\n",
       "MIX                    0.2395      0.196      1.219      0.231      -0.160       0.639\n",
       "VEG                    0.3419      0.536      0.638      0.528      -0.749       1.433\n",
       "==============================================================================\n",
       "Omnibus:                        0.111   Durbin-Watson:                   2.012\n",
       "Prob(Omnibus):                  0.946   Jarque-Bera (JB):                0.122\n",
       "Skew:                          -0.097   Prob(JB):                        0.941\n",
       "Kurtosis:                       2.826   Cond. No.                     8.62e+31\n",
       "==============================================================================\n",
       "\n",
       "Notes:\n",
       "[1] Standard Errors assume that the covariance matrix of the errors is correctly specified.\n",
       "[2] The smallest eigenvalue is 1.35e-62. This might indicate that there are\n",
       "strong multicollinearity problems or that the design matrix is singular.\n",
       "\"\"\""
      ]
     },
     "execution_count": 115,
     "metadata": {},
     "output_type": "execute_result"
    }
   ],
   "source": [
    "regressor_OLS = sm.OLS(endog = y_train, exog = x_train).fit()\n",
    "regressor_OLS.summary()"
   ]
  },
  {
   "cell_type": "code",
   "execution_count": 116,
   "metadata": {
    "id": "qPtbN9DYBQ4c",
    "outputId": "2f77986f-8171-42ab-ada9-b33ee1c5cb5d"
   },
   "outputs": [
    {
     "name": "stderr",
     "output_type": "stream",
     "text": [
      "C:\\Users\\darkseid\\anaconda3\\lib\\site-packages\\pandas\\core\\frame.py:4308: SettingWithCopyWarning: \n",
      "A value is trying to be set on a copy of a slice from a DataFrame\n",
      "\n",
      "See the caveats in the documentation: https://pandas.pydata.org/pandas-docs/stable/user_guide/indexing.html#returning-a-view-versus-a-copy\n",
      "  return super().drop(\n"
     ]
    }
   ],
   "source": [
    "#Iteration 3 \n",
    "#Removing the Cost with 0.651 P value\n",
    "x_train.drop('Cost', axis = 1, inplace = True) \n"
   ]
  },
  {
   "cell_type": "code",
   "execution_count": 117,
   "metadata": {
    "colab": {
     "base_uri": "https://localhost:8080/",
     "height": 721
    },
    "id": "sI7dsU6_BTMC",
    "outputId": "8e2655b5-d1f9-404a-9cae-e7e1a44e71e8"
   },
   "outputs": [
    {
     "data": {
      "text/html": [
       "<table class=\"simpletable\">\n",
       "<caption>OLS Regression Results</caption>\n",
       "<tr>\n",
       "  <th>Dep. Variable:</th>         <td>Rating</td>      <th>  R-squared:         </th> <td>   0.886</td>\n",
       "</tr>\n",
       "<tr>\n",
       "  <th>Model:</th>                   <td>OLS</td>       <th>  Adj. R-squared:    </th> <td>   0.859</td>\n",
       "</tr>\n",
       "<tr>\n",
       "  <th>Method:</th>             <td>Least Squares</td>  <th>  F-statistic:       </th> <td>   32.89</td>\n",
       "</tr>\n",
       "<tr>\n",
       "  <th>Date:</th>             <td>Sat, 01 Jan 2022</td> <th>  Prob (F-statistic):</th> <td>8.00e-14</td>\n",
       "</tr>\n",
       "<tr>\n",
       "  <th>Time:</th>                 <td>23:42:31</td>     <th>  Log-Likelihood:    </th> <td> -41.382</td>\n",
       "</tr>\n",
       "<tr>\n",
       "  <th>No. Observations:</th>      <td>    43</td>      <th>  AIC:               </th> <td>   100.8</td>\n",
       "</tr>\n",
       "<tr>\n",
       "  <th>Df Residuals:</th>          <td>    34</td>      <th>  BIC:               </th> <td>   116.6</td>\n",
       "</tr>\n",
       "<tr>\n",
       "  <th>Df Model:</th>              <td>     8</td>      <th>                     </th>     <td> </td>   \n",
       "</tr>\n",
       "<tr>\n",
       "  <th>Covariance Type:</th>      <td>nonrobust</td>    <th>                     </th>     <td> </td>   \n",
       "</tr>\n",
       "</table>\n",
       "<table class=\"simpletable\">\n",
       "<tr>\n",
       "           <td></td>             <th>coef</th>     <th>std err</th>      <th>t</th>      <th>P>|t|</th>  <th>[0.025</th>    <th>0.975]</th>  \n",
       "</tr>\n",
       "<tr>\n",
       "  <th>Distance</th>           <td>   -0.5025</td> <td>    0.286</td> <td>   -1.755</td> <td> 0.088</td> <td>   -1.084</td> <td>    0.079</td>\n",
       "</tr>\n",
       "<tr>\n",
       "  <th>Status</th>             <td>    1.9908</td> <td>    0.511</td> <td>    3.895</td> <td> 0.000</td> <td>    0.952</td> <td>    3.029</td>\n",
       "</tr>\n",
       "<tr>\n",
       "  <th>Delivery Time Mins</th> <td>    1.0181</td> <td>    0.145</td> <td>    7.031</td> <td> 0.000</td> <td>    0.724</td> <td>    1.312</td>\n",
       "</tr>\n",
       "<tr>\n",
       "  <th>PromoCode_BF</th>       <td>    0.5575</td> <td>    0.399</td> <td>    1.398</td> <td> 0.171</td> <td>   -0.253</td> <td>    1.368</td>\n",
       "</tr>\n",
       "<tr>\n",
       "  <th>PromoCode_NPCA</th>     <td>   -0.1092</td> <td>    0.237</td> <td>   -0.460</td> <td> 0.648</td> <td>   -0.591</td> <td>    0.373</td>\n",
       "</tr>\n",
       "<tr>\n",
       "  <th>PromoCode_PRO</th>      <td>   -0.1648</td> <td>    0.265</td> <td>   -0.621</td> <td> 0.538</td> <td>   -0.704</td> <td>    0.374</td>\n",
       "</tr>\n",
       "<tr>\n",
       "  <th>PaymentMode_COD</th>    <td>   -0.2013</td> <td>    0.439</td> <td>   -0.458</td> <td> 0.650</td> <td>   -1.094</td> <td>    0.691</td>\n",
       "</tr>\n",
       "<tr>\n",
       "  <th>PaymentMode_WALLET</th> <td>    1.1391</td> <td>    0.495</td> <td>    2.301</td> <td> 0.028</td> <td>    0.133</td> <td>    2.145</td>\n",
       "</tr>\n",
       "<tr>\n",
       "  <th>Membership_BING</th>    <td>    0.3068</td> <td>    0.421</td> <td>    0.730</td> <td> 0.471</td> <td>   -0.548</td> <td>    1.161</td>\n",
       "</tr>\n",
       "<tr>\n",
       "  <th>Membership_BONG</th>    <td>    0.2786</td> <td>    0.175</td> <td>    1.595</td> <td> 0.120</td> <td>   -0.076</td> <td>    0.634</td>\n",
       "</tr>\n",
       "<tr>\n",
       "  <th>Membership_NO</th>      <td>   -0.3019</td> <td>    0.169</td> <td>   -1.785</td> <td> 0.083</td> <td>   -0.646</td> <td>    0.042</td>\n",
       "</tr>\n",
       "<tr>\n",
       "  <th>MIX</th>                <td>    0.2786</td> <td>    0.175</td> <td>    1.595</td> <td> 0.120</td> <td>   -0.076</td> <td>    0.634</td>\n",
       "</tr>\n",
       "<tr>\n",
       "  <th>VEG</th>                <td>    0.3358</td> <td>    0.530</td> <td>    0.634</td> <td> 0.530</td> <td>   -0.741</td> <td>    1.412</td>\n",
       "</tr>\n",
       "</table>\n",
       "<table class=\"simpletable\">\n",
       "<tr>\n",
       "  <th>Omnibus:</th>       <td> 0.044</td> <th>  Durbin-Watson:     </th> <td>   2.001</td>\n",
       "</tr>\n",
       "<tr>\n",
       "  <th>Prob(Omnibus):</th> <td> 0.978</td> <th>  Jarque-Bera (JB):  </th> <td>   0.204</td>\n",
       "</tr>\n",
       "<tr>\n",
       "  <th>Skew:</th>          <td>-0.059</td> <th>  Prob(JB):          </th> <td>   0.903</td>\n",
       "</tr>\n",
       "<tr>\n",
       "  <th>Kurtosis:</th>      <td> 2.684</td> <th>  Cond. No.          </th> <td>1.43e+31</td>\n",
       "</tr>\n",
       "</table><br/><br/>Notes:<br/>[1] Standard Errors assume that the covariance matrix of the errors is correctly specified.<br/>[2] The smallest eigenvalue is 4.6e-61. This might indicate that there are<br/>strong multicollinearity problems or that the design matrix is singular."
      ],
      "text/plain": [
       "<class 'statsmodels.iolib.summary.Summary'>\n",
       "\"\"\"\n",
       "                            OLS Regression Results                            \n",
       "==============================================================================\n",
       "Dep. Variable:                 Rating   R-squared:                       0.886\n",
       "Model:                            OLS   Adj. R-squared:                  0.859\n",
       "Method:                 Least Squares   F-statistic:                     32.89\n",
       "Date:                Sat, 01 Jan 2022   Prob (F-statistic):           8.00e-14\n",
       "Time:                        23:42:31   Log-Likelihood:                -41.382\n",
       "No. Observations:                  43   AIC:                             100.8\n",
       "Df Residuals:                      34   BIC:                             116.6\n",
       "Df Model:                           8                                         \n",
       "Covariance Type:            nonrobust                                         \n",
       "======================================================================================\n",
       "                         coef    std err          t      P>|t|      [0.025      0.975]\n",
       "--------------------------------------------------------------------------------------\n",
       "Distance              -0.5025      0.286     -1.755      0.088      -1.084       0.079\n",
       "Status                 1.9908      0.511      3.895      0.000       0.952       3.029\n",
       "Delivery Time Mins     1.0181      0.145      7.031      0.000       0.724       1.312\n",
       "PromoCode_BF           0.5575      0.399      1.398      0.171      -0.253       1.368\n",
       "PromoCode_NPCA        -0.1092      0.237     -0.460      0.648      -0.591       0.373\n",
       "PromoCode_PRO         -0.1648      0.265     -0.621      0.538      -0.704       0.374\n",
       "PaymentMode_COD       -0.2013      0.439     -0.458      0.650      -1.094       0.691\n",
       "PaymentMode_WALLET     1.1391      0.495      2.301      0.028       0.133       2.145\n",
       "Membership_BING        0.3068      0.421      0.730      0.471      -0.548       1.161\n",
       "Membership_BONG        0.2786      0.175      1.595      0.120      -0.076       0.634\n",
       "Membership_NO         -0.3019      0.169     -1.785      0.083      -0.646       0.042\n",
       "MIX                    0.2786      0.175      1.595      0.120      -0.076       0.634\n",
       "VEG                    0.3358      0.530      0.634      0.530      -0.741       1.412\n",
       "==============================================================================\n",
       "Omnibus:                        0.044   Durbin-Watson:                   2.001\n",
       "Prob(Omnibus):                  0.978   Jarque-Bera (JB):                0.204\n",
       "Skew:                          -0.059   Prob(JB):                        0.903\n",
       "Kurtosis:                       2.684   Cond. No.                     1.43e+31\n",
       "==============================================================================\n",
       "\n",
       "Notes:\n",
       "[1] Standard Errors assume that the covariance matrix of the errors is correctly specified.\n",
       "[2] The smallest eigenvalue is 4.6e-61. This might indicate that there are\n",
       "strong multicollinearity problems or that the design matrix is singular.\n",
       "\"\"\""
      ]
     },
     "execution_count": 117,
     "metadata": {},
     "output_type": "execute_result"
    }
   ],
   "source": [
    "regressor_OLS = sm.OLS(endog = y_train, exog = x_train).fit()\n",
    "regressor_OLS.summary()"
   ]
  },
  {
   "cell_type": "code",
   "execution_count": 118,
   "metadata": {
    "id": "clGtRFIOBY9O",
    "outputId": "b2e7bdc7-2725-4c0d-ce2b-e469d8e46d79"
   },
   "outputs": [
    {
     "name": "stderr",
     "output_type": "stream",
     "text": [
      "C:\\Users\\darkseid\\anaconda3\\lib\\site-packages\\pandas\\core\\frame.py:4308: SettingWithCopyWarning: \n",
      "A value is trying to be set on a copy of a slice from a DataFrame\n",
      "\n",
      "See the caveats in the documentation: https://pandas.pydata.org/pandas-docs/stable/user_guide/indexing.html#returning-a-view-versus-a-copy\n",
      "  return super().drop(\n"
     ]
    }
   ],
   "source": [
    "#Iteration 4 \n",
    "#Removing the PaymentMode_COD with 0.650 P value\n",
    "x_train.drop('PaymentMode_COD', axis = 1, inplace = True) "
   ]
  },
  {
   "cell_type": "code",
   "execution_count": 119,
   "metadata": {
    "colab": {
     "base_uri": "https://localhost:8080/",
     "height": 700
    },
    "id": "qx1jqMBXBdk2",
    "outputId": "4d957e5a-9f55-46d5-89a8-8ece937c34c1"
   },
   "outputs": [
    {
     "data": {
      "text/html": [
       "<table class=\"simpletable\">\n",
       "<caption>OLS Regression Results</caption>\n",
       "<tr>\n",
       "  <th>Dep. Variable:</th>         <td>Rating</td>      <th>  R-squared:         </th> <td>   0.886</td>\n",
       "</tr>\n",
       "<tr>\n",
       "  <th>Model:</th>                   <td>OLS</td>       <th>  Adj. R-squared:    </th> <td>   0.859</td>\n",
       "</tr>\n",
       "<tr>\n",
       "  <th>Method:</th>             <td>Least Squares</td>  <th>  F-statistic:       </th> <td>   32.89</td>\n",
       "</tr>\n",
       "<tr>\n",
       "  <th>Date:</th>             <td>Sat, 01 Jan 2022</td> <th>  Prob (F-statistic):</th> <td>8.00e-14</td>\n",
       "</tr>\n",
       "<tr>\n",
       "  <th>Time:</th>                 <td>23:42:31</td>     <th>  Log-Likelihood:    </th> <td> -41.382</td>\n",
       "</tr>\n",
       "<tr>\n",
       "  <th>No. Observations:</th>      <td>    43</td>      <th>  AIC:               </th> <td>   100.8</td>\n",
       "</tr>\n",
       "<tr>\n",
       "  <th>Df Residuals:</th>          <td>    34</td>      <th>  BIC:               </th> <td>   116.6</td>\n",
       "</tr>\n",
       "<tr>\n",
       "  <th>Df Model:</th>              <td>     8</td>      <th>                     </th>     <td> </td>   \n",
       "</tr>\n",
       "<tr>\n",
       "  <th>Covariance Type:</th>      <td>nonrobust</td>    <th>                     </th>     <td> </td>   \n",
       "</tr>\n",
       "</table>\n",
       "<table class=\"simpletable\">\n",
       "<tr>\n",
       "           <td></td>             <th>coef</th>     <th>std err</th>      <th>t</th>      <th>P>|t|</th>  <th>[0.025</th>    <th>0.975]</th>  \n",
       "</tr>\n",
       "<tr>\n",
       "  <th>Distance</th>           <td>   -0.2341</td> <td>    0.671</td> <td>   -0.349</td> <td> 0.729</td> <td>   -1.598</td> <td>    1.130</td>\n",
       "</tr>\n",
       "<tr>\n",
       "  <th>Status</th>             <td>    2.0382</td> <td>    0.602</td> <td>    3.383</td> <td> 0.002</td> <td>    0.814</td> <td>    3.263</td>\n",
       "</tr>\n",
       "<tr>\n",
       "  <th>Delivery Time Mins</th> <td>    0.9431</td> <td>    0.226</td> <td>    4.182</td> <td> 0.000</td> <td>    0.485</td> <td>    1.401</td>\n",
       "</tr>\n",
       "<tr>\n",
       "  <th>PromoCode_BF</th>       <td>    0.4183</td> <td>    0.599</td> <td>    0.699</td> <td> 0.489</td> <td>   -0.798</td> <td>    1.635</td>\n",
       "</tr>\n",
       "<tr>\n",
       "  <th>PromoCode_NPCA</th>     <td>   -0.2484</td> <td>    0.484</td> <td>   -0.513</td> <td> 0.611</td> <td>   -1.233</td> <td>    0.736</td>\n",
       "</tr>\n",
       "<tr>\n",
       "  <th>PromoCode_PRO</th>      <td>   -0.3041</td> <td>    0.413</td> <td>   -0.736</td> <td> 0.467</td> <td>   -1.144</td> <td>    0.536</td>\n",
       "</tr>\n",
       "<tr>\n",
       "  <th>PaymentMode_WALLET</th> <td>    1.3404</td> <td>    0.427</td> <td>    3.139</td> <td> 0.003</td> <td>    0.473</td> <td>    2.208</td>\n",
       "</tr>\n",
       "<tr>\n",
       "  <th>Membership_BING</th>    <td>    0.1382</td> <td>    0.750</td> <td>    0.184</td> <td> 0.855</td> <td>   -1.387</td> <td>    1.663</td>\n",
       "</tr>\n",
       "<tr>\n",
       "  <th>Membership_BONG</th>    <td>    0.1982</td> <td>    0.246</td> <td>    0.806</td> <td> 0.426</td> <td>   -0.302</td> <td>    0.698</td>\n",
       "</tr>\n",
       "<tr>\n",
       "  <th>Membership_NO</th>      <td>   -0.4705</td> <td>    0.399</td> <td>   -1.181</td> <td> 0.246</td> <td>   -1.280</td> <td>    0.339</td>\n",
       "</tr>\n",
       "<tr>\n",
       "  <th>MIX</th>                <td>    0.1982</td> <td>    0.246</td> <td>    0.806</td> <td> 0.426</td> <td>   -0.302</td> <td>    0.698</td>\n",
       "</tr>\n",
       "<tr>\n",
       "  <th>VEG</th>                <td>    0.3752</td> <td>    0.604</td> <td>    0.621</td> <td> 0.539</td> <td>   -0.852</td> <td>    1.603</td>\n",
       "</tr>\n",
       "</table>\n",
       "<table class=\"simpletable\">\n",
       "<tr>\n",
       "  <th>Omnibus:</th>       <td> 0.044</td> <th>  Durbin-Watson:     </th> <td>   2.001</td>\n",
       "</tr>\n",
       "<tr>\n",
       "  <th>Prob(Omnibus):</th> <td> 0.978</td> <th>  Jarque-Bera (JB):  </th> <td>   0.204</td>\n",
       "</tr>\n",
       "<tr>\n",
       "  <th>Skew:</th>          <td>-0.059</td> <th>  Prob(JB):          </th> <td>   0.903</td>\n",
       "</tr>\n",
       "<tr>\n",
       "  <th>Kurtosis:</th>      <td> 2.684</td> <th>  Cond. No.          </th> <td>1.08e+17</td>\n",
       "</tr>\n",
       "</table><br/><br/>Notes:<br/>[1] Standard Errors assume that the covariance matrix of the errors is correctly specified.<br/>[2] The smallest eigenvalue is 7.31e-33. This might indicate that there are<br/>strong multicollinearity problems or that the design matrix is singular."
      ],
      "text/plain": [
       "<class 'statsmodels.iolib.summary.Summary'>\n",
       "\"\"\"\n",
       "                            OLS Regression Results                            \n",
       "==============================================================================\n",
       "Dep. Variable:                 Rating   R-squared:                       0.886\n",
       "Model:                            OLS   Adj. R-squared:                  0.859\n",
       "Method:                 Least Squares   F-statistic:                     32.89\n",
       "Date:                Sat, 01 Jan 2022   Prob (F-statistic):           8.00e-14\n",
       "Time:                        23:42:31   Log-Likelihood:                -41.382\n",
       "No. Observations:                  43   AIC:                             100.8\n",
       "Df Residuals:                      34   BIC:                             116.6\n",
       "Df Model:                           8                                         \n",
       "Covariance Type:            nonrobust                                         \n",
       "======================================================================================\n",
       "                         coef    std err          t      P>|t|      [0.025      0.975]\n",
       "--------------------------------------------------------------------------------------\n",
       "Distance              -0.2341      0.671     -0.349      0.729      -1.598       1.130\n",
       "Status                 2.0382      0.602      3.383      0.002       0.814       3.263\n",
       "Delivery Time Mins     0.9431      0.226      4.182      0.000       0.485       1.401\n",
       "PromoCode_BF           0.4183      0.599      0.699      0.489      -0.798       1.635\n",
       "PromoCode_NPCA        -0.2484      0.484     -0.513      0.611      -1.233       0.736\n",
       "PromoCode_PRO         -0.3041      0.413     -0.736      0.467      -1.144       0.536\n",
       "PaymentMode_WALLET     1.3404      0.427      3.139      0.003       0.473       2.208\n",
       "Membership_BING        0.1382      0.750      0.184      0.855      -1.387       1.663\n",
       "Membership_BONG        0.1982      0.246      0.806      0.426      -0.302       0.698\n",
       "Membership_NO         -0.4705      0.399     -1.181      0.246      -1.280       0.339\n",
       "MIX                    0.1982      0.246      0.806      0.426      -0.302       0.698\n",
       "VEG                    0.3752      0.604      0.621      0.539      -0.852       1.603\n",
       "==============================================================================\n",
       "Omnibus:                        0.044   Durbin-Watson:                   2.001\n",
       "Prob(Omnibus):                  0.978   Jarque-Bera (JB):                0.204\n",
       "Skew:                          -0.059   Prob(JB):                        0.903\n",
       "Kurtosis:                       2.684   Cond. No.                     1.08e+17\n",
       "==============================================================================\n",
       "\n",
       "Notes:\n",
       "[1] Standard Errors assume that the covariance matrix of the errors is correctly specified.\n",
       "[2] The smallest eigenvalue is 7.31e-33. This might indicate that there are\n",
       "strong multicollinearity problems or that the design matrix is singular.\n",
       "\"\"\""
      ]
     },
     "execution_count": 119,
     "metadata": {},
     "output_type": "execute_result"
    }
   ],
   "source": [
    "regressor_OLS = sm.OLS(endog = y_train, exog = x_train).fit()\n",
    "regressor_OLS.summary()"
   ]
  },
  {
   "cell_type": "code",
   "execution_count": 120,
   "metadata": {
    "id": "MAqx0RSpB1cu",
    "outputId": "61e1ad39-5f9d-4bdd-9f6c-3281848cf18f"
   },
   "outputs": [
    {
     "name": "stderr",
     "output_type": "stream",
     "text": [
      "C:\\Users\\darkseid\\anaconda3\\lib\\site-packages\\pandas\\core\\frame.py:4308: SettingWithCopyWarning: \n",
      "A value is trying to be set on a copy of a slice from a DataFrame\n",
      "\n",
      "See the caveats in the documentation: https://pandas.pydata.org/pandas-docs/stable/user_guide/indexing.html#returning-a-view-versus-a-copy\n",
      "  return super().drop(\n"
     ]
    }
   ],
   "source": [
    "#Iteration 5\n",
    "#Removing the Membership_BING with 0.855 P value\n",
    "x_train.drop('Membership_BING', axis = 1, inplace = True) "
   ]
  },
  {
   "cell_type": "code",
   "execution_count": 121,
   "metadata": {
    "colab": {
     "base_uri": "https://localhost:8080/",
     "height": 679
    },
    "id": "oym0klZBBfvc",
    "outputId": "0d7ef6b9-5a56-4d54-c69a-8757c4455575"
   },
   "outputs": [
    {
     "data": {
      "text/html": [
       "<table class=\"simpletable\">\n",
       "<caption>OLS Regression Results</caption>\n",
       "<tr>\n",
       "  <th>Dep. Variable:</th>         <td>Rating</td>      <th>  R-squared:         </th> <td>   0.886</td>\n",
       "</tr>\n",
       "<tr>\n",
       "  <th>Model:</th>                   <td>OLS</td>       <th>  Adj. R-squared:    </th> <td>   0.859</td>\n",
       "</tr>\n",
       "<tr>\n",
       "  <th>Method:</th>             <td>Least Squares</td>  <th>  F-statistic:       </th> <td>   32.89</td>\n",
       "</tr>\n",
       "<tr>\n",
       "  <th>Date:</th>             <td>Sat, 01 Jan 2022</td> <th>  Prob (F-statistic):</th> <td>8.00e-14</td>\n",
       "</tr>\n",
       "<tr>\n",
       "  <th>Time:</th>                 <td>23:42:31</td>     <th>  Log-Likelihood:    </th> <td> -41.382</td>\n",
       "</tr>\n",
       "<tr>\n",
       "  <th>No. Observations:</th>      <td>    43</td>      <th>  AIC:               </th> <td>   100.8</td>\n",
       "</tr>\n",
       "<tr>\n",
       "  <th>Df Residuals:</th>          <td>    34</td>      <th>  BIC:               </th> <td>   116.6</td>\n",
       "</tr>\n",
       "<tr>\n",
       "  <th>Df Model:</th>              <td>     8</td>      <th>                     </th>     <td> </td>   \n",
       "</tr>\n",
       "<tr>\n",
       "  <th>Covariance Type:</th>      <td>nonrobust</td>    <th>                     </th>     <td> </td>   \n",
       "</tr>\n",
       "</table>\n",
       "<table class=\"simpletable\">\n",
       "<tr>\n",
       "           <td></td>             <th>coef</th>     <th>std err</th>      <th>t</th>      <th>P>|t|</th>  <th>[0.025</th>    <th>0.975]</th>  \n",
       "</tr>\n",
       "<tr>\n",
       "  <th>Distance</th>           <td>   -0.2341</td> <td>    0.671</td> <td>   -0.349</td> <td> 0.729</td> <td>   -1.598</td> <td>    1.130</td>\n",
       "</tr>\n",
       "<tr>\n",
       "  <th>Status</th>             <td>    1.9801</td> <td>    0.907</td> <td>    2.183</td> <td> 0.036</td> <td>    0.137</td> <td>    3.823</td>\n",
       "</tr>\n",
       "<tr>\n",
       "  <th>Delivery Time Mins</th> <td>    1.0351</td> <td>    0.697</td> <td>    1.484</td> <td> 0.147</td> <td>   -0.382</td> <td>    2.452</td>\n",
       "</tr>\n",
       "<tr>\n",
       "  <th>PromoCode_BF</th>       <td>    0.5226</td> <td>    1.107</td> <td>    0.472</td> <td> 0.640</td> <td>   -1.726</td> <td>    2.771</td>\n",
       "</tr>\n",
       "<tr>\n",
       "  <th>PromoCode_NPCA</th>     <td>   -0.1441</td> <td>    1.011</td> <td>   -0.142</td> <td> 0.888</td> <td>   -2.200</td> <td>    1.911</td>\n",
       "</tr>\n",
       "<tr>\n",
       "  <th>PromoCode_PRO</th>      <td>   -0.1998</td> <td>    0.920</td> <td>   -0.217</td> <td> 0.829</td> <td>   -2.070</td> <td>    1.670</td>\n",
       "</tr>\n",
       "<tr>\n",
       "  <th>PaymentMode_WALLET</th> <td>    1.3404</td> <td>    0.427</td> <td>    3.139</td> <td> 0.003</td> <td>    0.473</td> <td>    2.208</td>\n",
       "</tr>\n",
       "<tr>\n",
       "  <th>Membership_BONG</th>    <td>    0.1654</td> <td>    0.214</td> <td>    0.772</td> <td> 0.445</td> <td>   -0.270</td> <td>    0.601</td>\n",
       "</tr>\n",
       "<tr>\n",
       "  <th>Membership_NO</th>      <td>   -0.6087</td> <td>    0.480</td> <td>   -1.269</td> <td> 0.213</td> <td>   -1.583</td> <td>    0.366</td>\n",
       "</tr>\n",
       "<tr>\n",
       "  <th>MIX</th>                <td>    0.1654</td> <td>    0.214</td> <td>    0.772</td> <td> 0.445</td> <td>   -0.270</td> <td>    0.601</td>\n",
       "</tr>\n",
       "<tr>\n",
       "  <th>VEG</th>                <td>    0.4091</td> <td>    0.441</td> <td>    0.927</td> <td> 0.360</td> <td>   -0.487</td> <td>    1.306</td>\n",
       "</tr>\n",
       "</table>\n",
       "<table class=\"simpletable\">\n",
       "<tr>\n",
       "  <th>Omnibus:</th>       <td> 0.044</td> <th>  Durbin-Watson:     </th> <td>   2.001</td>\n",
       "</tr>\n",
       "<tr>\n",
       "  <th>Prob(Omnibus):</th> <td> 0.978</td> <th>  Jarque-Bera (JB):  </th> <td>   0.204</td>\n",
       "</tr>\n",
       "<tr>\n",
       "  <th>Skew:</th>          <td>-0.059</td> <th>  Prob(JB):          </th> <td>   0.903</td>\n",
       "</tr>\n",
       "<tr>\n",
       "  <th>Kurtosis:</th>      <td> 2.684</td> <th>  Cond. No.          </th> <td>1.95e+17</td>\n",
       "</tr>\n",
       "</table><br/><br/>Notes:<br/>[1] Standard Errors assume that the covariance matrix of the errors is correctly specified.<br/>[2] The smallest eigenvalue is 2.05e-33. This might indicate that there are<br/>strong multicollinearity problems or that the design matrix is singular."
      ],
      "text/plain": [
       "<class 'statsmodels.iolib.summary.Summary'>\n",
       "\"\"\"\n",
       "                            OLS Regression Results                            \n",
       "==============================================================================\n",
       "Dep. Variable:                 Rating   R-squared:                       0.886\n",
       "Model:                            OLS   Adj. R-squared:                  0.859\n",
       "Method:                 Least Squares   F-statistic:                     32.89\n",
       "Date:                Sat, 01 Jan 2022   Prob (F-statistic):           8.00e-14\n",
       "Time:                        23:42:31   Log-Likelihood:                -41.382\n",
       "No. Observations:                  43   AIC:                             100.8\n",
       "Df Residuals:                      34   BIC:                             116.6\n",
       "Df Model:                           8                                         \n",
       "Covariance Type:            nonrobust                                         \n",
       "======================================================================================\n",
       "                         coef    std err          t      P>|t|      [0.025      0.975]\n",
       "--------------------------------------------------------------------------------------\n",
       "Distance              -0.2341      0.671     -0.349      0.729      -1.598       1.130\n",
       "Status                 1.9801      0.907      2.183      0.036       0.137       3.823\n",
       "Delivery Time Mins     1.0351      0.697      1.484      0.147      -0.382       2.452\n",
       "PromoCode_BF           0.5226      1.107      0.472      0.640      -1.726       2.771\n",
       "PromoCode_NPCA        -0.1441      1.011     -0.142      0.888      -2.200       1.911\n",
       "PromoCode_PRO         -0.1998      0.920     -0.217      0.829      -2.070       1.670\n",
       "PaymentMode_WALLET     1.3404      0.427      3.139      0.003       0.473       2.208\n",
       "Membership_BONG        0.1654      0.214      0.772      0.445      -0.270       0.601\n",
       "Membership_NO         -0.6087      0.480     -1.269      0.213      -1.583       0.366\n",
       "MIX                    0.1654      0.214      0.772      0.445      -0.270       0.601\n",
       "VEG                    0.4091      0.441      0.927      0.360      -0.487       1.306\n",
       "==============================================================================\n",
       "Omnibus:                        0.044   Durbin-Watson:                   2.001\n",
       "Prob(Omnibus):                  0.978   Jarque-Bera (JB):                0.204\n",
       "Skew:                          -0.059   Prob(JB):                        0.903\n",
       "Kurtosis:                       2.684   Cond. No.                     1.95e+17\n",
       "==============================================================================\n",
       "\n",
       "Notes:\n",
       "[1] Standard Errors assume that the covariance matrix of the errors is correctly specified.\n",
       "[2] The smallest eigenvalue is 2.05e-33. This might indicate that there are\n",
       "strong multicollinearity problems or that the design matrix is singular.\n",
       "\"\"\""
      ]
     },
     "execution_count": 121,
     "metadata": {},
     "output_type": "execute_result"
    }
   ],
   "source": [
    "regressor_OLS = sm.OLS(endog = y_train, exog = x_train).fit()\n",
    "regressor_OLS.summary()"
   ]
  },
  {
   "cell_type": "code",
   "execution_count": 122,
   "metadata": {
    "id": "pndYGh5UBt0f",
    "outputId": "fd325f8a-8f75-42d3-cdd4-b124729fdf2c"
   },
   "outputs": [
    {
     "name": "stderr",
     "output_type": "stream",
     "text": [
      "C:\\Users\\darkseid\\anaconda3\\lib\\site-packages\\pandas\\core\\frame.py:4308: SettingWithCopyWarning: \n",
      "A value is trying to be set on a copy of a slice from a DataFrame\n",
      "\n",
      "See the caveats in the documentation: https://pandas.pydata.org/pandas-docs/stable/user_guide/indexing.html#returning-a-view-versus-a-copy\n",
      "  return super().drop(\n"
     ]
    }
   ],
   "source": [
    "#Iteration 6 \n",
    "#Removing the PromoCode_NPCA with 0.888 P value\n",
    "x_train.drop('PromoCode_NPCA', axis = 1, inplace = True) "
   ]
  },
  {
   "cell_type": "code",
   "execution_count": 123,
   "metadata": {
    "colab": {
     "base_uri": "https://localhost:8080/",
     "height": 657
    },
    "id": "uCVzlQTRB9tK",
    "outputId": "d7f5ec7b-6cce-4569-e1d4-8c70f42d6b3a"
   },
   "outputs": [
    {
     "data": {
      "text/html": [
       "<table class=\"simpletable\">\n",
       "<caption>OLS Regression Results</caption>\n",
       "<tr>\n",
       "  <th>Dep. Variable:</th>         <td>Rating</td>      <th>  R-squared:         </th> <td>   0.886</td>\n",
       "</tr>\n",
       "<tr>\n",
       "  <th>Model:</th>                   <td>OLS</td>       <th>  Adj. R-squared:    </th> <td>   0.859</td>\n",
       "</tr>\n",
       "<tr>\n",
       "  <th>Method:</th>             <td>Least Squares</td>  <th>  F-statistic:       </th> <td>   32.89</td>\n",
       "</tr>\n",
       "<tr>\n",
       "  <th>Date:</th>             <td>Sat, 01 Jan 2022</td> <th>  Prob (F-statistic):</th> <td>8.00e-14</td>\n",
       "</tr>\n",
       "<tr>\n",
       "  <th>Time:</th>                 <td>23:42:31</td>     <th>  Log-Likelihood:    </th> <td> -41.382</td>\n",
       "</tr>\n",
       "<tr>\n",
       "  <th>No. Observations:</th>      <td>    43</td>      <th>  AIC:               </th> <td>   100.8</td>\n",
       "</tr>\n",
       "<tr>\n",
       "  <th>Df Residuals:</th>          <td>    34</td>      <th>  BIC:               </th> <td>   116.6</td>\n",
       "</tr>\n",
       "<tr>\n",
       "  <th>Df Model:</th>              <td>     8</td>      <th>                     </th>     <td> </td>   \n",
       "</tr>\n",
       "<tr>\n",
       "  <th>Covariance Type:</th>      <td>nonrobust</td>    <th>                     </th>     <td> </td>   \n",
       "</tr>\n",
       "</table>\n",
       "<table class=\"simpletable\">\n",
       "<tr>\n",
       "           <td></td>             <th>coef</th>     <th>std err</th>      <th>t</th>      <th>P>|t|</th>  <th>[0.025</th>    <th>0.975]</th>  \n",
       "</tr>\n",
       "<tr>\n",
       "  <th>Distance</th>           <td>   -0.2341</td> <td>    0.671</td> <td>   -0.349</td> <td> 0.729</td> <td>   -1.598</td> <td>    1.130</td>\n",
       "</tr>\n",
       "<tr>\n",
       "  <th>Status</th>             <td>    2.2271</td> <td>    2.615</td> <td>    0.852</td> <td> 0.400</td> <td>   -3.086</td> <td>    7.541</td>\n",
       "</tr>\n",
       "<tr>\n",
       "  <th>Delivery Time Mins</th> <td>    0.6439</td> <td>    3.410</td> <td>    0.189</td> <td> 0.851</td> <td>   -6.285</td> <td>    7.573</td>\n",
       "</tr>\n",
       "<tr>\n",
       "  <th>PromoCode_BF</th>       <td>    0.6667</td> <td>    0.504</td> <td>    1.323</td> <td> 0.195</td> <td>   -0.357</td> <td>    1.690</td>\n",
       "</tr>\n",
       "<tr>\n",
       "  <th>PromoCode_PRO</th>      <td>   -0.0557</td> <td>    0.320</td> <td>   -0.174</td> <td> 0.863</td> <td>   -0.707</td> <td>    0.596</td>\n",
       "</tr>\n",
       "<tr>\n",
       "  <th>PaymentMode_WALLET</th> <td>    1.3404</td> <td>    0.427</td> <td>    3.139</td> <td> 0.003</td> <td>    0.473</td> <td>    2.208</td>\n",
       "</tr>\n",
       "<tr>\n",
       "  <th>Membership_BONG</th>    <td>    0.0111</td> <td>    1.098</td> <td>    0.010</td> <td> 0.992</td> <td>   -2.220</td> <td>    2.242</td>\n",
       "</tr>\n",
       "<tr>\n",
       "  <th>Membership_NO</th>      <td>   -0.6087</td> <td>    0.480</td> <td>   -1.269</td> <td> 0.213</td> <td>   -1.583</td> <td>    0.366</td>\n",
       "</tr>\n",
       "<tr>\n",
       "  <th>MIX</th>                <td>    0.0111</td> <td>    1.098</td> <td>    0.010</td> <td> 0.992</td> <td>   -2.220</td> <td>    2.242</td>\n",
       "</tr>\n",
       "<tr>\n",
       "  <th>VEG</th>                <td>    0.2650</td> <td>    0.667</td> <td>    0.397</td> <td> 0.694</td> <td>   -1.091</td> <td>    1.621</td>\n",
       "</tr>\n",
       "</table>\n",
       "<table class=\"simpletable\">\n",
       "<tr>\n",
       "  <th>Omnibus:</th>       <td> 0.044</td> <th>  Durbin-Watson:     </th> <td>   2.001</td>\n",
       "</tr>\n",
       "<tr>\n",
       "  <th>Prob(Omnibus):</th> <td> 0.978</td> <th>  Jarque-Bera (JB):  </th> <td>   0.204</td>\n",
       "</tr>\n",
       "<tr>\n",
       "  <th>Skew:</th>          <td>-0.059</td> <th>  Prob(JB):          </th> <td>   0.903</td>\n",
       "</tr>\n",
       "<tr>\n",
       "  <th>Kurtosis:</th>      <td> 2.684</td> <th>  Cond. No.          </th> <td>4.76e+16</td>\n",
       "</tr>\n",
       "</table><br/><br/>Notes:<br/>[1] Standard Errors assume that the covariance matrix of the errors is correctly specified.<br/>[2] The smallest eigenvalue is 3.13e-32. This might indicate that there are<br/>strong multicollinearity problems or that the design matrix is singular."
      ],
      "text/plain": [
       "<class 'statsmodels.iolib.summary.Summary'>\n",
       "\"\"\"\n",
       "                            OLS Regression Results                            \n",
       "==============================================================================\n",
       "Dep. Variable:                 Rating   R-squared:                       0.886\n",
       "Model:                            OLS   Adj. R-squared:                  0.859\n",
       "Method:                 Least Squares   F-statistic:                     32.89\n",
       "Date:                Sat, 01 Jan 2022   Prob (F-statistic):           8.00e-14\n",
       "Time:                        23:42:31   Log-Likelihood:                -41.382\n",
       "No. Observations:                  43   AIC:                             100.8\n",
       "Df Residuals:                      34   BIC:                             116.6\n",
       "Df Model:                           8                                         \n",
       "Covariance Type:            nonrobust                                         \n",
       "======================================================================================\n",
       "                         coef    std err          t      P>|t|      [0.025      0.975]\n",
       "--------------------------------------------------------------------------------------\n",
       "Distance              -0.2341      0.671     -0.349      0.729      -1.598       1.130\n",
       "Status                 2.2271      2.615      0.852      0.400      -3.086       7.541\n",
       "Delivery Time Mins     0.6439      3.410      0.189      0.851      -6.285       7.573\n",
       "PromoCode_BF           0.6667      0.504      1.323      0.195      -0.357       1.690\n",
       "PromoCode_PRO         -0.0557      0.320     -0.174      0.863      -0.707       0.596\n",
       "PaymentMode_WALLET     1.3404      0.427      3.139      0.003       0.473       2.208\n",
       "Membership_BONG        0.0111      1.098      0.010      0.992      -2.220       2.242\n",
       "Membership_NO         -0.6087      0.480     -1.269      0.213      -1.583       0.366\n",
       "MIX                    0.0111      1.098      0.010      0.992      -2.220       2.242\n",
       "VEG                    0.2650      0.667      0.397      0.694      -1.091       1.621\n",
       "==============================================================================\n",
       "Omnibus:                        0.044   Durbin-Watson:                   2.001\n",
       "Prob(Omnibus):                  0.978   Jarque-Bera (JB):                0.204\n",
       "Skew:                          -0.059   Prob(JB):                        0.903\n",
       "Kurtosis:                       2.684   Cond. No.                     4.76e+16\n",
       "==============================================================================\n",
       "\n",
       "Notes:\n",
       "[1] Standard Errors assume that the covariance matrix of the errors is correctly specified.\n",
       "[2] The smallest eigenvalue is 3.13e-32. This might indicate that there are\n",
       "strong multicollinearity problems or that the design matrix is singular.\n",
       "\"\"\""
      ]
     },
     "execution_count": 123,
     "metadata": {},
     "output_type": "execute_result"
    }
   ],
   "source": [
    "regressor_OLS = sm.OLS(endog = y_train, exog = x_train).fit()\n",
    "regressor_OLS.summary()"
   ]
  },
  {
   "cell_type": "code",
   "execution_count": 124,
   "metadata": {
    "id": "K-FJsLKJB_j5",
    "outputId": "1020c728-2d7f-47a6-9413-ac8698f9b3b1"
   },
   "outputs": [
    {
     "name": "stderr",
     "output_type": "stream",
     "text": [
      "C:\\Users\\darkseid\\anaconda3\\lib\\site-packages\\pandas\\core\\frame.py:4308: SettingWithCopyWarning: \n",
      "A value is trying to be set on a copy of a slice from a DataFrame\n",
      "\n",
      "See the caveats in the documentation: https://pandas.pydata.org/pandas-docs/stable/user_guide/indexing.html#returning-a-view-versus-a-copy\n",
      "  return super().drop(\n"
     ]
    }
   ],
   "source": [
    "#Iteration 7\n",
    "#Removing the Status with 0.992 P value\n",
    "x_train.drop(['Membership_BONG','MIX'], axis = 1, inplace = True)"
   ]
  },
  {
   "cell_type": "code",
   "execution_count": 125,
   "metadata": {
    "colab": {
     "base_uri": "https://localhost:8080/",
     "height": 635
    },
    "id": "w7vlehDtCB1Z",
    "outputId": "94c4a919-eb24-49c1-9b3c-1cd136e1dbb2"
   },
   "outputs": [
    {
     "data": {
      "text/html": [
       "<table class=\"simpletable\">\n",
       "<caption>OLS Regression Results</caption>\n",
       "<tr>\n",
       "  <th>Dep. Variable:</th>         <td>Rating</td>      <th>  R-squared (uncentered):</th>      <td>   0.945</td>\n",
       "</tr>\n",
       "<tr>\n",
       "  <th>Model:</th>                   <td>OLS</td>       <th>  Adj. R-squared (uncentered):</th> <td>   0.932</td>\n",
       "</tr>\n",
       "<tr>\n",
       "  <th>Method:</th>             <td>Least Squares</td>  <th>  F-statistic:       </th>          <td>   74.48</td>\n",
       "</tr>\n",
       "<tr>\n",
       "  <th>Date:</th>             <td>Sat, 01 Jan 2022</td> <th>  Prob (F-statistic):</th>          <td>1.10e-19</td>\n",
       "</tr>\n",
       "<tr>\n",
       "  <th>Time:</th>                 <td>23:42:31</td>     <th>  Log-Likelihood:    </th>          <td> -41.383</td>\n",
       "</tr>\n",
       "<tr>\n",
       "  <th>No. Observations:</th>      <td>    43</td>      <th>  AIC:               </th>          <td>   98.77</td>\n",
       "</tr>\n",
       "<tr>\n",
       "  <th>Df Residuals:</th>          <td>    35</td>      <th>  BIC:               </th>          <td>   112.9</td>\n",
       "</tr>\n",
       "<tr>\n",
       "  <th>Df Model:</th>              <td>     8</td>      <th>                     </th>              <td> </td>   \n",
       "</tr>\n",
       "<tr>\n",
       "  <th>Covariance Type:</th>      <td>nonrobust</td>    <th>                     </th>              <td> </td>   \n",
       "</tr>\n",
       "</table>\n",
       "<table class=\"simpletable\">\n",
       "<tr>\n",
       "           <td></td>             <th>coef</th>     <th>std err</th>      <th>t</th>      <th>P>|t|</th>  <th>[0.025</th>    <th>0.975]</th>  \n",
       "</tr>\n",
       "<tr>\n",
       "  <th>Distance</th>           <td>   -0.2284</td> <td>    0.359</td> <td>   -0.636</td> <td> 0.529</td> <td>   -0.958</td> <td>    0.501</td>\n",
       "</tr>\n",
       "<tr>\n",
       "  <th>Status</th>             <td>    2.2526</td> <td>    0.666</td> <td>    3.380</td> <td> 0.002</td> <td>    0.900</td> <td>    3.605</td>\n",
       "</tr>\n",
       "<tr>\n",
       "  <th>Delivery Time Mins</th> <td>    0.6107</td> <td>    0.849</td> <td>    0.720</td> <td> 0.477</td> <td>   -1.112</td> <td>    2.334</td>\n",
       "</tr>\n",
       "<tr>\n",
       "  <th>PromoCode_BF</th>       <td>    0.6674</td> <td>    0.491</td> <td>    1.360</td> <td> 0.182</td> <td>   -0.329</td> <td>    1.664</td>\n",
       "</tr>\n",
       "<tr>\n",
       "  <th>PromoCode_PRO</th>      <td>   -0.0542</td> <td>    0.283</td> <td>   -0.192</td> <td> 0.849</td> <td>   -0.629</td> <td>    0.521</td>\n",
       "</tr>\n",
       "<tr>\n",
       "  <th>PaymentMode_WALLET</th> <td>    1.3419</td> <td>    0.395</td> <td>    3.395</td> <td> 0.002</td> <td>    0.539</td> <td>    2.144</td>\n",
       "</tr>\n",
       "<tr>\n",
       "  <th>Membership_NO</th>      <td>   -0.6051</td> <td>    0.314</td> <td>   -1.926</td> <td> 0.062</td> <td>   -1.243</td> <td>    0.033</td>\n",
       "</tr>\n",
       "<tr>\n",
       "  <th>VEG</th>                <td>    0.2588</td> <td>    0.257</td> <td>    1.005</td> <td> 0.322</td> <td>   -0.264</td> <td>    0.781</td>\n",
       "</tr>\n",
       "</table>\n",
       "<table class=\"simpletable\">\n",
       "<tr>\n",
       "  <th>Omnibus:</th>       <td> 0.046</td> <th>  Durbin-Watson:     </th> <td>   2.002</td>\n",
       "</tr>\n",
       "<tr>\n",
       "  <th>Prob(Omnibus):</th> <td> 0.977</td> <th>  Jarque-Bera (JB):  </th> <td>   0.207</td>\n",
       "</tr>\n",
       "<tr>\n",
       "  <th>Skew:</th>          <td>-0.061</td> <th>  Prob(JB):          </th> <td>   0.902</td>\n",
       "</tr>\n",
       "<tr>\n",
       "  <th>Kurtosis:</th>      <td> 2.683</td> <th>  Cond. No.          </th> <td>    13.6</td>\n",
       "</tr>\n",
       "</table><br/><br/>Notes:<br/>[1] R² is computed without centering (uncentered) since the model does not contain a constant.<br/>[2] Standard Errors assume that the covariance matrix of the errors is correctly specified."
      ],
      "text/plain": [
       "<class 'statsmodels.iolib.summary.Summary'>\n",
       "\"\"\"\n",
       "                                 OLS Regression Results                                \n",
       "=======================================================================================\n",
       "Dep. Variable:                 Rating   R-squared (uncentered):                   0.945\n",
       "Model:                            OLS   Adj. R-squared (uncentered):              0.932\n",
       "Method:                 Least Squares   F-statistic:                              74.48\n",
       "Date:                Sat, 01 Jan 2022   Prob (F-statistic):                    1.10e-19\n",
       "Time:                        23:42:31   Log-Likelihood:                         -41.383\n",
       "No. Observations:                  43   AIC:                                      98.77\n",
       "Df Residuals:                      35   BIC:                                      112.9\n",
       "Df Model:                           8                                                  \n",
       "Covariance Type:            nonrobust                                                  \n",
       "======================================================================================\n",
       "                         coef    std err          t      P>|t|      [0.025      0.975]\n",
       "--------------------------------------------------------------------------------------\n",
       "Distance              -0.2284      0.359     -0.636      0.529      -0.958       0.501\n",
       "Status                 2.2526      0.666      3.380      0.002       0.900       3.605\n",
       "Delivery Time Mins     0.6107      0.849      0.720      0.477      -1.112       2.334\n",
       "PromoCode_BF           0.6674      0.491      1.360      0.182      -0.329       1.664\n",
       "PromoCode_PRO         -0.0542      0.283     -0.192      0.849      -0.629       0.521\n",
       "PaymentMode_WALLET     1.3419      0.395      3.395      0.002       0.539       2.144\n",
       "Membership_NO         -0.6051      0.314     -1.926      0.062      -1.243       0.033\n",
       "VEG                    0.2588      0.257      1.005      0.322      -0.264       0.781\n",
       "==============================================================================\n",
       "Omnibus:                        0.046   Durbin-Watson:                   2.002\n",
       "Prob(Omnibus):                  0.977   Jarque-Bera (JB):                0.207\n",
       "Skew:                          -0.061   Prob(JB):                        0.902\n",
       "Kurtosis:                       2.683   Cond. No.                         13.6\n",
       "==============================================================================\n",
       "\n",
       "Notes:\n",
       "[1] R² is computed without centering (uncentered) since the model does not contain a constant.\n",
       "[2] Standard Errors assume that the covariance matrix of the errors is correctly specified.\n",
       "\"\"\""
      ]
     },
     "execution_count": 125,
     "metadata": {},
     "output_type": "execute_result"
    }
   ],
   "source": [
    "regressor_OLS = sm.OLS(endog = y_train, exog = x_train).fit()\n",
    "regressor_OLS.summary()"
   ]
  },
  {
   "cell_type": "code",
   "execution_count": 126,
   "metadata": {
    "id": "Zo1KMMKsCDdo",
    "outputId": "8c15377a-97ad-4aa8-fdb1-5a404f9b1668"
   },
   "outputs": [
    {
     "name": "stderr",
     "output_type": "stream",
     "text": [
      "C:\\Users\\darkseid\\anaconda3\\lib\\site-packages\\pandas\\core\\frame.py:4308: SettingWithCopyWarning: \n",
      "A value is trying to be set on a copy of a slice from a DataFrame\n",
      "\n",
      "See the caveats in the documentation: https://pandas.pydata.org/pandas-docs/stable/user_guide/indexing.html#returning-a-view-versus-a-copy\n",
      "  return super().drop(\n"
     ]
    }
   ],
   "source": [
    "#Iteration 8\n",
    "#Removing the PromoCode_PRO with 0.849 P value\n",
    "x_train.drop('PromoCode_PRO', axis = 1, inplace = True)"
   ]
  },
  {
   "cell_type": "code",
   "execution_count": 127,
   "metadata": {
    "colab": {
     "base_uri": "https://localhost:8080/",
     "height": 614
    },
    "id": "kWKrY-jACGIm",
    "outputId": "f9b9d4e3-c02c-4351-ecee-65ea9abc926c"
   },
   "outputs": [
    {
     "data": {
      "text/html": [
       "<table class=\"simpletable\">\n",
       "<caption>OLS Regression Results</caption>\n",
       "<tr>\n",
       "  <th>Dep. Variable:</th>         <td>Rating</td>      <th>  R-squared (uncentered):</th>      <td>   0.944</td>\n",
       "</tr>\n",
       "<tr>\n",
       "  <th>Model:</th>                   <td>OLS</td>       <th>  Adj. R-squared (uncentered):</th> <td>   0.934</td>\n",
       "</tr>\n",
       "<tr>\n",
       "  <th>Method:</th>             <td>Least Squares</td>  <th>  F-statistic:       </th>          <td>   87.45</td>\n",
       "</tr>\n",
       "<tr>\n",
       "  <th>Date:</th>             <td>Sat, 01 Jan 2022</td> <th>  Prob (F-statistic):</th>          <td>1.15e-20</td>\n",
       "</tr>\n",
       "<tr>\n",
       "  <th>Time:</th>                 <td>23:42:31</td>     <th>  Log-Likelihood:    </th>          <td> -41.405</td>\n",
       "</tr>\n",
       "<tr>\n",
       "  <th>No. Observations:</th>      <td>    43</td>      <th>  AIC:               </th>          <td>   96.81</td>\n",
       "</tr>\n",
       "<tr>\n",
       "  <th>Df Residuals:</th>          <td>    36</td>      <th>  BIC:               </th>          <td>   109.1</td>\n",
       "</tr>\n",
       "<tr>\n",
       "  <th>Df Model:</th>              <td>     7</td>      <th>                     </th>              <td> </td>   \n",
       "</tr>\n",
       "<tr>\n",
       "  <th>Covariance Type:</th>      <td>nonrobust</td>    <th>                     </th>              <td> </td>   \n",
       "</tr>\n",
       "</table>\n",
       "<table class=\"simpletable\">\n",
       "<tr>\n",
       "           <td></td>             <th>coef</th>     <th>std err</th>      <th>t</th>      <th>P>|t|</th>  <th>[0.025</th>    <th>0.975]</th>  \n",
       "</tr>\n",
       "<tr>\n",
       "  <th>Distance</th>           <td>   -0.2471</td> <td>    0.341</td> <td>   -0.724</td> <td> 0.474</td> <td>   -0.939</td> <td>    0.445</td>\n",
       "</tr>\n",
       "<tr>\n",
       "  <th>Status</th>             <td>    2.2228</td> <td>    0.639</td> <td>    3.477</td> <td> 0.001</td> <td>    0.926</td> <td>    3.519</td>\n",
       "</tr>\n",
       "<tr>\n",
       "  <th>Delivery Time Mins</th> <td>    0.6190</td> <td>    0.836</td> <td>    0.740</td> <td> 0.464</td> <td>   -1.077</td> <td>    2.315</td>\n",
       "</tr>\n",
       "<tr>\n",
       "  <th>PromoCode_BF</th>       <td>    0.6603</td> <td>    0.483</td> <td>    1.368</td> <td> 0.180</td> <td>   -0.319</td> <td>    1.639</td>\n",
       "</tr>\n",
       "<tr>\n",
       "  <th>PaymentMode_WALLET</th> <td>    1.3817</td> <td>    0.332</td> <td>    4.168</td> <td> 0.000</td> <td>    0.709</td> <td>    2.054</td>\n",
       "</tr>\n",
       "<tr>\n",
       "  <th>Membership_NO</th>      <td>   -0.6211</td> <td>    0.299</td> <td>   -2.079</td> <td> 0.045</td> <td>   -1.227</td> <td>   -0.015</td>\n",
       "</tr>\n",
       "<tr>\n",
       "  <th>VEG</th>                <td>    0.2447</td> <td>    0.243</td> <td>    1.005</td> <td> 0.321</td> <td>   -0.249</td> <td>    0.738</td>\n",
       "</tr>\n",
       "</table>\n",
       "<table class=\"simpletable\">\n",
       "<tr>\n",
       "  <th>Omnibus:</th>       <td> 0.043</td> <th>  Durbin-Watson:     </th> <td>   1.989</td>\n",
       "</tr>\n",
       "<tr>\n",
       "  <th>Prob(Omnibus):</th> <td> 0.979</td> <th>  Jarque-Bera (JB):  </th> <td>   0.202</td>\n",
       "</tr>\n",
       "<tr>\n",
       "  <th>Skew:</th>          <td>-0.060</td> <th>  Prob(JB):          </th> <td>   0.904</td>\n",
       "</tr>\n",
       "<tr>\n",
       "  <th>Kurtosis:</th>      <td> 2.687</td> <th>  Cond. No.          </th> <td>    12.6</td>\n",
       "</tr>\n",
       "</table><br/><br/>Notes:<br/>[1] R² is computed without centering (uncentered) since the model does not contain a constant.<br/>[2] Standard Errors assume that the covariance matrix of the errors is correctly specified."
      ],
      "text/plain": [
       "<class 'statsmodels.iolib.summary.Summary'>\n",
       "\"\"\"\n",
       "                                 OLS Regression Results                                \n",
       "=======================================================================================\n",
       "Dep. Variable:                 Rating   R-squared (uncentered):                   0.944\n",
       "Model:                            OLS   Adj. R-squared (uncentered):              0.934\n",
       "Method:                 Least Squares   F-statistic:                              87.45\n",
       "Date:                Sat, 01 Jan 2022   Prob (F-statistic):                    1.15e-20\n",
       "Time:                        23:42:31   Log-Likelihood:                         -41.405\n",
       "No. Observations:                  43   AIC:                                      96.81\n",
       "Df Residuals:                      36   BIC:                                      109.1\n",
       "Df Model:                           7                                                  \n",
       "Covariance Type:            nonrobust                                                  \n",
       "======================================================================================\n",
       "                         coef    std err          t      P>|t|      [0.025      0.975]\n",
       "--------------------------------------------------------------------------------------\n",
       "Distance              -0.2471      0.341     -0.724      0.474      -0.939       0.445\n",
       "Status                 2.2228      0.639      3.477      0.001       0.926       3.519\n",
       "Delivery Time Mins     0.6190      0.836      0.740      0.464      -1.077       2.315\n",
       "PromoCode_BF           0.6603      0.483      1.368      0.180      -0.319       1.639\n",
       "PaymentMode_WALLET     1.3817      0.332      4.168      0.000       0.709       2.054\n",
       "Membership_NO         -0.6211      0.299     -2.079      0.045      -1.227      -0.015\n",
       "VEG                    0.2447      0.243      1.005      0.321      -0.249       0.738\n",
       "==============================================================================\n",
       "Omnibus:                        0.043   Durbin-Watson:                   1.989\n",
       "Prob(Omnibus):                  0.979   Jarque-Bera (JB):                0.202\n",
       "Skew:                          -0.060   Prob(JB):                        0.904\n",
       "Kurtosis:                       2.687   Cond. No.                         12.6\n",
       "==============================================================================\n",
       "\n",
       "Notes:\n",
       "[1] R² is computed without centering (uncentered) since the model does not contain a constant.\n",
       "[2] Standard Errors assume that the covariance matrix of the errors is correctly specified.\n",
       "\"\"\""
      ]
     },
     "execution_count": 127,
     "metadata": {},
     "output_type": "execute_result"
    }
   ],
   "source": [
    "regressor_OLS = sm.OLS(endog = y_train, exog = x_train).fit()\n",
    "regressor_OLS.summary()"
   ]
  },
  {
   "cell_type": "code",
   "execution_count": 128,
   "metadata": {
    "colab": {
     "base_uri": "https://localhost:8080/"
    },
    "id": "h6iPyr4QCIEq",
    "outputId": "bd1ba140-8201-4528-a1a0-48436683c2e7"
   },
   "outputs": [
    {
     "data": {
      "text/plain": [
       "Index(['Distance', 'Status', 'Cost', 'Delivery Time Mins', 'Paid Amount',\n",
       "       'PromoCode_BF', 'PromoCode_NPCA', 'PromoCode_PRO', 'PaymentMode_COD',\n",
       "       'PaymentMode_WALLET', 'Membership_BING', 'Membership_BONG',\n",
       "       'Membership_NO', 'MIX', 'NONVEG', 'VEG'],\n",
       "      dtype='object')"
      ]
     },
     "execution_count": 128,
     "metadata": {},
     "output_type": "execute_result"
    }
   ],
   "source": [
    "x_test.columns"
   ]
  },
  {
   "cell_type": "code",
   "execution_count": 129,
   "metadata": {
    "id": "pSaW6zM_CLxE",
    "outputId": "eaf3e890-2bbf-4aae-d059-1a1ce2905d57"
   },
   "outputs": [
    {
     "name": "stderr",
     "output_type": "stream",
     "text": [
      "C:\\Users\\darkseid\\anaconda3\\lib\\site-packages\\pandas\\core\\frame.py:4308: SettingWithCopyWarning: \n",
      "A value is trying to be set on a copy of a slice from a DataFrame\n",
      "\n",
      "See the caveats in the documentation: https://pandas.pydata.org/pandas-docs/stable/user_guide/indexing.html#returning-a-view-versus-a-copy\n",
      "  return super().drop(\n"
     ]
    }
   ],
   "source": [
    "x_test.drop(['Cost','Paid Amount','PromoCode_NPCA', 'PromoCode_PRO', 'PaymentMode_COD','Membership_BING', 'Membership_BONG','MIX', 'NONVEG'], axis = 1, inplace = True) "
   ]
  },
  {
   "cell_type": "code",
   "execution_count": 130,
   "metadata": {
    "colab": {
     "base_uri": "https://localhost:8080/",
     "height": 649
    },
    "id": "-uxqvlgeUaWF",
    "outputId": "be16e2de-db9a-47a7-9771-350f307c4b6e"
   },
   "outputs": [
    {
     "name": "stderr",
     "output_type": "stream",
     "text": [
      "C:\\Users\\darkseid\\anaconda3\\lib\\site-packages\\scipy\\stats\\stats.py:1603: UserWarning: kurtosistest only valid for n>=20 ... continuing anyway, n=11\n",
      "  warnings.warn(\"kurtosistest only valid for n>=20 ... continuing \"\n"
     ]
    },
    {
     "data": {
      "text/html": [
       "<table class=\"simpletable\">\n",
       "<caption>OLS Regression Results</caption>\n",
       "<tr>\n",
       "  <th>Dep. Variable:</th>         <td>Rating</td>      <th>  R-squared (uncentered):</th>      <td>   0.996</td>\n",
       "</tr>\n",
       "<tr>\n",
       "  <th>Model:</th>                   <td>OLS</td>       <th>  Adj. R-squared (uncentered):</th> <td>   0.988</td>\n",
       "</tr>\n",
       "<tr>\n",
       "  <th>Method:</th>             <td>Least Squares</td>  <th>  F-statistic:       </th>          <td>   127.5</td>\n",
       "</tr>\n",
       "<tr>\n",
       "  <th>Date:</th>             <td>Sat, 01 Jan 2022</td> <th>  Prob (F-statistic):</th>          <td>0.000156</td>\n",
       "</tr>\n",
       "<tr>\n",
       "  <th>Time:</th>                 <td>23:42:31</td>     <th>  Log-Likelihood:    </th>          <td>  1.1085</td>\n",
       "</tr>\n",
       "<tr>\n",
       "  <th>No. Observations:</th>      <td>    11</td>      <th>  AIC:               </th>          <td>   11.78</td>\n",
       "</tr>\n",
       "<tr>\n",
       "  <th>Df Residuals:</th>          <td>     4</td>      <th>  BIC:               </th>          <td>   14.57</td>\n",
       "</tr>\n",
       "<tr>\n",
       "  <th>Df Model:</th>              <td>     7</td>      <th>                     </th>              <td> </td>   \n",
       "</tr>\n",
       "<tr>\n",
       "  <th>Covariance Type:</th>      <td>nonrobust</td>    <th>                     </th>              <td> </td>   \n",
       "</tr>\n",
       "</table>\n",
       "<table class=\"simpletable\">\n",
       "<tr>\n",
       "           <td></td>             <th>coef</th>     <th>std err</th>      <th>t</th>      <th>P>|t|</th>  <th>[0.025</th>    <th>0.975]</th>  \n",
       "</tr>\n",
       "<tr>\n",
       "  <th>Distance</th>           <td>    0.1438</td> <td>    0.401</td> <td>    0.359</td> <td> 0.738</td> <td>   -0.969</td> <td>    1.256</td>\n",
       "</tr>\n",
       "<tr>\n",
       "  <th>Status</th>             <td>    3.5608</td> <td>    0.644</td> <td>    5.531</td> <td> 0.005</td> <td>    1.773</td> <td>    5.348</td>\n",
       "</tr>\n",
       "<tr>\n",
       "  <th>Delivery Time Mins</th> <td>   -0.6932</td> <td>    0.801</td> <td>   -0.865</td> <td> 0.436</td> <td>   -2.918</td> <td>    1.532</td>\n",
       "</tr>\n",
       "<tr>\n",
       "  <th>PromoCode_BF</th>       <td>    0.0530</td> <td>    0.499</td> <td>    0.106</td> <td> 0.921</td> <td>   -1.333</td> <td>    1.439</td>\n",
       "</tr>\n",
       "<tr>\n",
       "  <th>PaymentMode_WALLET</th> <td>    1.4962</td> <td>    0.363</td> <td>    4.125</td> <td> 0.015</td> <td>    0.489</td> <td>    2.503</td>\n",
       "</tr>\n",
       "<tr>\n",
       "  <th>Membership_NO</th>      <td>    0.0927</td> <td>    0.325</td> <td>    0.286</td> <td> 0.789</td> <td>   -0.809</td> <td>    0.994</td>\n",
       "</tr>\n",
       "<tr>\n",
       "  <th>VEG</th>                <td>   -0.1286</td> <td>    0.222</td> <td>   -0.579</td> <td> 0.594</td> <td>   -0.746</td> <td>    0.488</td>\n",
       "</tr>\n",
       "</table>\n",
       "<table class=\"simpletable\">\n",
       "<tr>\n",
       "  <th>Omnibus:</th>       <td> 6.429</td> <th>  Durbin-Watson:     </th> <td>   1.941</td>\n",
       "</tr>\n",
       "<tr>\n",
       "  <th>Prob(Omnibus):</th> <td> 0.040</td> <th>  Jarque-Bera (JB):  </th> <td>   2.525</td>\n",
       "</tr>\n",
       "<tr>\n",
       "  <th>Skew:</th>          <td>-0.467</td> <th>  Prob(JB):          </th> <td>   0.283</td>\n",
       "</tr>\n",
       "<tr>\n",
       "  <th>Kurtosis:</th>      <td> 5.153</td> <th>  Cond. No.          </th> <td>    11.9</td>\n",
       "</tr>\n",
       "</table><br/><br/>Notes:<br/>[1] R² is computed without centering (uncentered) since the model does not contain a constant.<br/>[2] Standard Errors assume that the covariance matrix of the errors is correctly specified."
      ],
      "text/plain": [
       "<class 'statsmodels.iolib.summary.Summary'>\n",
       "\"\"\"\n",
       "                                 OLS Regression Results                                \n",
       "=======================================================================================\n",
       "Dep. Variable:                 Rating   R-squared (uncentered):                   0.996\n",
       "Model:                            OLS   Adj. R-squared (uncentered):              0.988\n",
       "Method:                 Least Squares   F-statistic:                              127.5\n",
       "Date:                Sat, 01 Jan 2022   Prob (F-statistic):                    0.000156\n",
       "Time:                        23:42:31   Log-Likelihood:                          1.1085\n",
       "No. Observations:                  11   AIC:                                      11.78\n",
       "Df Residuals:                       4   BIC:                                      14.57\n",
       "Df Model:                           7                                                  \n",
       "Covariance Type:            nonrobust                                                  \n",
       "======================================================================================\n",
       "                         coef    std err          t      P>|t|      [0.025      0.975]\n",
       "--------------------------------------------------------------------------------------\n",
       "Distance               0.1438      0.401      0.359      0.738      -0.969       1.256\n",
       "Status                 3.5608      0.644      5.531      0.005       1.773       5.348\n",
       "Delivery Time Mins    -0.6932      0.801     -0.865      0.436      -2.918       1.532\n",
       "PromoCode_BF           0.0530      0.499      0.106      0.921      -1.333       1.439\n",
       "PaymentMode_WALLET     1.4962      0.363      4.125      0.015       0.489       2.503\n",
       "Membership_NO          0.0927      0.325      0.286      0.789      -0.809       0.994\n",
       "VEG                   -0.1286      0.222     -0.579      0.594      -0.746       0.488\n",
       "==============================================================================\n",
       "Omnibus:                        6.429   Durbin-Watson:                   1.941\n",
       "Prob(Omnibus):                  0.040   Jarque-Bera (JB):                2.525\n",
       "Skew:                          -0.467   Prob(JB):                        0.283\n",
       "Kurtosis:                       5.153   Cond. No.                         11.9\n",
       "==============================================================================\n",
       "\n",
       "Notes:\n",
       "[1] R² is computed without centering (uncentered) since the model does not contain a constant.\n",
       "[2] Standard Errors assume that the covariance matrix of the errors is correctly specified.\n",
       "\"\"\""
      ]
     },
     "execution_count": 130,
     "metadata": {},
     "output_type": "execute_result"
    }
   ],
   "source": [
    "regressor_OLS = sm.OLS(endog = y_test, exog = x_test).fit()\n",
    "regressor_OLS.summary()"
   ]
  },
  {
   "cell_type": "markdown",
   "metadata": {
    "id": "2b4H6SpF1Lf4"
   },
   "source": [
    "<b>Observations</b>"
   ]
  },
  {
   "cell_type": "markdown",
   "metadata": {
    "id": "UxZQzD2W1Lf4"
   },
   "source": [
    "Without using feature selection algorithm we got R-squared as 0.92. After using Feature selection algorithm we got R-Squared  as 0.996 which is more accurate than original model"
   ]
  },
  {
   "cell_type": "code",
   "execution_count": null,
   "metadata": {
    "id": "sIKyv5DY1Lf4"
   },
   "outputs": [],
   "source": []
  }
 ],
 "metadata": {
  "colab": {
   "collapsed_sections": [],
   "name": "FE_PROJECT_25.ipynb",
   "provenance": []
  },
  "kernelspec": {
   "display_name": "Python 3",
   "language": "python",
   "name": "python3"
  },
  "language_info": {
   "codemirror_mode": {
    "name": "ipython",
    "version": 3
   },
   "file_extension": ".py",
   "mimetype": "text/x-python",
   "name": "python",
   "nbconvert_exporter": "python",
   "pygments_lexer": "ipython3",
   "version": "3.8.8"
  }
 },
 "nbformat": 4,
 "nbformat_minor": 1
}
